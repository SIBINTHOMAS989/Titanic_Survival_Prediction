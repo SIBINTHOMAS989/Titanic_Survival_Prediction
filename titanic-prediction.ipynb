{
 "cells": [
  {
   "cell_type": "code",
   "execution_count": 1,
   "id": "2b6907e5",
   "metadata": {
    "_cell_guid": "b1076dfc-b9ad-4769-8c92-a6c4dae69d19",
    "_uuid": "8f2839f25d086af736a60e9eeb907d3b93b6e0e5",
    "execution": {
     "iopub.execute_input": "2022-02-24T15:40:45.731027Z",
     "iopub.status.busy": "2022-02-24T15:40:45.730265Z",
     "iopub.status.idle": "2022-02-24T15:40:46.879205Z",
     "shell.execute_reply": "2022-02-24T15:40:46.877302Z",
     "shell.execute_reply.started": "2022-02-24T15:20:10.844618Z"
    },
    "papermill": {
     "duration": 1.269333,
     "end_time": "2022-02-24T15:40:46.879570",
     "exception": false,
     "start_time": "2022-02-24T15:40:45.610237",
     "status": "completed"
    },
    "tags": []
   },
   "outputs": [
    {
     "name": "stdout",
     "output_type": "stream",
     "text": [
      "/kaggle/input/titanic/train.csv\n",
      "/kaggle/input/titanic/test.csv\n",
      "/kaggle/input/titanic/gender_submission.csv\n"
     ]
    }
   ],
   "source": [
    "\n",
    "import numpy as np\n",
    "import pandas as pd\n",
    "import seaborn as sns\n",
    "import scipy.stats as stat\n",
    "from sklearn.svm import SVC\n",
    "import matplotlib.pyplot as plt\n",
    "from sklearn.tree import DecisionTreeClassifier\n",
    "from sklearn.preprocessing import StandardScaler\n",
    "from sklearn.neural_network import MLPClassifier\n",
    "from sklearn.neighbors import KNeighborsClassifier\n",
    "from sklearn.preprocessing import PowerTransformer\n",
    "from sklearn.linear_model import LogisticRegression\n",
    "from sklearn.discriminant_analysis import LinearDiscriminantAnalysis\n",
    "from sklearn.model_selection import GridSearchCV, cross_val_score, StratifiedKFold, learning_curve\n",
    "from sklearn.ensemble import RandomForestClassifier, AdaBoostClassifier, GradientBoostingClassifier, ExtraTreesClassifier, VotingClassifier\n",
    "\n",
    "\n",
    "\n",
    "import os\n",
    "for dirname, _, filenames in os.walk('/kaggle/input'):\n",
    "    for filename in filenames:\n",
    "        print(os.path.join(dirname, filename))\n"
   ]
  },
  {
   "cell_type": "markdown",
   "id": "15c2af52",
   "metadata": {
    "papermill": {
     "duration": 0.174737,
     "end_time": "2022-02-24T15:40:47.255069",
     "exception": false,
     "start_time": "2022-02-24T15:40:47.080332",
     "status": "completed"
    },
    "tags": []
   },
   "source": [
    "# 0.LIBRARIES REQUIRED"
   ]
  },
  {
   "cell_type": "code",
   "execution_count": 2,
   "id": "e542cff6",
   "metadata": {
    "execution": {
     "iopub.execute_input": "2022-02-24T15:40:47.550471Z",
     "iopub.status.busy": "2022-02-24T15:40:47.549588Z",
     "iopub.status.idle": "2022-02-24T15:40:47.551365Z",
     "shell.execute_reply": "2022-02-24T15:40:47.551821Z",
     "shell.execute_reply.started": "2022-02-24T15:20:12.237189Z"
    },
    "papermill": {
     "duration": 0.129334,
     "end_time": "2022-02-24T15:40:47.551967",
     "exception": false,
     "start_time": "2022-02-24T15:40:47.422633",
     "status": "completed"
    },
    "tags": []
   },
   "outputs": [],
   "source": [
    "#Data Analysis\n",
    "import numpy as np\n",
    "import pandas as pd\n",
    "import scipy.stats as stat\n",
    "\n",
    "#Data Visualization\n",
    "import seaborn as sns\n",
    "import matplotlib.pyplot as plt\n",
    "\n",
    "#Data Preprocessing\n",
    "from sklearn.preprocessing import PowerTransformer\n",
    "from sklearn.preprocessing import StandardScaler\n",
    "import scipy.stats as stat\n",
    "\n",
    "#Model Creations\n",
    "from sklearn.tree import DecisionTreeClassifier\n",
    "from sklearn.neural_network import MLPClassifier\n",
    "from sklearn.neighbors import KNeighborsClassifier\n",
    "from sklearn.linear_model import LogisticRegression\n",
    "from sklearn.discriminant_analysis import LinearDiscriminantAnalysis\n",
    "\n",
    "#Model Validation \n",
    "from sklearn.model_selection import  cross_val_score, StratifiedKFold, learning_curve\n",
    "\n",
    "#Hyper Parameter Tuning\n",
    "from sklearn.model_selection import GridSearchCV\n"
   ]
  },
  {
   "cell_type": "code",
   "execution_count": 3,
   "id": "6e53a6ba",
   "metadata": {
    "execution": {
     "iopub.execute_input": "2022-02-24T15:40:47.760391Z",
     "iopub.status.busy": "2022-02-24T15:40:47.759684Z",
     "iopub.status.idle": "2022-02-24T15:40:47.782074Z",
     "shell.execute_reply": "2022-02-24T15:40:47.781531Z",
     "shell.execute_reply.started": "2022-02-24T15:20:12.252009Z"
    },
    "papermill": {
     "duration": 0.128295,
     "end_time": "2022-02-24T15:40:47.782189",
     "exception": false,
     "start_time": "2022-02-24T15:40:47.653894",
     "status": "completed"
    },
    "tags": []
   },
   "outputs": [],
   "source": [
    "train = pd.read_csv('/kaggle/input/titanic/train.csv')\n",
    "test = pd.read_csv('/kaggle/input/titanic/test.csv')"
   ]
  },
  {
   "cell_type": "code",
   "execution_count": 4,
   "id": "aa0811aa",
   "metadata": {
    "execution": {
     "iopub.execute_input": "2022-02-24T15:40:47.994733Z",
     "iopub.status.busy": "2022-02-24T15:40:47.994121Z",
     "iopub.status.idle": "2022-02-24T15:40:47.997165Z",
     "shell.execute_reply": "2022-02-24T15:40:47.997565Z",
     "shell.execute_reply.started": "2022-02-24T15:20:12.289907Z"
    },
    "papermill": {
     "duration": 0.112461,
     "end_time": "2022-02-24T15:40:47.997696",
     "exception": false,
     "start_time": "2022-02-24T15:40:47.885235",
     "status": "completed"
    },
    "tags": []
   },
   "outputs": [
    {
     "data": {
      "text/plain": [
       "((891, 12), (418, 11))"
      ]
     },
     "execution_count": 4,
     "metadata": {},
     "output_type": "execute_result"
    }
   ],
   "source": [
    "train.shape,test.shape"
   ]
  },
  {
   "cell_type": "code",
   "execution_count": 5,
   "id": "09450e6c",
   "metadata": {
    "execution": {
     "iopub.execute_input": "2022-02-24T15:40:48.214079Z",
     "iopub.status.busy": "2022-02-24T15:40:48.212498Z",
     "iopub.status.idle": "2022-02-24T15:40:48.231629Z",
     "shell.execute_reply": "2022-02-24T15:40:48.231055Z",
     "shell.execute_reply.started": "2022-02-24T15:20:12.304360Z"
    },
    "papermill": {
     "duration": 0.129464,
     "end_time": "2022-02-24T15:40:48.231799",
     "exception": false,
     "start_time": "2022-02-24T15:40:48.102335",
     "status": "completed"
    },
    "tags": []
   },
   "outputs": [
    {
     "name": "stdout",
     "output_type": "stream",
     "text": [
      "<class 'pandas.core.frame.DataFrame'>\n",
      "RangeIndex: 891 entries, 0 to 890\n",
      "Data columns (total 12 columns):\n",
      " #   Column       Non-Null Count  Dtype  \n",
      "---  ------       --------------  -----  \n",
      " 0   PassengerId  891 non-null    int64  \n",
      " 1   Survived     891 non-null    int64  \n",
      " 2   Pclass       891 non-null    int64  \n",
      " 3   Name         891 non-null    object \n",
      " 4   Sex          891 non-null    object \n",
      " 5   Age          714 non-null    float64\n",
      " 6   SibSp        891 non-null    int64  \n",
      " 7   Parch        891 non-null    int64  \n",
      " 8   Ticket       891 non-null    object \n",
      " 9   Fare         891 non-null    float64\n",
      " 10  Cabin        204 non-null    object \n",
      " 11  Embarked     889 non-null    object \n",
      "dtypes: float64(2), int64(5), object(5)\n",
      "memory usage: 83.7+ KB\n"
     ]
    }
   ],
   "source": [
    "train.info() #to check the type of data int/float, and the vogue idea about null values"
   ]
  },
  {
   "cell_type": "code",
   "execution_count": 6,
   "id": "fe65bc8b",
   "metadata": {
    "execution": {
     "iopub.execute_input": "2022-02-24T15:40:48.449923Z",
     "iopub.status.busy": "2022-02-24T15:40:48.449384Z",
     "iopub.status.idle": "2022-02-24T15:40:48.454299Z",
     "shell.execute_reply": "2022-02-24T15:40:48.455210Z",
     "shell.execute_reply.started": "2022-02-24T15:20:12.338812Z"
    },
    "papermill": {
     "duration": 0.119365,
     "end_time": "2022-02-24T15:40:48.455378",
     "exception": false,
     "start_time": "2022-02-24T15:40:48.336013",
     "status": "completed"
    },
    "tags": []
   },
   "outputs": [
    {
     "name": "stdout",
     "output_type": "stream",
     "text": [
      "<class 'pandas.core.frame.DataFrame'>\n",
      "RangeIndex: 418 entries, 0 to 417\n",
      "Data columns (total 11 columns):\n",
      " #   Column       Non-Null Count  Dtype  \n",
      "---  ------       --------------  -----  \n",
      " 0   PassengerId  418 non-null    int64  \n",
      " 1   Pclass       418 non-null    int64  \n",
      " 2   Name         418 non-null    object \n",
      " 3   Sex          418 non-null    object \n",
      " 4   Age          332 non-null    float64\n",
      " 5   SibSp        418 non-null    int64  \n",
      " 6   Parch        418 non-null    int64  \n",
      " 7   Ticket       418 non-null    object \n",
      " 8   Fare         417 non-null    float64\n",
      " 9   Cabin        91 non-null     object \n",
      " 10  Embarked     418 non-null    object \n",
      "dtypes: float64(2), int64(4), object(5)\n",
      "memory usage: 36.0+ KB\n"
     ]
    }
   ],
   "source": [
    "test.info()  #to check the type of data int/float, and the vogue idea about null values"
   ]
  },
  {
   "cell_type": "code",
   "execution_count": 7,
   "id": "8bc726d3",
   "metadata": {
    "execution": {
     "iopub.execute_input": "2022-02-24T15:40:48.668380Z",
     "iopub.status.busy": "2022-02-24T15:40:48.667679Z",
     "iopub.status.idle": "2022-02-24T15:40:48.681903Z",
     "shell.execute_reply": "2022-02-24T15:40:48.681477Z",
     "shell.execute_reply.started": "2022-02-24T15:20:12.358406Z"
    },
    "papermill": {
     "duration": 0.122139,
     "end_time": "2022-02-24T15:40:48.682036",
     "exception": false,
     "start_time": "2022-02-24T15:40:48.559897",
     "status": "completed"
    },
    "tags": []
   },
   "outputs": [
    {
     "data": {
      "text/html": [
       "<div>\n",
       "<style scoped>\n",
       "    .dataframe tbody tr th:only-of-type {\n",
       "        vertical-align: middle;\n",
       "    }\n",
       "\n",
       "    .dataframe tbody tr th {\n",
       "        vertical-align: top;\n",
       "    }\n",
       "\n",
       "    .dataframe thead th {\n",
       "        text-align: right;\n",
       "    }\n",
       "</style>\n",
       "<table border=\"1\" class=\"dataframe\">\n",
       "  <thead>\n",
       "    <tr style=\"text-align: right;\">\n",
       "      <th></th>\n",
       "      <th>PassengerId</th>\n",
       "      <th>Survived</th>\n",
       "      <th>Pclass</th>\n",
       "      <th>Name</th>\n",
       "      <th>Sex</th>\n",
       "      <th>Age</th>\n",
       "      <th>SibSp</th>\n",
       "      <th>Parch</th>\n",
       "      <th>Ticket</th>\n",
       "      <th>Fare</th>\n",
       "      <th>Cabin</th>\n",
       "      <th>Embarked</th>\n",
       "    </tr>\n",
       "  </thead>\n",
       "  <tbody>\n",
       "    <tr>\n",
       "      <th>0</th>\n",
       "      <td>1</td>\n",
       "      <td>0</td>\n",
       "      <td>3</td>\n",
       "      <td>Braund, Mr. Owen Harris</td>\n",
       "      <td>male</td>\n",
       "      <td>22.0</td>\n",
       "      <td>1</td>\n",
       "      <td>0</td>\n",
       "      <td>A/5 21171</td>\n",
       "      <td>7.2500</td>\n",
       "      <td>NaN</td>\n",
       "      <td>S</td>\n",
       "    </tr>\n",
       "    <tr>\n",
       "      <th>1</th>\n",
       "      <td>2</td>\n",
       "      <td>1</td>\n",
       "      <td>1</td>\n",
       "      <td>Cumings, Mrs. John Bradley (Florence Briggs Th...</td>\n",
       "      <td>female</td>\n",
       "      <td>38.0</td>\n",
       "      <td>1</td>\n",
       "      <td>0</td>\n",
       "      <td>PC 17599</td>\n",
       "      <td>71.2833</td>\n",
       "      <td>C85</td>\n",
       "      <td>C</td>\n",
       "    </tr>\n",
       "    <tr>\n",
       "      <th>2</th>\n",
       "      <td>3</td>\n",
       "      <td>1</td>\n",
       "      <td>3</td>\n",
       "      <td>Heikkinen, Miss. Laina</td>\n",
       "      <td>female</td>\n",
       "      <td>26.0</td>\n",
       "      <td>0</td>\n",
       "      <td>0</td>\n",
       "      <td>STON/O2. 3101282</td>\n",
       "      <td>7.9250</td>\n",
       "      <td>NaN</td>\n",
       "      <td>S</td>\n",
       "    </tr>\n",
       "    <tr>\n",
       "      <th>3</th>\n",
       "      <td>4</td>\n",
       "      <td>1</td>\n",
       "      <td>1</td>\n",
       "      <td>Futrelle, Mrs. Jacques Heath (Lily May Peel)</td>\n",
       "      <td>female</td>\n",
       "      <td>35.0</td>\n",
       "      <td>1</td>\n",
       "      <td>0</td>\n",
       "      <td>113803</td>\n",
       "      <td>53.1000</td>\n",
       "      <td>C123</td>\n",
       "      <td>S</td>\n",
       "    </tr>\n",
       "  </tbody>\n",
       "</table>\n",
       "</div>"
      ],
      "text/plain": [
       "   PassengerId  Survived  Pclass  \\\n",
       "0            1         0       3   \n",
       "1            2         1       1   \n",
       "2            3         1       3   \n",
       "3            4         1       1   \n",
       "\n",
       "                                                Name     Sex   Age  SibSp  \\\n",
       "0                            Braund, Mr. Owen Harris    male  22.0      1   \n",
       "1  Cumings, Mrs. John Bradley (Florence Briggs Th...  female  38.0      1   \n",
       "2                             Heikkinen, Miss. Laina  female  26.0      0   \n",
       "3       Futrelle, Mrs. Jacques Heath (Lily May Peel)  female  35.0      1   \n",
       "\n",
       "   Parch            Ticket     Fare Cabin Embarked  \n",
       "0      0         A/5 21171   7.2500   NaN        S  \n",
       "1      0          PC 17599  71.2833   C85        C  \n",
       "2      0  STON/O2. 3101282   7.9250   NaN        S  \n",
       "3      0            113803  53.1000  C123        S  "
      ]
     },
     "execution_count": 7,
     "metadata": {},
     "output_type": "execute_result"
    }
   ],
   "source": [
    "train.head(4)"
   ]
  },
  {
   "cell_type": "code",
   "execution_count": 8,
   "id": "a99e1423",
   "metadata": {
    "execution": {
     "iopub.execute_input": "2022-02-24T15:40:48.902469Z",
     "iopub.status.busy": "2022-02-24T15:40:48.901634Z",
     "iopub.status.idle": "2022-02-24T15:40:48.904608Z",
     "shell.execute_reply": "2022-02-24T15:40:48.905034Z",
     "shell.execute_reply.started": "2022-02-24T15:20:12.386931Z"
    },
    "papermill": {
     "duration": 0.119214,
     "end_time": "2022-02-24T15:40:48.905167",
     "exception": false,
     "start_time": "2022-02-24T15:40:48.785953",
     "status": "completed"
    },
    "tags": []
   },
   "outputs": [
    {
     "data": {
      "text/html": [
       "<div>\n",
       "<style scoped>\n",
       "    .dataframe tbody tr th:only-of-type {\n",
       "        vertical-align: middle;\n",
       "    }\n",
       "\n",
       "    .dataframe tbody tr th {\n",
       "        vertical-align: top;\n",
       "    }\n",
       "\n",
       "    .dataframe thead th {\n",
       "        text-align: right;\n",
       "    }\n",
       "</style>\n",
       "<table border=\"1\" class=\"dataframe\">\n",
       "  <thead>\n",
       "    <tr style=\"text-align: right;\">\n",
       "      <th></th>\n",
       "      <th>PassengerId</th>\n",
       "      <th>Pclass</th>\n",
       "      <th>Name</th>\n",
       "      <th>Sex</th>\n",
       "      <th>Age</th>\n",
       "      <th>SibSp</th>\n",
       "      <th>Parch</th>\n",
       "      <th>Ticket</th>\n",
       "      <th>Fare</th>\n",
       "      <th>Cabin</th>\n",
       "      <th>Embarked</th>\n",
       "    </tr>\n",
       "  </thead>\n",
       "  <tbody>\n",
       "    <tr>\n",
       "      <th>0</th>\n",
       "      <td>892</td>\n",
       "      <td>3</td>\n",
       "      <td>Kelly, Mr. James</td>\n",
       "      <td>male</td>\n",
       "      <td>34.5</td>\n",
       "      <td>0</td>\n",
       "      <td>0</td>\n",
       "      <td>330911</td>\n",
       "      <td>7.8292</td>\n",
       "      <td>NaN</td>\n",
       "      <td>Q</td>\n",
       "    </tr>\n",
       "    <tr>\n",
       "      <th>1</th>\n",
       "      <td>893</td>\n",
       "      <td>3</td>\n",
       "      <td>Wilkes, Mrs. James (Ellen Needs)</td>\n",
       "      <td>female</td>\n",
       "      <td>47.0</td>\n",
       "      <td>1</td>\n",
       "      <td>0</td>\n",
       "      <td>363272</td>\n",
       "      <td>7.0000</td>\n",
       "      <td>NaN</td>\n",
       "      <td>S</td>\n",
       "    </tr>\n",
       "    <tr>\n",
       "      <th>2</th>\n",
       "      <td>894</td>\n",
       "      <td>2</td>\n",
       "      <td>Myles, Mr. Thomas Francis</td>\n",
       "      <td>male</td>\n",
       "      <td>62.0</td>\n",
       "      <td>0</td>\n",
       "      <td>0</td>\n",
       "      <td>240276</td>\n",
       "      <td>9.6875</td>\n",
       "      <td>NaN</td>\n",
       "      <td>Q</td>\n",
       "    </tr>\n",
       "    <tr>\n",
       "      <th>3</th>\n",
       "      <td>895</td>\n",
       "      <td>3</td>\n",
       "      <td>Wirz, Mr. Albert</td>\n",
       "      <td>male</td>\n",
       "      <td>27.0</td>\n",
       "      <td>0</td>\n",
       "      <td>0</td>\n",
       "      <td>315154</td>\n",
       "      <td>8.6625</td>\n",
       "      <td>NaN</td>\n",
       "      <td>S</td>\n",
       "    </tr>\n",
       "  </tbody>\n",
       "</table>\n",
       "</div>"
      ],
      "text/plain": [
       "   PassengerId  Pclass                              Name     Sex   Age  SibSp  \\\n",
       "0          892       3                  Kelly, Mr. James    male  34.5      0   \n",
       "1          893       3  Wilkes, Mrs. James (Ellen Needs)  female  47.0      1   \n",
       "2          894       2         Myles, Mr. Thomas Francis    male  62.0      0   \n",
       "3          895       3                  Wirz, Mr. Albert    male  27.0      0   \n",
       "\n",
       "   Parch  Ticket    Fare Cabin Embarked  \n",
       "0      0  330911  7.8292   NaN        Q  \n",
       "1      0  363272  7.0000   NaN        S  \n",
       "2      0  240276  9.6875   NaN        Q  \n",
       "3      0  315154  8.6625   NaN        S  "
      ]
     },
     "execution_count": 8,
     "metadata": {},
     "output_type": "execute_result"
    }
   ],
   "source": [
    "test.head(4)"
   ]
  },
  {
   "cell_type": "code",
   "execution_count": 9,
   "id": "5ce39edd",
   "metadata": {
    "execution": {
     "iopub.execute_input": "2022-02-24T15:40:49.118720Z",
     "iopub.status.busy": "2022-02-24T15:40:49.116499Z",
     "iopub.status.idle": "2022-02-24T15:40:49.142159Z",
     "shell.execute_reply": "2022-02-24T15:40:49.141665Z",
     "shell.execute_reply.started": "2022-02-24T15:20:12.406496Z"
    },
    "papermill": {
     "duration": 0.133557,
     "end_time": "2022-02-24T15:40:49.142278",
     "exception": false,
     "start_time": "2022-02-24T15:40:49.008721",
     "status": "completed"
    },
    "tags": []
   },
   "outputs": [
    {
     "data": {
      "text/html": [
       "<div>\n",
       "<style scoped>\n",
       "    .dataframe tbody tr th:only-of-type {\n",
       "        vertical-align: middle;\n",
       "    }\n",
       "\n",
       "    .dataframe tbody tr th {\n",
       "        vertical-align: top;\n",
       "    }\n",
       "\n",
       "    .dataframe thead th {\n",
       "        text-align: right;\n",
       "    }\n",
       "</style>\n",
       "<table border=\"1\" class=\"dataframe\">\n",
       "  <thead>\n",
       "    <tr style=\"text-align: right;\">\n",
       "      <th></th>\n",
       "      <th>PassengerId</th>\n",
       "      <th>Survived</th>\n",
       "      <th>Pclass</th>\n",
       "      <th>Age</th>\n",
       "      <th>SibSp</th>\n",
       "      <th>Parch</th>\n",
       "      <th>Fare</th>\n",
       "    </tr>\n",
       "  </thead>\n",
       "  <tbody>\n",
       "    <tr>\n",
       "      <th>count</th>\n",
       "      <td>891.000000</td>\n",
       "      <td>891.000000</td>\n",
       "      <td>891.000000</td>\n",
       "      <td>714.000000</td>\n",
       "      <td>891.000000</td>\n",
       "      <td>891.000000</td>\n",
       "      <td>891.000000</td>\n",
       "    </tr>\n",
       "    <tr>\n",
       "      <th>mean</th>\n",
       "      <td>446.000000</td>\n",
       "      <td>0.383838</td>\n",
       "      <td>2.308642</td>\n",
       "      <td>29.699118</td>\n",
       "      <td>0.523008</td>\n",
       "      <td>0.381594</td>\n",
       "      <td>32.204208</td>\n",
       "    </tr>\n",
       "    <tr>\n",
       "      <th>std</th>\n",
       "      <td>257.353842</td>\n",
       "      <td>0.486592</td>\n",
       "      <td>0.836071</td>\n",
       "      <td>14.526497</td>\n",
       "      <td>1.102743</td>\n",
       "      <td>0.806057</td>\n",
       "      <td>49.693429</td>\n",
       "    </tr>\n",
       "    <tr>\n",
       "      <th>min</th>\n",
       "      <td>1.000000</td>\n",
       "      <td>0.000000</td>\n",
       "      <td>1.000000</td>\n",
       "      <td>0.420000</td>\n",
       "      <td>0.000000</td>\n",
       "      <td>0.000000</td>\n",
       "      <td>0.000000</td>\n",
       "    </tr>\n",
       "    <tr>\n",
       "      <th>25%</th>\n",
       "      <td>223.500000</td>\n",
       "      <td>0.000000</td>\n",
       "      <td>2.000000</td>\n",
       "      <td>20.125000</td>\n",
       "      <td>0.000000</td>\n",
       "      <td>0.000000</td>\n",
       "      <td>7.910400</td>\n",
       "    </tr>\n",
       "    <tr>\n",
       "      <th>50%</th>\n",
       "      <td>446.000000</td>\n",
       "      <td>0.000000</td>\n",
       "      <td>3.000000</td>\n",
       "      <td>28.000000</td>\n",
       "      <td>0.000000</td>\n",
       "      <td>0.000000</td>\n",
       "      <td>14.454200</td>\n",
       "    </tr>\n",
       "    <tr>\n",
       "      <th>75%</th>\n",
       "      <td>668.500000</td>\n",
       "      <td>1.000000</td>\n",
       "      <td>3.000000</td>\n",
       "      <td>38.000000</td>\n",
       "      <td>1.000000</td>\n",
       "      <td>0.000000</td>\n",
       "      <td>31.000000</td>\n",
       "    </tr>\n",
       "    <tr>\n",
       "      <th>max</th>\n",
       "      <td>891.000000</td>\n",
       "      <td>1.000000</td>\n",
       "      <td>3.000000</td>\n",
       "      <td>80.000000</td>\n",
       "      <td>8.000000</td>\n",
       "      <td>6.000000</td>\n",
       "      <td>512.329200</td>\n",
       "    </tr>\n",
       "  </tbody>\n",
       "</table>\n",
       "</div>"
      ],
      "text/plain": [
       "       PassengerId    Survived      Pclass         Age       SibSp  \\\n",
       "count   891.000000  891.000000  891.000000  714.000000  891.000000   \n",
       "mean    446.000000    0.383838    2.308642   29.699118    0.523008   \n",
       "std     257.353842    0.486592    0.836071   14.526497    1.102743   \n",
       "min       1.000000    0.000000    1.000000    0.420000    0.000000   \n",
       "25%     223.500000    0.000000    2.000000   20.125000    0.000000   \n",
       "50%     446.000000    0.000000    3.000000   28.000000    0.000000   \n",
       "75%     668.500000    1.000000    3.000000   38.000000    1.000000   \n",
       "max     891.000000    1.000000    3.000000   80.000000    8.000000   \n",
       "\n",
       "            Parch        Fare  \n",
       "count  891.000000  891.000000  \n",
       "mean     0.381594   32.204208  \n",
       "std      0.806057   49.693429  \n",
       "min      0.000000    0.000000  \n",
       "25%      0.000000    7.910400  \n",
       "50%      0.000000   14.454200  \n",
       "75%      0.000000   31.000000  \n",
       "max      6.000000  512.329200  "
      ]
     },
     "execution_count": 9,
     "metadata": {},
     "output_type": "execute_result"
    }
   ],
   "source": [
    "train.describe()"
   ]
  },
  {
   "cell_type": "markdown",
   "id": "6ca727b8",
   "metadata": {
    "papermill": {
     "duration": 0.103537,
     "end_time": "2022-02-24T15:40:49.355913",
     "exception": false,
     "start_time": "2022-02-24T15:40:49.252376",
     "status": "completed"
    },
    "tags": []
   },
   "source": [
    "# 1.EXPLORATORY DATA ANALYSIS (EDA)"
   ]
  },
  {
   "cell_type": "markdown",
   "id": "0f66b428",
   "metadata": {
    "execution": {
     "iopub.execute_input": "2021-11-11T06:36:17.866703Z",
     "iopub.status.busy": "2021-11-11T06:36:17.866376Z",
     "iopub.status.idle": "2021-11-11T06:36:17.870298Z",
     "shell.execute_reply": "2021-11-11T06:36:17.869537Z",
     "shell.execute_reply.started": "2021-11-11T06:36:17.866668Z"
    },
    "papermill": {
     "duration": 0.104738,
     "end_time": "2022-02-24T15:40:49.566797",
     "exception": false,
     "start_time": "2022-02-24T15:40:49.462059",
     "status": "completed"
    },
    "tags": []
   },
   "source": [
    "## EDA (Catagorical Features)"
   ]
  },
  {
   "cell_type": "code",
   "execution_count": 10,
   "id": "e6bb9de5",
   "metadata": {
    "execution": {
     "iopub.execute_input": "2022-02-24T15:40:49.784596Z",
     "iopub.status.busy": "2022-02-24T15:40:49.783753Z",
     "iopub.status.idle": "2022-02-24T15:40:49.786185Z",
     "shell.execute_reply": "2022-02-24T15:40:49.785739Z",
     "shell.execute_reply.started": "2022-02-24T15:20:12.452800Z"
    },
    "papermill": {
     "duration": 0.111109,
     "end_time": "2022-02-24T15:40:49.786303",
     "exception": false,
     "start_time": "2022-02-24T15:40:49.675194",
     "status": "completed"
    },
    "tags": []
   },
   "outputs": [],
   "source": [
    "#quant_features=train.select_dtypes(exclude=['object']).columns\n",
    "#cat_features=train.select_dtypes(include=['object']).columns\n",
    "quant_feature=['Age','SibSp','Parch','Fare']\n",
    "cat_features=['Pclass','Sex','Embarked','Ticket','Cabin','Survived']"
   ]
  },
  {
   "cell_type": "code",
   "execution_count": 11,
   "id": "09e11bce",
   "metadata": {
    "execution": {
     "iopub.execute_input": "2022-02-24T15:40:50.000335Z",
     "iopub.status.busy": "2022-02-24T15:40:49.999533Z",
     "iopub.status.idle": "2022-02-24T15:40:50.001931Z",
     "shell.execute_reply": "2022-02-24T15:40:50.001495Z",
     "shell.execute_reply.started": "2022-02-24T15:20:12.462064Z"
    },
    "papermill": {
     "duration": 0.109856,
     "end_time": "2022-02-24T15:40:50.002060",
     "exception": false,
     "start_time": "2022-02-24T15:40:49.892204",
     "status": "completed"
    },
    "tags": []
   },
   "outputs": [],
   "source": [
    "# for i in cat_features:\n",
    "#     #sns.countplot(x=i,data=train)\n",
    "#     sns.countplot(x=i,data=train,hue='Survived')\n",
    "#     plt.show()\n",
    "#     sns.barplot(x=i,y='Survived',data=train)\n",
    "#     plt.show()"
   ]
  },
  {
   "cell_type": "markdown",
   "id": "a5a503d3",
   "metadata": {
    "papermill": {
     "duration": 0.104129,
     "end_time": "2022-02-24T15:40:50.211264",
     "exception": false,
     "start_time": "2022-02-24T15:40:50.107135",
     "status": "completed"
    },
    "tags": []
   },
   "source": [
    "## EDA Numerical Features"
   ]
  },
  {
   "cell_type": "code",
   "execution_count": 12,
   "id": "22f3d2db",
   "metadata": {
    "execution": {
     "iopub.execute_input": "2022-02-24T15:40:50.423049Z",
     "iopub.status.busy": "2022-02-24T15:40:50.422504Z",
     "iopub.status.idle": "2022-02-24T15:40:50.425793Z",
     "shell.execute_reply": "2022-02-24T15:40:50.426196Z",
     "shell.execute_reply.started": "2022-02-24T15:20:12.482320Z"
    },
    "papermill": {
     "duration": 0.11049,
     "end_time": "2022-02-24T15:40:50.426320",
     "exception": false,
     "start_time": "2022-02-24T15:40:50.315830",
     "status": "completed"
    },
    "tags": []
   },
   "outputs": [],
   "source": [
    "#Check the disturbution of quantiative data and might be required to standardize/normalize it , "
   ]
  },
  {
   "cell_type": "code",
   "execution_count": 13,
   "id": "d83a19d7",
   "metadata": {
    "execution": {
     "iopub.execute_input": "2022-02-24T15:40:50.648614Z",
     "iopub.status.busy": "2022-02-24T15:40:50.647609Z",
     "iopub.status.idle": "2022-02-24T15:40:51.725739Z",
     "shell.execute_reply": "2022-02-24T15:40:51.725309Z",
     "shell.execute_reply.started": "2022-02-24T15:20:12.492019Z"
    },
    "papermill": {
     "duration": 1.194956,
     "end_time": "2022-02-24T15:40:51.725891",
     "exception": false,
     "start_time": "2022-02-24T15:40:50.530935",
     "status": "completed"
    },
    "tags": []
   },
   "outputs": [
    {
     "data": {
      "image/png": "[encoded data removed]",
      "text/plain": [
       "<Figure size 432x288 with 1 Axes>"
      ]
     },
     "metadata": {
      "needs_background": "light"
     },
     "output_type": "display_data"
    },
    {
     "data": {
      "image/png": "[encoded data removed]",
      "text/plain": [
       "<Figure size 432x288 with 1 Axes>"
      ]
     },
     "metadata": {
      "needs_background": "light"
     },
     "output_type": "display_data"
    },
    {
     "data": {
      "image/png": "[encoded data removed]",
      "text/plain": [
       "<Figure size 432x288 with 1 Axes>"
      ]
     },
     "metadata": {
      "needs_background": "light"
     },
     "output_type": "display_data"
    },
    {
     "data": {
      "image/png": "[encoded data removed]",
      "text/plain": [
       "<Figure size 432x288 with 1 Axes>"
      ]
     },
     "metadata": {
      "needs_background": "light"
     },
     "output_type": "display_data"
    }
   ],
   "source": [
    "for i in quant_feature:\n",
    "    sns.histplot(train[i])\n",
    "    plt.show()\n",
    "    "
   ]
  },
  {
   "cell_type": "code",
   "execution_count": 14,
   "id": "b2b05ac1",
   "metadata": {
    "execution": {
     "iopub.execute_input": "2022-02-24T15:40:51.965901Z",
     "iopub.status.busy": "2022-02-24T15:40:51.946007Z",
     "iopub.status.idle": "2022-02-24T15:40:52.197860Z",
     "shell.execute_reply": "2022-02-24T15:40:52.197424Z",
     "shell.execute_reply.started": "2022-02-24T15:20:14.043782Z"
    },
    "papermill": {
     "duration": 0.364837,
     "end_time": "2022-02-24T15:40:52.197994",
     "exception": false,
     "start_time": "2022-02-24T15:40:51.833157",
     "status": "completed"
    },
    "tags": []
   },
   "outputs": [
    {
     "data": {
      "text/plain": [
       "<AxesSubplot:>"
      ]
     },
     "execution_count": 14,
     "metadata": {},
     "output_type": "execute_result"
    },
    {
     "data": {
      "image/png": "[encoded data removed]",
      "text/plain": [
       "<Figure size 432x288 with 2 Axes>"
      ]
     },
     "metadata": {
      "needs_background": "light"
     },
     "output_type": "display_data"
    }
   ],
   "source": [
    "#heatmap to check the correclation between the featues , \n",
    "#if it is highly correlated we have to ignore one of the feature\n",
    "sns.heatmap(train[quant_feature].corr(),annot=True)  "
   ]
  },
  {
   "cell_type": "code",
   "execution_count": 15,
   "id": "69495e8d",
   "metadata": {
    "execution": {
     "iopub.execute_input": "2022-02-24T15:40:52.426934Z",
     "iopub.status.busy": "2022-02-24T15:40:52.423912Z",
     "iopub.status.idle": "2022-02-24T15:40:52.439751Z",
     "shell.execute_reply": "2022-02-24T15:40:52.439333Z",
     "shell.execute_reply.started": "2022-02-24T15:20:14.377226Z"
    },
    "papermill": {
     "duration": 0.132675,
     "end_time": "2022-02-24T15:40:52.439888",
     "exception": false,
     "start_time": "2022-02-24T15:40:52.307213",
     "status": "completed"
    },
    "tags": []
   },
   "outputs": [
    {
     "data": {
      "text/html": [
       "<div>\n",
       "<style scoped>\n",
       "    .dataframe tbody tr th:only-of-type {\n",
       "        vertical-align: middle;\n",
       "    }\n",
       "\n",
       "    .dataframe tbody tr th {\n",
       "        vertical-align: top;\n",
       "    }\n",
       "\n",
       "    .dataframe thead th {\n",
       "        text-align: right;\n",
       "    }\n",
       "</style>\n",
       "<table border=\"1\" class=\"dataframe\">\n",
       "  <thead>\n",
       "    <tr style=\"text-align: right;\">\n",
       "      <th></th>\n",
       "      <th>Age</th>\n",
       "      <th>Fare</th>\n",
       "      <th>Parch</th>\n",
       "      <th>SibSp</th>\n",
       "    </tr>\n",
       "    <tr>\n",
       "      <th>Survived</th>\n",
       "      <th></th>\n",
       "      <th></th>\n",
       "      <th></th>\n",
       "      <th></th>\n",
       "    </tr>\n",
       "  </thead>\n",
       "  <tbody>\n",
       "    <tr>\n",
       "      <th>0</th>\n",
       "      <td>30.626179</td>\n",
       "      <td>22.117887</td>\n",
       "      <td>0.329690</td>\n",
       "      <td>0.553734</td>\n",
       "    </tr>\n",
       "    <tr>\n",
       "      <th>1</th>\n",
       "      <td>28.343690</td>\n",
       "      <td>48.395408</td>\n",
       "      <td>0.464912</td>\n",
       "      <td>0.473684</td>\n",
       "    </tr>\n",
       "  </tbody>\n",
       "</table>\n",
       "</div>"
      ],
      "text/plain": [
       "                Age       Fare     Parch     SibSp\n",
       "Survived                                          \n",
       "0         30.626179  22.117887  0.329690  0.553734\n",
       "1         28.343690  48.395408  0.464912  0.473684"
      ]
     },
     "execution_count": 15,
     "metadata": {},
     "output_type": "execute_result"
    }
   ],
   "source": [
    "x=pd.pivot_table(train,index='Survived',values=quant_feature)\n",
    "x"
   ]
  },
  {
   "cell_type": "code",
   "execution_count": 16,
   "id": "e2b7b912",
   "metadata": {
    "execution": {
     "iopub.execute_input": "2022-02-24T15:40:52.663965Z",
     "iopub.status.busy": "2022-02-24T15:40:52.663104Z",
     "iopub.status.idle": "2022-02-24T15:40:52.664857Z",
     "shell.execute_reply": "2022-02-24T15:40:52.665293Z",
     "shell.execute_reply.started": "2022-02-24T15:20:14.408356Z"
    },
    "papermill": {
     "duration": 0.115688,
     "end_time": "2022-02-24T15:40:52.665420",
     "exception": false,
     "start_time": "2022-02-24T15:40:52.549732",
     "status": "completed"
    },
    "tags": []
   },
   "outputs": [],
   "source": [
    "group_survival=train.groupby(['Survived','Pclass'])"
   ]
  },
  {
   "cell_type": "code",
   "execution_count": 17,
   "id": "5b6ed11d",
   "metadata": {
    "execution": {
     "iopub.execute_input": "2022-02-24T15:40:52.896551Z",
     "iopub.status.busy": "2022-02-24T15:40:52.890343Z",
     "iopub.status.idle": "2022-02-24T15:40:52.899179Z",
     "shell.execute_reply": "2022-02-24T15:40:52.899580Z",
     "shell.execute_reply.started": "2022-02-24T15:20:14.416586Z"
    },
    "papermill": {
     "duration": 0.12506,
     "end_time": "2022-02-24T15:40:52.899710",
     "exception": false,
     "start_time": "2022-02-24T15:40:52.774650",
     "status": "completed"
    },
    "tags": []
   },
   "outputs": [
    {
     "data": {
      "text/html": [
       "<div>\n",
       "<style scoped>\n",
       "    .dataframe tbody tr th:only-of-type {\n",
       "        vertical-align: middle;\n",
       "    }\n",
       "\n",
       "    .dataframe tbody tr th {\n",
       "        vertical-align: top;\n",
       "    }\n",
       "\n",
       "    .dataframe thead th {\n",
       "        text-align: right;\n",
       "    }\n",
       "</style>\n",
       "<table border=\"1\" class=\"dataframe\">\n",
       "  <thead>\n",
       "    <tr style=\"text-align: right;\">\n",
       "      <th></th>\n",
       "      <th></th>\n",
       "      <th>Age</th>\n",
       "    </tr>\n",
       "    <tr>\n",
       "      <th>Survived</th>\n",
       "      <th>Pclass</th>\n",
       "      <th></th>\n",
       "    </tr>\n",
       "  </thead>\n",
       "  <tbody>\n",
       "    <tr>\n",
       "      <th rowspan=\"3\" valign=\"top\">0</th>\n",
       "      <th>1</th>\n",
       "      <td>43.695312</td>\n",
       "    </tr>\n",
       "    <tr>\n",
       "      <th>2</th>\n",
       "      <td>33.544444</td>\n",
       "    </tr>\n",
       "    <tr>\n",
       "      <th>3</th>\n",
       "      <td>26.555556</td>\n",
       "    </tr>\n",
       "    <tr>\n",
       "      <th rowspan=\"3\" valign=\"top\">1</th>\n",
       "      <th>1</th>\n",
       "      <td>35.368197</td>\n",
       "    </tr>\n",
       "    <tr>\n",
       "      <th>2</th>\n",
       "      <td>25.901566</td>\n",
       "    </tr>\n",
       "    <tr>\n",
       "      <th>3</th>\n",
       "      <td>20.646118</td>\n",
       "    </tr>\n",
       "  </tbody>\n",
       "</table>\n",
       "</div>"
      ],
      "text/plain": [
       "                       Age\n",
       "Survived Pclass           \n",
       "0        1       43.695312\n",
       "         2       33.544444\n",
       "         3       26.555556\n",
       "1        1       35.368197\n",
       "         2       25.901566\n",
       "         3       20.646118"
      ]
     },
     "execution_count": 17,
     "metadata": {},
     "output_type": "execute_result"
    }
   ],
   "source": [
    "group_survival['Age',].mean()"
   ]
  },
  {
   "cell_type": "markdown",
   "id": "019ee142",
   "metadata": {
    "execution": {
     "iopub.execute_input": "2021-11-11T05:51:45.445405Z",
     "iopub.status.busy": "2021-11-11T05:51:45.444829Z",
     "iopub.status.idle": "2021-11-11T05:51:45.448447Z",
     "shell.execute_reply": "2021-11-11T05:51:45.447933Z",
     "shell.execute_reply.started": "2021-11-11T05:51:45.445363Z"
    },
    "papermill": {
     "duration": 0.108608,
     "end_time": "2022-02-24T15:40:53.116985",
     "exception": false,
     "start_time": "2022-02-24T15:40:53.008377",
     "status": "completed"
    },
    "tags": []
   },
   "source": [
    "# 2.FEATURE ENGINEERING"
   ]
  },
  {
   "cell_type": "code",
   "execution_count": 18,
   "id": "f937ffed",
   "metadata": {
    "execution": {
     "iopub.execute_input": "2022-02-24T15:40:53.343229Z",
     "iopub.status.busy": "2022-02-24T15:40:53.342519Z",
     "iopub.status.idle": "2022-02-24T15:40:53.348248Z",
     "shell.execute_reply": "2022-02-24T15:40:53.348654Z",
     "shell.execute_reply.started": "2022-02-24T15:20:14.437280Z"
    },
    "papermill": {
     "duration": 0.122397,
     "end_time": "2022-02-24T15:40:53.348803",
     "exception": false,
     "start_time": "2022-02-24T15:40:53.226406",
     "status": "completed"
    },
    "tags": []
   },
   "outputs": [],
   "source": [
    "\"\"\"\n",
    "Creating a new dataset by combining both the test and train data ,which will be easy to preprocess and later just before modeling split it again into train and test \n",
    "This will avoid the tedious process of preprocessing train and test datasets seperately and avoid confusiions lateron \"\"\"\n",
    "dataset =  pd.concat(objs=[train, test], axis=0).reset_index(drop=True)"
   ]
  },
  {
   "cell_type": "code",
   "execution_count": 19,
   "id": "2cec4a37",
   "metadata": {
    "execution": {
     "iopub.execute_input": "2022-02-24T15:40:53.572060Z",
     "iopub.status.busy": "2022-02-24T15:40:53.571425Z",
     "iopub.status.idle": "2022-02-24T15:40:53.574127Z",
     "shell.execute_reply": "2022-02-24T15:40:53.574526Z",
     "shell.execute_reply.started": "2022-02-24T15:20:14.453326Z"
    },
    "papermill": {
     "duration": 0.117271,
     "end_time": "2022-02-24T15:40:53.574655",
     "exception": false,
     "start_time": "2022-02-24T15:40:53.457384",
     "status": "completed"
    },
    "tags": []
   },
   "outputs": [
    {
     "data": {
      "text/plain": [
       "'\\nThe passenger id for the test data is required as column name IDtest in future for submission \\n'"
      ]
     },
     "execution_count": 19,
     "metadata": {},
     "output_type": "execute_result"
    }
   ],
   "source": [
    "IDtest = test[\"PassengerId\"]\n",
    "\"\"\"\n",
    "The passenger id for the test data is required as column name IDtest in future for submission \n",
    "\"\"\""
   ]
  },
  {
   "cell_type": "code",
   "execution_count": 20,
   "id": "1cd09bc7",
   "metadata": {
    "execution": {
     "iopub.execute_input": "2022-02-24T15:40:53.801150Z",
     "iopub.status.busy": "2022-02-24T15:40:53.800487Z",
     "iopub.status.idle": "2022-02-24T15:40:53.804880Z",
     "shell.execute_reply": "2022-02-24T15:40:53.804444Z",
     "shell.execute_reply.started": "2022-02-24T15:20:14.463327Z"
    },
    "papermill": {
     "duration": 0.121319,
     "end_time": "2022-02-24T15:40:53.804997",
     "exception": false,
     "start_time": "2022-02-24T15:40:53.683678",
     "status": "completed"
    },
    "tags": []
   },
   "outputs": [
    {
     "data": {
      "text/plain": [
       "PassengerId       0\n",
       "Survived        418\n",
       "Pclass            0\n",
       "Name              0\n",
       "Sex               0\n",
       "Age             263\n",
       "SibSp             0\n",
       "Parch             0\n",
       "Ticket            0\n",
       "Fare              1\n",
       "Cabin          1014\n",
       "Embarked          2\n",
       "dtype: int64"
      ]
     },
     "execution_count": 20,
     "metadata": {},
     "output_type": "execute_result"
    }
   ],
   "source": [
    "dataset.isnull().sum()"
   ]
  },
  {
   "cell_type": "markdown",
   "id": "c76245d2",
   "metadata": {
    "execution": {
     "iopub.execute_input": "2021-11-11T06:35:13.833353Z",
     "iopub.status.busy": "2021-11-11T06:35:13.833057Z",
     "iopub.status.idle": "2021-11-11T06:35:13.836953Z",
     "shell.execute_reply": "2021-11-11T06:35:13.836169Z",
     "shell.execute_reply.started": "2021-11-11T06:35:13.83332Z"
    },
    "papermill": {
     "duration": 0.109864,
     "end_time": "2022-02-24T15:40:54.025768",
     "exception": false,
     "start_time": "2022-02-24T15:40:53.915904",
     "status": "completed"
    },
    "tags": []
   },
   "source": [
    "## Handling Null/Nan values"
   ]
  },
  {
   "cell_type": "code",
   "execution_count": 21,
   "id": "435bbe7a",
   "metadata": {
    "execution": {
     "iopub.execute_input": "2022-02-24T15:40:54.250717Z",
     "iopub.status.busy": "2022-02-24T15:40:54.249881Z",
     "iopub.status.idle": "2022-02-24T15:40:54.251607Z",
     "shell.execute_reply": "2022-02-24T15:40:54.252062Z",
     "shell.execute_reply.started": "2022-02-24T15:20:14.495828Z"
    },
    "papermill": {
     "duration": 0.117121,
     "end_time": "2022-02-24T15:40:54.252193",
     "exception": false,
     "start_time": "2022-02-24T15:40:54.135072",
     "status": "completed"
    },
    "tags": []
   },
   "outputs": [],
   "source": [
    "dataset['Embarked']=dataset['Embarked'].fillna(dataset['Embarked'].mode()[0])  \n",
    "#since it is two Nan in Embarked, filled with the mode or maximum occurance"
   ]
  },
  {
   "cell_type": "code",
   "execution_count": 22,
   "id": "7fed2331",
   "metadata": {
    "execution": {
     "iopub.execute_input": "2022-02-24T15:40:54.477331Z",
     "iopub.status.busy": "2022-02-24T15:40:54.476762Z",
     "iopub.status.idle": "2022-02-24T15:40:54.479646Z",
     "shell.execute_reply": "2022-02-24T15:40:54.479256Z",
     "shell.execute_reply.started": "2022-02-24T15:20:14.520916Z"
    },
    "papermill": {
     "duration": 0.117069,
     "end_time": "2022-02-24T15:40:54.479753",
     "exception": false,
     "start_time": "2022-02-24T15:40:54.362684",
     "status": "completed"
    },
    "tags": []
   },
   "outputs": [],
   "source": [
    "dataset['Fare']=dataset['Fare'].fillna(dataset['Fare'].median()) \n",
    "#Nan-Fare values filled with median of the data"
   ]
  },
  {
   "cell_type": "markdown",
   "id": "e4e3e412",
   "metadata": {
    "execution": {
     "iopub.execute_input": "2021-11-09T21:55:54.189522Z",
     "iopub.status.busy": "2021-11-09T21:55:54.189192Z",
     "iopub.status.idle": "2021-11-09T21:55:54.197026Z",
     "shell.execute_reply": "2021-11-09T21:55:54.19587Z",
     "shell.execute_reply.started": "2021-11-09T21:55:54.189478Z"
    },
    "papermill": {
     "duration": 0.109008,
     "end_time": "2022-02-24T15:40:54.699495",
     "exception": false,
     "start_time": "2022-02-24T15:40:54.590487",
     "status": "completed"
    },
    "tags": []
   },
   "source": [
    "Handling NaN : AGE\n",
    "First need to find which are the other features have influence to age feature\n",
    "So plot other features against Age"
   ]
  },
  {
   "cell_type": "code",
   "execution_count": 23,
   "id": "cdaf8b63",
   "metadata": {
    "execution": {
     "iopub.execute_input": "2022-02-24T15:40:54.934991Z",
     "iopub.status.busy": "2022-02-24T15:40:54.934171Z",
     "iopub.status.idle": "2022-02-24T15:40:55.113268Z",
     "shell.execute_reply": "2022-02-24T15:40:55.113773Z",
     "shell.execute_reply.started": "2022-02-24T15:20:14.540914Z"
    },
    "papermill": {
     "duration": 0.304629,
     "end_time": "2022-02-24T15:40:55.113930",
     "exception": false,
     "start_time": "2022-02-24T15:40:54.809301",
     "status": "completed"
    },
    "tags": []
   },
   "outputs": [
    {
     "data": {
      "text/plain": [
       "<AxesSubplot:xlabel='Sex', ylabel='Age'>"
      ]
     },
     "execution_count": 23,
     "metadata": {},
     "output_type": "execute_result"
    },
    {
     "data": {
      "image/png": "[encoded data removed]",
      "text/plain": [
       "<Figure size 432x288 with 1 Axes>"
      ]
     },
     "metadata": {
      "needs_background": "light"
     },
     "output_type": "display_data"
    }
   ],
   "source": [
    "sns.boxplot(x='Sex',y='Age',data=dataset)\n",
    "# the distribution of age data (range as well as the mean ) against Gender are amlost same.\n",
    "# we can ignore this feature to fill Age Nan."
   ]
  },
  {
   "cell_type": "code",
   "execution_count": 24,
   "id": "95d72926",
   "metadata": {
    "execution": {
     "iopub.execute_input": "2022-02-24T15:40:55.341876Z",
     "iopub.status.busy": "2022-02-24T15:40:55.341061Z",
     "iopub.status.idle": "2022-02-24T15:40:55.532535Z",
     "shell.execute_reply": "2022-02-24T15:40:55.532114Z",
     "shell.execute_reply.started": "2022-02-24T15:20:14.994796Z"
    },
    "papermill": {
     "duration": 0.307274,
     "end_time": "2022-02-24T15:40:55.532657",
     "exception": false,
     "start_time": "2022-02-24T15:40:55.225383",
     "status": "completed"
    },
    "tags": []
   },
   "outputs": [
    {
     "data": {
      "text/plain": [
       "<AxesSubplot:xlabel='Pclass', ylabel='Age'>"
      ]
     },
     "execution_count": 24,
     "metadata": {},
     "output_type": "execute_result"
    },
    {
     "data": {
      "image/png": "[encoded data removed]",
      "text/plain": [
       "<Figure size 432x288 with 1 Axes>"
      ]
     },
     "metadata": {
      "needs_background": "light"
     },
     "output_type": "display_data"
    }
   ],
   "source": [
    "sns.boxplot(x='Pclass',y='Age',data=dataset)\n",
    "#in this we can observe the distribution of Age against different Pclass class is different , \n",
    "#so this can be considered to fill Age NaN values"
   ]
  },
  {
   "cell_type": "code",
   "execution_count": 25,
   "id": "ea15be04",
   "metadata": {
    "execution": {
     "iopub.execute_input": "2022-02-24T15:40:55.762798Z",
     "iopub.status.busy": "2022-02-24T15:40:55.761976Z",
     "iopub.status.idle": "2022-02-24T15:40:56.011502Z",
     "shell.execute_reply": "2022-02-24T15:40:56.011931Z",
     "shell.execute_reply.started": "2022-02-24T15:20:15.589921Z"
    },
    "papermill": {
     "duration": 0.36632,
     "end_time": "2022-02-24T15:40:56.012086",
     "exception": false,
     "start_time": "2022-02-24T15:40:55.645766",
     "status": "completed"
    },
    "tags": []
   },
   "outputs": [
    {
     "data": {
      "text/plain": [
       "<AxesSubplot:xlabel='Parch', ylabel='Age'>"
      ]
     },
     "execution_count": 25,
     "metadata": {},
     "output_type": "execute_result"
    },
    {
     "data": {
      "image/png": "[encoded data removed]",
      "text/plain": [
       "<Figure size 432x288 with 1 Axes>"
      ]
     },
     "metadata": {
      "needs_background": "light"
     },
     "output_type": "display_data"
    }
   ],
   "source": [
    "sns.boxplot(x='Parch',y='Age',data=dataset)\n",
    "#in this we can observe the distribution of Age against different Parch class is different , \n",
    "#so this can be considered to fill Age NaN values"
   ]
  },
  {
   "cell_type": "code",
   "execution_count": 26,
   "id": "eabee7c4",
   "metadata": {
    "execution": {
     "iopub.execute_input": "2022-02-24T15:40:56.244563Z",
     "iopub.status.busy": "2022-02-24T15:40:56.243744Z",
     "iopub.status.idle": "2022-02-24T15:40:56.492002Z",
     "shell.execute_reply": "2022-02-24T15:40:56.491320Z",
     "shell.execute_reply.started": "2022-02-24T15:20:16.070813Z"
    },
    "papermill": {
     "duration": 0.366187,
     "end_time": "2022-02-24T15:40:56.492129",
     "exception": false,
     "start_time": "2022-02-24T15:40:56.125942",
     "status": "completed"
    },
    "tags": []
   },
   "outputs": [
    {
     "data": {
      "text/plain": [
       "<AxesSubplot:xlabel='SibSp', ylabel='Age'>"
      ]
     },
     "execution_count": 26,
     "metadata": {},
     "output_type": "execute_result"
    },
    {
     "data": {
      "image/png": "[encoded data removed]",
      "text/plain": [
       "<Figure size 432x288 with 1 Axes>"
      ]
     },
     "metadata": {
      "needs_background": "light"
     },
     "output_type": "display_data"
    }
   ],
   "source": [
    "sns.boxplot(x='SibSp',y='Age',data=dataset)\n",
    "#in this we can observe the distribution of Age against different SibSp class is different , \n",
    "#so this can be considered to fill Age NaN values"
   ]
  },
  {
   "cell_type": "markdown",
   "id": "efba7981",
   "metadata": {
    "papermill": {
     "duration": 0.113139,
     "end_time": "2022-02-24T15:40:56.719886",
     "exception": false,
     "start_time": "2022-02-24T15:40:56.606747",
     "status": "completed"
    },
    "tags": []
   },
   "source": []
  },
  {
   "cell_type": "markdown",
   "id": "820f07eb",
   "metadata": {
    "execution": {
     "iopub.execute_input": "2021-11-10T06:35:50.16684Z",
     "iopub.status.busy": "2021-11-10T06:35:50.16595Z",
     "iopub.status.idle": "2021-11-10T06:35:50.173081Z",
     "shell.execute_reply": "2021-11-10T06:35:50.171924Z",
     "shell.execute_reply.started": "2021-11-10T06:35:50.166797Z"
    },
    "papermill": {
     "duration": 0.132828,
     "end_time": "2022-02-24T15:40:56.967037",
     "exception": false,
     "start_time": "2022-02-24T15:40:56.834209",
     "status": "completed"
    },
    "tags": []
   },
   "source": [
    "So belwo we created a code in to find the age Nan rows having the PClass,Parch,SibSp , have same values eg Row 5,19,\n",
    "then find the rows of same values and fill the with the mean of that group\n",
    "\n",
    "If we cant find such group then fill those Nan Ages with Median of the Ages."
   ]
  },
  {
   "cell_type": "code",
   "execution_count": 27,
   "id": "6cfcf6c0",
   "metadata": {
    "execution": {
     "iopub.execute_input": "2022-02-24T15:40:57.209036Z",
     "iopub.status.busy": "2022-02-24T15:40:57.208174Z",
     "iopub.status.idle": "2022-02-24T15:40:57.597762Z",
     "shell.execute_reply": "2022-02-24T15:40:57.597242Z",
     "shell.execute_reply.started": "2022-02-24T15:20:16.473539Z"
    },
    "papermill": {
     "duration": 0.509716,
     "end_time": "2022-02-24T15:40:57.597917",
     "exception": false,
     "start_time": "2022-02-24T15:40:57.088201",
     "status": "completed"
    },
    "tags": []
   },
   "outputs": [
    {
     "name": "stderr",
     "output_type": "stream",
     "text": [
      "/opt/conda/lib/python3.7/site-packages/pandas/core/indexing.py:1732: SettingWithCopyWarning: \n",
      "A value is trying to be set on a copy of a slice from a DataFrame\n",
      "\n",
      "See the caveats in the documentation: https://pandas.pydata.org/pandas-docs/stable/user_guide/indexing.html#returning-a-view-versus-a-copy\n",
      "  self._setitem_single_block(indexer, value, name)\n"
     ]
    }
   ],
   "source": [
    "\n",
    "index_NaN_age = list(dataset[\"Age\"][dataset[\"Age\"].isnull()].index)\n",
    "\n",
    "for i in index_NaN_age :\n",
    "    age_med = dataset[\"Age\"].median()\n",
    "    age_pred = dataset[\"Age\"][((dataset['SibSp'] == dataset.iloc[i][\"SibSp\"]) &\n",
    "                               (dataset['Parch'] == dataset.iloc[i][\"Parch\"]) &\n",
    "                               (dataset['Pclass'] == dataset.iloc[i][\"Pclass\"]))].median()\n",
    "    if not np.isnan(age_pred) :\n",
    "        dataset['Age'].iloc[i] = age_pred\n",
    "    else :\n",
    "        dataset['Age'].iloc[i] = age_med"
   ]
  },
  {
   "cell_type": "code",
   "execution_count": 28,
   "id": "8ee68a6f",
   "metadata": {
    "execution": {
     "iopub.execute_input": "2022-02-24T15:40:57.832563Z",
     "iopub.status.busy": "2022-02-24T15:40:57.831667Z",
     "iopub.status.idle": "2022-02-24T15:40:57.837085Z",
     "shell.execute_reply": "2022-02-24T15:40:57.836638Z",
     "shell.execute_reply.started": "2022-02-24T15:20:17.069116Z"
    },
    "papermill": {
     "duration": 0.12357,
     "end_time": "2022-02-24T15:40:57.837202",
     "exception": false,
     "start_time": "2022-02-24T15:40:57.713632",
     "status": "completed"
    },
    "tags": []
   },
   "outputs": [
    {
     "data": {
      "text/plain": [
       "((1309, 12), 929)"
      ]
     },
     "execution_count": 28,
     "metadata": {},
     "output_type": "execute_result"
    }
   ],
   "source": [
    "#total passengers is 1309, but unique ticket count is  only 929, that means there might be more than one passengers in one ticket or same cabin\n",
    "dataset.shape ,len(dataset['Ticket'].unique())"
   ]
  },
  {
   "cell_type": "code",
   "execution_count": 29,
   "id": "6dd2936a",
   "metadata": {
    "execution": {
     "iopub.execute_input": "2022-02-24T15:40:58.212612Z",
     "iopub.status.busy": "2022-02-24T15:40:58.211805Z",
     "iopub.status.idle": "2022-02-24T15:40:58.214956Z",
     "shell.execute_reply": "2022-02-24T15:40:58.215555Z",
     "shell.execute_reply.started": "2022-02-24T15:20:17.079754Z"
    },
    "papermill": {
     "duration": 0.208368,
     "end_time": "2022-02-24T15:40:58.215736",
     "exception": false,
     "start_time": "2022-02-24T15:40:58.007368",
     "status": "completed"
    },
    "tags": []
   },
   "outputs": [
    {
     "data": {
      "text/plain": [
       "array([nan, 'C85', 'C123', 'E46', 'G6', 'C103', 'D56', 'A6',\n",
       "       'C23 C25 C27', 'B78', 'D33', 'B30', 'C52', 'B28', 'C83', 'F33',\n",
       "       'F G73', 'E31', 'A5', 'D10 D12', 'D26', 'C110', 'B58 B60', 'E101',\n",
       "       'F E69', 'D47', 'B86', 'F2', 'C2', 'E33', 'B19', 'A7', 'C49', 'F4',\n",
       "       'A32', 'B4', 'B80', 'A31', 'D36', 'D15', 'C93', 'C78', 'D35',\n",
       "       'C87', 'B77', 'E67', 'B94', 'C125', 'C99', 'C118', 'D7', 'A19',\n",
       "       'B49', 'D', 'C22 C26', 'C106', 'C65', 'E36', 'C54',\n",
       "       'B57 B59 B63 B66', 'C7', 'E34', 'C32', 'B18', 'C124', 'C91', 'E40',\n",
       "       'T', 'C128', 'D37', 'B35', 'E50', 'C82', 'B96 B98', 'E10', 'E44',\n",
       "       'A34', 'C104', 'C111', 'C92', 'E38', 'D21', 'E12', 'E63', 'A14',\n",
       "       'B37', 'C30', 'D20', 'B79', 'E25', 'D46', 'B73', 'C95', 'B38',\n",
       "       'B39', 'B22', 'C86', 'C70', 'A16', 'C101', 'C68', 'A10', 'E68',\n",
       "       'B41', 'A20', 'D19', 'D50', 'D9', 'A23', 'B50', 'A26', 'D48',\n",
       "       'E58', 'C126', 'B71', 'B51 B53 B55', 'D49', 'B5', 'B20', 'F G63',\n",
       "       'C62 C64', 'E24', 'C90', 'C45', 'E8', 'B101', 'D45', 'C46', 'D30',\n",
       "       'E121', 'D11', 'E77', 'F38', 'B3', 'D6', 'B82 B84', 'D17', 'A36',\n",
       "       'B102', 'B69', 'E49', 'C47', 'D28', 'E17', 'A24', 'C50', 'B42',\n",
       "       'C148', 'B45', 'B36', 'A21', 'D34', 'A9', 'C31', 'B61', 'C53',\n",
       "       'D43', 'C130', 'C132', 'C55 C57', 'C116', 'F', 'A29', 'C6', 'C28',\n",
       "       'C51', 'C97', 'D22', 'B10', 'E45', 'E52', 'A11', 'B11', 'C80',\n",
       "       'C89', 'F E46', 'B26', 'F E57', 'A18', 'E60', 'E39 E41',\n",
       "       'B52 B54 B56', 'C39', 'B24', 'D40', 'D38', 'C105'], dtype=object)"
      ]
     },
     "execution_count": 29,
     "metadata": {},
     "output_type": "execute_result"
    }
   ],
   "source": [
    "dataset['Cabin'].unique() #This is to check the non filled nan cabins what string can be used to impute , XX is not in current data so used XX string to impute"
   ]
  },
  {
   "cell_type": "code",
   "execution_count": 30,
   "id": "0c3c9139",
   "metadata": {
    "execution": {
     "iopub.execute_input": "2022-02-24T15:40:58.568588Z",
     "iopub.status.busy": "2022-02-24T15:40:58.557310Z",
     "iopub.status.idle": "2022-02-24T15:41:27.324449Z",
     "shell.execute_reply": "2022-02-24T15:41:27.324919Z",
     "shell.execute_reply.started": "2022-02-24T15:20:17.095458Z"
    },
    "papermill": {
     "duration": 28.920667,
     "end_time": "2022-02-24T15:41:27.325098",
     "exception": false,
     "start_time": "2022-02-24T15:40:58.404431",
     "status": "completed"
    },
    "tags": []
   },
   "outputs": [],
   "source": [
    "\"\"\"Below code is used to fill the Nan cabin values with the exisitng cabin values which have same ticket number of the missing cabin(Nan Cabin)\n",
    "But not much effective since only 14 cabins can be able to fill in that way \n",
    "so the remaining cabins considered as a seperate class named XX\n",
    "\"\"\"\n",
    "index_NaN_cabin = list(dataset[\"Cabin\"][dataset[\"Cabin\"].isnull()].index)\n",
    "for i in index_NaN_cabin:\n",
    "    for j in range(0,len(dataset)):\n",
    "        if dataset['Ticket'].iloc[j]==dataset['Ticket'].iloc[i]:\n",
    "            dataset['Cabin'].iloc[i]=dataset['Cabin'].iloc[j]\n",
    "            continue\n",
    "\n",
    "dataset['Cabin']=dataset['Cabin'].fillna('XX')"
   ]
  },
  {
   "cell_type": "code",
   "execution_count": 31,
   "id": "29c62c31",
   "metadata": {
    "execution": {
     "iopub.execute_input": "2022-02-24T15:41:27.562145Z",
     "iopub.status.busy": "2022-02-24T15:41:27.561278Z",
     "iopub.status.idle": "2022-02-24T15:41:27.569696Z",
     "shell.execute_reply": "2022-02-24T15:41:27.569302Z",
     "shell.execute_reply.started": "2022-02-24T15:20:52.657743Z"
    },
    "papermill": {
     "duration": 0.127565,
     "end_time": "2022-02-24T15:41:27.569840",
     "exception": false,
     "start_time": "2022-02-24T15:41:27.442275",
     "status": "completed"
    },
    "tags": []
   },
   "outputs": [
    {
     "data": {
      "text/plain": [
       "PassengerId      0\n",
       "Survived       418\n",
       "Pclass           0\n",
       "Name             0\n",
       "Sex              0\n",
       "Age              0\n",
       "SibSp            0\n",
       "Parch            0\n",
       "Ticket           0\n",
       "Fare             0\n",
       "Cabin            0\n",
       "Embarked         0\n",
       "dtype: int64"
      ]
     },
     "execution_count": 31,
     "metadata": {},
     "output_type": "execute_result"
    }
   ],
   "source": [
    "dataset.isnull().sum()"
   ]
  },
  {
   "cell_type": "markdown",
   "id": "a7313d50",
   "metadata": {
    "papermill": {
     "duration": 0.116919,
     "end_time": "2022-02-24T15:41:27.805043",
     "exception": false,
     "start_time": "2022-02-24T15:41:27.688124",
     "status": "completed"
    },
    "tags": []
   },
   "source": [
    "## Feature Extraction"
   ]
  },
  {
   "cell_type": "markdown",
   "id": "3e842b3c",
   "metadata": {
    "papermill": {
     "duration": 0.116673,
     "end_time": "2022-02-24T15:41:28.039563",
     "exception": false,
     "start_time": "2022-02-24T15:41:27.922890",
     "status": "completed"
    },
    "tags": []
   },
   "source": [
    "### Name"
   ]
  },
  {
   "cell_type": "code",
   "execution_count": 32,
   "id": "a363049f",
   "metadata": {
    "execution": {
     "iopub.execute_input": "2022-02-24T15:41:28.281848Z",
     "iopub.status.busy": "2022-02-24T15:41:28.280859Z",
     "iopub.status.idle": "2022-02-24T15:41:28.284635Z",
     "shell.execute_reply": "2022-02-24T15:41:28.285061Z",
     "shell.execute_reply.started": "2022-02-24T15:20:52.673529Z"
    },
    "papermill": {
     "duration": 0.128282,
     "end_time": "2022-02-24T15:41:28.285200",
     "exception": false,
     "start_time": "2022-02-24T15:41:28.156918",
     "status": "completed"
    },
    "tags": []
   },
   "outputs": [
    {
     "data": {
      "text/plain": [
       "(0                              Braund, Mr. Owen Harris\n",
       " 1    Cumings, Mrs. John Bradley (Florence Briggs Th...\n",
       " 2                               Heikkinen, Miss. Laina\n",
       " 3         Futrelle, Mrs. Jacques Heath (Lily May Peel)\n",
       " 4                             Allen, Mr. William Henry\n",
       " Name: Name, dtype: object,\n",
       " 1304              Spector, Mr. Woolf\n",
       " 1305    Oliva y Ocana, Dona. Fermina\n",
       " 1306    Saether, Mr. Simon Sivertsen\n",
       " 1307             Ware, Mr. Frederick\n",
       " 1308        Peter, Master. Michael J\n",
       " Name: Name, dtype: object)"
      ]
     },
     "execution_count": 32,
     "metadata": {},
     "output_type": "execute_result"
    }
   ],
   "source": [
    "\"\"\"\n",
    "Just to check the behaviour name data\"\"\"\n",
    "dataset['Name'].head(5),dataset['Name'].tail(5)"
   ]
  },
  {
   "cell_type": "markdown",
   "id": "2f441c31",
   "metadata": {
    "execution": {
     "iopub.execute_input": "2021-11-10T06:43:40.060473Z",
     "iopub.status.busy": "2021-11-10T06:43:40.059851Z",
     "iopub.status.idle": "2021-11-10T06:43:40.06635Z",
     "shell.execute_reply": "2021-11-10T06:43:40.065461Z",
     "shell.execute_reply.started": "2021-11-10T06:43:40.06041Z"
    },
    "papermill": {
     "duration": 0.116483,
     "end_time": "2022-02-24T15:41:28.519240",
     "exception": false,
     "start_time": "2022-02-24T15:41:28.402757",
     "status": "completed"
    },
    "tags": []
   },
   "source": [
    "Feature Extraction from Name columns\n",
    "If we observe the every names have tittle(Mr,Mrs,Rev,Countess etc) which may give the some information \n",
    "to group the namesInstead of completley omiting the name column as irrelevent we can check what information \n",
    "we can extract from the name columns\n",
    "If we observe the tittle of the name comes after the surname seperated with a comma.So we can split all the \n",
    "names with respect to comma get into a list and from the list take the second element which is tittle\n"
   ]
  },
  {
   "cell_type": "code",
   "execution_count": 33,
   "id": "7ae97f04",
   "metadata": {
    "execution": {
     "iopub.execute_input": "2022-02-24T15:41:28.761757Z",
     "iopub.status.busy": "2022-02-24T15:41:28.760895Z",
     "iopub.status.idle": "2022-02-24T15:41:28.762699Z",
     "shell.execute_reply": "2022-02-24T15:41:28.763255Z",
     "shell.execute_reply.started": "2022-02-24T15:20:52.687927Z"
    },
    "papermill": {
     "duration": 0.127006,
     "end_time": "2022-02-24T15:41:28.763389",
     "exception": false,
     "start_time": "2022-02-24T15:41:28.636383",
     "status": "completed"
    },
    "tags": []
   },
   "outputs": [],
   "source": [
    "title = [i.split(\",\")[1].split(\".\")[0].strip() for i in dataset[\"Name\"]]"
   ]
  },
  {
   "cell_type": "code",
   "execution_count": 34,
   "id": "9087aeee",
   "metadata": {
    "execution": {
     "iopub.execute_input": "2022-02-24T15:41:29.006575Z",
     "iopub.status.busy": "2022-02-24T15:41:29.004253Z",
     "iopub.status.idle": "2022-02-24T15:41:29.009210Z",
     "shell.execute_reply": "2022-02-24T15:41:29.009589Z",
     "shell.execute_reply.started": "2022-02-24T15:20:52.700182Z"
    },
    "papermill": {
     "duration": 0.128615,
     "end_time": "2022-02-24T15:41:29.009730",
     "exception": false,
     "start_time": "2022-02-24T15:41:28.881115",
     "status": "completed"
    },
    "tags": []
   },
   "outputs": [
    {
     "data": {
      "text/plain": [
       "array(['Mr', 'Mrs', 'Miss', 'Master', 'Don', 'Rev', 'Dr', 'Mme', 'Ms',\n",
       "       'Major', 'Lady', 'Sir', 'Mlle', 'Col', 'Capt', 'the Countess',\n",
       "       'Jonkheer', 'Dona'], dtype=object)"
      ]
     },
     "execution_count": 34,
     "metadata": {},
     "output_type": "execute_result"
    }
   ],
   "source": [
    "dataset['Title']=pd.Series(title) #added the tittle series to the dataframe \n",
    "dataset['Title'].unique() #eheck the unique values"
   ]
  },
  {
   "cell_type": "code",
   "execution_count": 35,
   "id": "5e7c94fa",
   "metadata": {
    "execution": {
     "iopub.execute_input": "2022-02-24T15:41:29.251571Z",
     "iopub.status.busy": "2022-02-24T15:41:29.250604Z",
     "iopub.status.idle": "2022-02-24T15:41:29.259043Z",
     "shell.execute_reply": "2022-02-24T15:41:29.258615Z",
     "shell.execute_reply.started": "2022-02-24T15:20:52.717134Z"
    },
    "papermill": {
     "duration": 0.131292,
     "end_time": "2022-02-24T15:41:29.259164",
     "exception": false,
     "start_time": "2022-02-24T15:41:29.127872",
     "status": "completed"
    },
    "tags": []
   },
   "outputs": [
    {
     "data": {
      "text/plain": [
       "Title         Survived\n",
       "Capt          0.0         1.000000\n",
       "Col           0.0         0.500000\n",
       "              1.0         0.500000\n",
       "Don           0.0         1.000000\n",
       "Dr            0.0         0.571429\n",
       "              1.0         0.428571\n",
       "Jonkheer      0.0         1.000000\n",
       "Lady          1.0         1.000000\n",
       "Major         0.0         0.500000\n",
       "              1.0         0.500000\n",
       "Master        1.0         0.575000\n",
       "              0.0         0.425000\n",
       "Miss          1.0         0.697802\n",
       "              0.0         0.302198\n",
       "Mlle          1.0         1.000000\n",
       "Mme           1.0         1.000000\n",
       "Mr            0.0         0.843327\n",
       "              1.0         0.156673\n",
       "Mrs           1.0         0.792000\n",
       "              0.0         0.208000\n",
       "Ms            1.0         1.000000\n",
       "Rev           0.0         1.000000\n",
       "Sir           1.0         1.000000\n",
       "the Countess  1.0         1.000000\n",
       "Name: Survived, dtype: float64"
      ]
     },
     "execution_count": 35,
     "metadata": {},
     "output_type": "execute_result"
    }
   ],
   "source": [
    "group_title=dataset.iloc[:len(train)].groupby('Title')\n",
    "group_title['Survived'].value_counts(normalize=True)\n"
   ]
  },
  {
   "cell_type": "code",
   "execution_count": 36,
   "id": "1801c56b",
   "metadata": {
    "execution": {
     "iopub.execute_input": "2022-02-24T15:41:29.505085Z",
     "iopub.status.busy": "2022-02-24T15:41:29.504209Z",
     "iopub.status.idle": "2022-02-24T15:41:29.513077Z",
     "shell.execute_reply": "2022-02-24T15:41:29.512633Z",
     "shell.execute_reply.started": "2022-02-24T15:20:52.735773Z"
    },
    "papermill": {
     "duration": 0.136086,
     "end_time": "2022-02-24T15:41:29.513202",
     "exception": false,
     "start_time": "2022-02-24T15:41:29.377116",
     "status": "completed"
    },
    "tags": []
   },
   "outputs": [],
   "source": [
    "\"\"\"\n",
    "By observing above table we can find some inputs about the survival rate among the tittle groups \n",
    "so we can group the passengers according to the tittle and its survival rates\"\"\"\n",
    "\n",
    "group1=['Capt','Rev','Jonkheer','Don','Dona'] #grouped based on survival rate\n",
    "group2=['Dr', 'Major','Col'] #grouped based on survival rate\n",
    "group3=['the Countess','Countess', 'Sir',] #grouped based on survial rate\n",
    "group4=['Mr'] #title for men\n",
    "group5=['Master'] #title for a boys\n",
    "group6=[ 'Mrs', 'Miss','Mme', 'Ms','Mlle','Lady']# tittle for ladies\n",
    "\n",
    "\n",
    "dataset['Title']=dataset['Title'].replace(group1,'1')\n",
    "dataset['Title']=dataset['Title'].replace(group2,'2')\n",
    "dataset['Title']=dataset['Title'].replace(group3,'3')\n",
    "dataset['Title']=dataset['Title'].replace(group4,'4')\n",
    "dataset['Title']=dataset['Title'].replace(group5,'5')\n",
    "dataset['Title']=dataset['Title'].replace(group6,'6')\n",
    "dataset[\"Title\"] = dataset[\"Title\"].astype(int)"
   ]
  },
  {
   "cell_type": "code",
   "execution_count": 37,
   "id": "c08dddfe",
   "metadata": {
    "execution": {
     "iopub.execute_input": "2022-02-24T15:41:29.755269Z",
     "iopub.status.busy": "2022-02-24T15:41:29.754630Z",
     "iopub.status.idle": "2022-02-24T15:41:29.757435Z",
     "shell.execute_reply": "2022-02-24T15:41:29.757889Z",
     "shell.execute_reply.started": "2022-02-24T15:20:52.761887Z"
    },
    "papermill": {
     "duration": 0.127282,
     "end_time": "2022-02-24T15:41:29.758030",
     "exception": false,
     "start_time": "2022-02-24T15:41:29.630748",
     "status": "completed"
    },
    "tags": []
   },
   "outputs": [
    {
     "data": {
      "text/plain": [
       "array([4, 6, 5, 1, 2, 3])"
      ]
     },
     "execution_count": 37,
     "metadata": {},
     "output_type": "execute_result"
    }
   ],
   "source": [
    "dataset['Title'].unique()"
   ]
  },
  {
   "cell_type": "code",
   "execution_count": 38,
   "id": "4053bd06",
   "metadata": {
    "execution": {
     "iopub.execute_input": "2022-02-24T15:41:30.003006Z",
     "iopub.status.busy": "2022-02-24T15:41:30.002076Z",
     "iopub.status.idle": "2022-02-24T15:41:30.009590Z",
     "shell.execute_reply": "2022-02-24T15:41:30.010065Z",
     "shell.execute_reply.started": "2022-02-24T15:20:52.772252Z"
    },
    "papermill": {
     "duration": 0.130782,
     "end_time": "2022-02-24T15:41:30.010203",
     "exception": false,
     "start_time": "2022-02-24T15:41:29.879421",
     "status": "completed"
    },
    "tags": []
   },
   "outputs": [
    {
     "data": {
      "text/plain": [
       "Title  Survived\n",
       "1      0.0         1.000000\n",
       "2      0.0         0.545455\n",
       "       1.0         0.454545\n",
       "3      1.0         1.000000\n",
       "4      0.0         0.843327\n",
       "       1.0         0.156673\n",
       "5      1.0         0.575000\n",
       "       0.0         0.425000\n",
       "6      1.0         0.740385\n",
       "       0.0         0.259615\n",
       "Name: Survived, dtype: float64"
      ]
     },
     "execution_count": 38,
     "metadata": {},
     "output_type": "execute_result"
    }
   ],
   "source": [
    "\n",
    "\"\"\"\n",
    "After grouping as above , if we check the groupby again it gives some meaning tittle class\"\"\"\n",
    "group_title=dataset.iloc[:len(train)].groupby('Title')\n",
    "group_title['Survived'].value_counts(normalize=True)"
   ]
  },
  {
   "cell_type": "markdown",
   "id": "495e2ad4",
   "metadata": {
    "papermill": {
     "duration": 0.118141,
     "end_time": "2022-02-24T15:41:30.248057",
     "exception": false,
     "start_time": "2022-02-24T15:41:30.129916",
     "status": "completed"
    },
    "tags": []
   },
   "source": []
  },
  {
   "cell_type": "code",
   "execution_count": 39,
   "id": "eb64da91",
   "metadata": {
    "execution": {
     "iopub.execute_input": "2022-02-24T15:41:30.491392Z",
     "iopub.status.busy": "2022-02-24T15:41:30.490577Z",
     "iopub.status.idle": "2022-02-24T15:41:30.845241Z",
     "shell.execute_reply": "2022-02-24T15:41:30.845654Z",
     "shell.execute_reply.started": "2022-02-24T15:20:52.790199Z"
    },
    "papermill": {
     "duration": 0.478716,
     "end_time": "2022-02-24T15:41:30.845822",
     "exception": false,
     "start_time": "2022-02-24T15:41:30.367106",
     "status": "completed"
    },
    "tags": []
   },
   "outputs": [
    {
     "data": {
      "text/plain": [
       "<AxesSubplot:xlabel='Title', ylabel='Survived'>"
      ]
     },
     "execution_count": 39,
     "metadata": {},
     "output_type": "execute_result"
    },
    {
     "data": {
      "image/png": "[encoded data removed]",
      "text/plain": [
       "<Figure size 432x288 with 1 Axes>"
      ]
     },
     "metadata": {
      "needs_background": "light"
     },
     "output_type": "display_data"
    }
   ],
   "source": [
    "sns.barplot(x='Title',y='Survived',data=dataset.iloc[:len(train)])\n",
    "#This became more meaning full grouping and it obvious that group 3 has highest survival rate and group 1 has least survival rate\n"
   ]
  },
  {
   "cell_type": "code",
   "execution_count": 40,
   "id": "1b1fd6ca",
   "metadata": {
    "execution": {
     "iopub.execute_input": "2022-02-24T15:41:31.252038Z",
     "iopub.status.busy": "2022-02-24T15:41:31.249451Z",
     "iopub.status.idle": "2022-02-24T15:41:31.255074Z",
     "shell.execute_reply": "2022-02-24T15:41:31.255468Z",
     "shell.execute_reply.started": "2022-02-24T15:20:53.288803Z"
    },
    "papermill": {
     "duration": 0.204684,
     "end_time": "2022-02-24T15:41:31.255601",
     "exception": false,
     "start_time": "2022-02-24T15:41:31.050917",
     "status": "completed"
    },
    "tags": []
   },
   "outputs": [],
   "source": [
    "#So now drop the name colums from the dataset , adn keep title instead\n",
    "dataset.drop(labels = [\"Name\"], axis = 1, inplace = True)"
   ]
  },
  {
   "cell_type": "markdown",
   "id": "d47b53f5",
   "metadata": {
    "papermill": {
     "duration": 0.128715,
     "end_time": "2022-02-24T15:41:31.580180",
     "exception": false,
     "start_time": "2022-02-24T15:41:31.451465",
     "status": "completed"
    },
    "tags": []
   },
   "source": [
    "### Cabin"
   ]
  },
  {
   "cell_type": "markdown",
   "id": "3e0357d0",
   "metadata": {
    "execution": {
     "iopub.execute_input": "2021-11-10T21:20:30.537315Z",
     "iopub.status.busy": "2021-11-10T21:20:30.537083Z",
     "iopub.status.idle": "2021-11-10T21:20:30.548548Z",
     "shell.execute_reply": "2021-11-10T21:20:30.547622Z",
     "shell.execute_reply.started": "2021-11-10T21:20:30.537285Z"
    },
    "papermill": {
     "duration": 0.119013,
     "end_time": "2022-02-24T15:41:31.819544",
     "exception": false,
     "start_time": "2022-02-24T15:41:31.700531",
     "status": "completed"
    },
    "tags": []
   },
   "source": [
    "CABIN\n",
    "Few of the materials in internet shows that there are decks named A,B,C etc so there is a strong belief that the prefix in the cabin number is nothing but the \n",
    "deck. so in that belief we can extract the initial alphabets and classify it as decks"
   ]
  },
  {
   "cell_type": "code",
   "execution_count": 41,
   "id": "89ac2dab",
   "metadata": {
    "execution": {
     "iopub.execute_input": "2022-02-24T15:41:32.068142Z",
     "iopub.status.busy": "2022-02-24T15:41:32.067243Z",
     "iopub.status.idle": "2022-02-24T15:41:32.069049Z",
     "shell.execute_reply": "2022-02-24T15:41:32.069451Z",
     "shell.execute_reply.started": "2022-02-24T15:20:53.299493Z"
    },
    "papermill": {
     "duration": 0.128586,
     "end_time": "2022-02-24T15:41:32.069582",
     "exception": false,
     "start_time": "2022-02-24T15:41:31.940996",
     "status": "completed"
    },
    "tags": []
   },
   "outputs": [],
   "source": [
    "# Replace the Cabin number by the type of cabin 'XX' if not\n",
    "dataset[\"Cabin\"] = pd.Series([i[0] if not pd.isnull(i) else 'X' for i in dataset['Cabin'] ])"
   ]
  },
  {
   "cell_type": "markdown",
   "id": "5397e589",
   "metadata": {
    "papermill": {
     "duration": 0.119118,
     "end_time": "2022-02-24T15:41:32.307728",
     "exception": false,
     "start_time": "2022-02-24T15:41:32.188610",
     "status": "completed"
    },
    "tags": []
   },
   "source": []
  },
  {
   "cell_type": "code",
   "execution_count": 42,
   "id": "d9e17733",
   "metadata": {
    "execution": {
     "iopub.execute_input": "2022-02-24T15:41:32.554900Z",
     "iopub.status.busy": "2022-02-24T15:41:32.554054Z",
     "iopub.status.idle": "2022-02-24T15:41:32.984017Z",
     "shell.execute_reply": "2022-02-24T15:41:32.984388Z",
     "shell.execute_reply.started": "2022-02-24T15:20:53.314422Z"
    },
    "papermill": {
     "duration": 0.556965,
     "end_time": "2022-02-24T15:41:32.984534",
     "exception": false,
     "start_time": "2022-02-24T15:41:32.427569",
     "status": "completed"
    },
    "tags": []
   },
   "outputs": [
    {
     "data": {
      "text/plain": [
       "<AxesSubplot:xlabel='Cabin', ylabel='Survived'>"
      ]
     },
     "execution_count": 42,
     "metadata": {},
     "output_type": "execute_result"
    },
    {
     "data": {
      "image/png": "[encoded data removed]",
      "text/plain": [
       "<Figure size 432x288 with 1 Axes>"
      ]
     },
     "metadata": {
      "needs_background": "light"
     },
     "output_type": "display_data"
    }
   ],
   "source": [
    "sns.barplot(data=dataset,x='Cabin',y='Survived')"
   ]
  },
  {
   "cell_type": "markdown",
   "id": "285815f1",
   "metadata": {
    "papermill": {
     "duration": 0.119858,
     "end_time": "2022-02-24T15:41:33.225461",
     "exception": false,
     "start_time": "2022-02-24T15:41:33.105603",
     "status": "completed"
    },
    "tags": []
   },
   "source": [
    "### Ticket"
   ]
  },
  {
   "cell_type": "code",
   "execution_count": 43,
   "id": "6c0b48fe",
   "metadata": {
    "execution": {
     "iopub.execute_input": "2022-02-24T15:41:33.477629Z",
     "iopub.status.busy": "2022-02-24T15:41:33.477048Z",
     "iopub.status.idle": "2022-02-24T15:41:33.479630Z",
     "shell.execute_reply": "2022-02-24T15:41:33.480063Z",
     "shell.execute_reply.started": "2022-02-24T15:20:53.921416Z"
    },
    "papermill": {
     "duration": 0.131959,
     "end_time": "2022-02-24T15:41:33.480207",
     "exception": false,
     "start_time": "2022-02-24T15:41:33.348248",
     "status": "completed"
    },
    "tags": []
   },
   "outputs": [
    {
     "data": {
      "text/plain": [
       "0        A5\n",
       "1        PC\n",
       "2    STONO2\n",
       "3         X\n",
       "4         X\n",
       "Name: Ticket, dtype: object"
      ]
     },
     "execution_count": 43,
     "metadata": {},
     "output_type": "execute_result"
    }
   ],
   "source": [
    "## Treat Ticket by extracting the ticket prefix. When there is no prefix it returns X. \n",
    "\n",
    "Ticket = []\n",
    "for i in list(dataset.Ticket):\n",
    "    if not i.isdigit() :\n",
    "        Ticket.append(i.replace(\".\",\"\").replace(\"/\",\"\").strip().split(' ')[0]) #Take prefix\n",
    "    else:\n",
    "        Ticket.append(\"X\")\n",
    "        \n",
    "dataset[\"Ticket\"] = Ticket\n",
    "dataset[\"Ticket\"].head()"
   ]
  },
  {
   "cell_type": "markdown",
   "id": "68f90eec",
   "metadata": {
    "papermill": {
     "duration": 0.120755,
     "end_time": "2022-02-24T15:41:33.722867",
     "exception": false,
     "start_time": "2022-02-24T15:41:33.602112",
     "status": "completed"
    },
    "tags": []
   },
   "source": []
  },
  {
   "cell_type": "code",
   "execution_count": 44,
   "id": "3846e1f1",
   "metadata": {
    "execution": {
     "iopub.execute_input": "2022-02-24T15:41:33.974715Z",
     "iopub.status.busy": "2022-02-24T15:41:33.973522Z",
     "iopub.status.idle": "2022-02-24T15:41:33.977291Z",
     "shell.execute_reply": "2022-02-24T15:41:33.976704Z",
     "shell.execute_reply.started": "2022-02-24T15:20:53.937603Z"
    },
    "papermill": {
     "duration": 0.132848,
     "end_time": "2022-02-24T15:41:33.977421",
     "exception": false,
     "start_time": "2022-02-24T15:41:33.844573",
     "status": "completed"
    },
    "tags": []
   },
   "outputs": [
    {
     "data": {
      "text/plain": [
       "array(['A5', 'PC', 'STONO2', 'X', 'PP', 'CA', 'SCParis', 'SCA4', 'A4',\n",
       "       'SP', 'SOC', 'WC', 'SOTONOQ', 'WEP', 'STONO', 'C', 'SCPARIS',\n",
       "       'SOP', 'Fa', 'LINE', 'FCC', 'SWPP', 'SCOW', 'PPP', 'SC', 'SCAH',\n",
       "       'AS', 'SOPP', 'FC', 'SOTONO2', 'CASOTON', 'SCA3', 'STONOQ', 'AQ4',\n",
       "       'A', 'LP', 'AQ3'], dtype=object)"
      ]
     },
     "execution_count": 44,
     "metadata": {},
     "output_type": "execute_result"
    }
   ],
   "source": [
    "dataset['Ticket'].unique()"
   ]
  },
  {
   "cell_type": "markdown",
   "id": "2161647b",
   "metadata": {
    "papermill": {
     "duration": 0.121208,
     "end_time": "2022-02-24T15:41:34.221163",
     "exception": false,
     "start_time": "2022-02-24T15:41:34.099955",
     "status": "completed"
    },
    "tags": []
   },
   "source": [
    "FAMILY\n",
    "We can observe that the chance of survival is differnet depends on the size of the family.\n",
    "here the family is the combination of the number of parents / children aboard the Titanic and number of siblings / spouses aboard the Titanic.\n",
    "so we can find the size each family onboard by adding Sibp and Parch + 1(passenger himself)"
   ]
  },
  {
   "cell_type": "markdown",
   "id": "345c42eb",
   "metadata": {
    "papermill": {
     "duration": 0.120865,
     "end_time": "2022-02-24T15:41:34.465225",
     "exception": false,
     "start_time": "2022-02-24T15:41:34.344360",
     "status": "completed"
    },
    "tags": []
   },
   "source": [
    "### Sib /Parch"
   ]
  },
  {
   "cell_type": "code",
   "execution_count": 45,
   "id": "199503a5",
   "metadata": {
    "execution": {
     "iopub.execute_input": "2022-02-24T15:41:34.712413Z",
     "iopub.status.busy": "2022-02-24T15:41:34.711692Z",
     "iopub.status.idle": "2022-02-24T15:41:34.714870Z",
     "shell.execute_reply": "2022-02-24T15:41:34.714409Z",
     "shell.execute_reply.started": "2022-02-24T15:20:53.952033Z"
    },
    "papermill": {
     "duration": 0.128684,
     "end_time": "2022-02-24T15:41:34.714985",
     "exception": false,
     "start_time": "2022-02-24T15:41:34.586301",
     "status": "completed"
    },
    "tags": []
   },
   "outputs": [],
   "source": [
    "dataset['Family']=dataset[\"SibSp\"] + dataset[\"Parch\"] + 1 "
   ]
  },
  {
   "cell_type": "markdown",
   "id": "565d4587",
   "metadata": {
    "papermill": {
     "duration": 0.158363,
     "end_time": "2022-02-24T15:41:34.996896",
     "exception": false,
     "start_time": "2022-02-24T15:41:34.838533",
     "status": "completed"
    },
    "tags": []
   },
   "source": [
    "Below plot shows the survial probability based on family class, and the most is with the familyh number 4,\n",
    "But its not necessary that the indivitual traveller will survive , it may be most of the lone travellers are males.\n",
    "Also we can observe that the family size beyond 5 has less chance of survival since the difficulity in mobility altogether.\n",
    "by looking below details we can divide the family data into few classes , like single, small family, medium,large,very large"
   ]
  },
  {
   "cell_type": "code",
   "execution_count": 46,
   "id": "838ee623",
   "metadata": {
    "execution": {
     "iopub.execute_input": "2022-02-24T15:41:35.244458Z",
     "iopub.status.busy": "2022-02-24T15:41:35.243634Z",
     "iopub.status.idle": "2022-02-24T15:41:35.917360Z",
     "shell.execute_reply": "2022-02-24T15:41:35.917809Z",
     "shell.execute_reply.started": "2022-02-24T15:20:53.966911Z"
    },
    "papermill": {
     "duration": 0.800727,
     "end_time": "2022-02-24T15:41:35.917975",
     "exception": false,
     "start_time": "2022-02-24T15:41:35.117248",
     "status": "completed"
    },
    "tags": []
   },
   "outputs": [
    {
     "data": {
      "image/png": "[encoded data removed]",
      "text/plain": [
       "<Figure size 432x288 with 1 Axes>"
      ]
     },
     "metadata": {
      "needs_background": "light"
     },
     "output_type": "display_data"
    },
    {
     "data": {
      "image/png": "[encoded data removed]",
      "text/plain": [
       "<Figure size 432x288 with 1 Axes>"
      ]
     },
     "metadata": {
      "needs_background": "light"
     },
     "output_type": "display_data"
    }
   ],
   "source": [
    "sns.barplot(x='Family',y='Survived',data=dataset)\n",
    "plt.show()\n",
    "sns.countplot(x='Family',hue='Survived',data=dataset)\n",
    "plt.show()"
   ]
  },
  {
   "cell_type": "code",
   "execution_count": 47,
   "id": "1e631474",
   "metadata": {
    "execution": {
     "iopub.execute_input": "2022-02-24T15:41:36.172882Z",
     "iopub.status.busy": "2022-02-24T15:41:36.172268Z",
     "iopub.status.idle": "2022-02-24T15:41:36.174963Z",
     "shell.execute_reply": "2022-02-24T15:41:36.175356Z",
     "shell.execute_reply.started": "2022-02-24T15:20:54.868069Z"
    },
    "papermill": {
     "duration": 0.130397,
     "end_time": "2022-02-24T15:41:36.175488",
     "exception": false,
     "start_time": "2022-02-24T15:41:36.045091",
     "status": "completed"
    },
    "tags": []
   },
   "outputs": [
    {
     "data": {
      "text/plain": [
       "0    2\n",
       "1    2\n",
       "2    1\n",
       "3    2\n",
       "4    1\n",
       "Name: Family, dtype: int64"
      ]
     },
     "execution_count": 47,
     "metadata": {},
     "output_type": "execute_result"
    }
   ],
   "source": [
    "dataset['Family'].head()"
   ]
  },
  {
   "cell_type": "markdown",
   "id": "ab388e7a",
   "metadata": {
    "execution": {
     "iopub.execute_input": "2021-11-11T05:47:02.251779Z",
     "iopub.status.busy": "2021-11-11T05:47:02.251238Z",
     "iopub.status.idle": "2021-11-11T05:47:02.39364Z",
     "shell.execute_reply": "2021-11-11T05:47:02.392892Z",
     "shell.execute_reply.started": "2021-11-11T05:47:02.251743Z"
    },
    "papermill": {
     "duration": 0.121385,
     "end_time": "2022-02-24T15:41:36.418006",
     "exception": false,
     "start_time": "2022-02-24T15:41:36.296621",
     "status": "completed"
    },
    "tags": []
   },
   "source": [
    "for i in range(0,len(dataset)):\n",
    "    print (dataset['Family'].iloc[i])"
   ]
  },
  {
   "cell_type": "code",
   "execution_count": 48,
   "id": "ff56307b",
   "metadata": {
    "execution": {
     "iopub.execute_input": "2022-02-24T15:41:36.664608Z",
     "iopub.status.busy": "2022-02-24T15:41:36.663826Z",
     "iopub.status.idle": "2022-02-24T15:41:36.824469Z",
     "shell.execute_reply": "2022-02-24T15:41:36.825077Z",
     "shell.execute_reply.started": "2022-02-24T15:20:54.878860Z"
    },
    "papermill": {
     "duration": 0.285173,
     "end_time": "2022-02-24T15:41:36.825262",
     "exception": false,
     "start_time": "2022-02-24T15:41:36.540089",
     "status": "completed"
    },
    "tags": []
   },
   "outputs": [
    {
     "name": "stderr",
     "output_type": "stream",
     "text": [
      "/opt/conda/lib/python3.7/site-packages/pandas/core/indexing.py:1732: SettingWithCopyWarning: \n",
      "A value is trying to be set on a copy of a slice from a DataFrame\n",
      "\n",
      "See the caveats in the documentation: https://pandas.pydata.org/pandas-docs/stable/user_guide/indexing.html#returning-a-view-versus-a-copy\n",
      "  self._setitem_single_block(indexer, value, name)\n"
     ]
    }
   ],
   "source": [
    "for i in range(0,len(dataset)):\n",
    "    if dataset['Family'].iloc[i]== 1:\n",
    "        dataset['Family'].iloc[i] = 'Single'\n",
    "    elif dataset['Family'].iloc[i] == 2:\n",
    "        dataset['Family'].iloc[i] = 'Couple'\n",
    "    elif dataset['Family'].iloc[i] >= 3 and dataset['Family'].iloc[i] <=4 :\n",
    "        dataset['Family'].iloc[i] = 'SmallFam'\n",
    "    elif dataset['Family'].iloc[i] >= 5 and dataset['Family'].iloc[i] <=7 :\n",
    "        dataset['Family'].iloc[i] = 'LargeFam'\n",
    "    elif dataset['Family'].iloc[i] > 7  :\n",
    "        dataset['Family'].iloc[i] = 'BigFam'\n",
    "        \n",
    "        "
   ]
  },
  {
   "cell_type": "code",
   "execution_count": 49,
   "id": "9fe24b03",
   "metadata": {
    "execution": {
     "iopub.execute_input": "2022-02-24T15:41:37.077575Z",
     "iopub.status.busy": "2022-02-24T15:41:37.077062Z",
     "iopub.status.idle": "2022-02-24T15:41:37.081292Z",
     "shell.execute_reply": "2022-02-24T15:41:37.081649Z",
     "shell.execute_reply.started": "2022-02-24T15:20:55.212078Z"
    },
    "papermill": {
     "duration": 0.13293,
     "end_time": "2022-02-24T15:41:37.081799",
     "exception": false,
     "start_time": "2022-02-24T15:41:36.948869",
     "status": "completed"
    },
    "tags": []
   },
   "outputs": [
    {
     "data": {
      "text/plain": [
       "array(['Couple', 'Single', 'LargeFam', 'SmallFam', 'BigFam'], dtype=object)"
      ]
     },
     "execution_count": 49,
     "metadata": {},
     "output_type": "execute_result"
    }
   ],
   "source": [
    "dataset['Family'].unique()"
   ]
  },
  {
   "cell_type": "markdown",
   "id": "6d7edef5",
   "metadata": {
    "papermill": {
     "duration": 0.122988,
     "end_time": "2022-02-24T15:41:37.327331",
     "exception": false,
     "start_time": "2022-02-24T15:41:37.204343",
     "status": "completed"
    },
    "tags": []
   },
   "source": []
  },
  {
   "cell_type": "code",
   "execution_count": 50,
   "id": "05388723",
   "metadata": {
    "execution": {
     "iopub.execute_input": "2022-02-24T15:41:37.583123Z",
     "iopub.status.busy": "2022-02-24T15:41:37.582162Z",
     "iopub.status.idle": "2022-02-24T15:41:37.591993Z",
     "shell.execute_reply": "2022-02-24T15:41:37.592563Z",
     "shell.execute_reply.started": "2022-02-24T15:20:55.222248Z"
    },
    "papermill": {
     "duration": 0.141841,
     "end_time": "2022-02-24T15:41:37.592741",
     "exception": false,
     "start_time": "2022-02-24T15:41:37.450900",
     "status": "completed"
    },
    "tags": []
   },
   "outputs": [
    {
     "name": "stdout",
     "output_type": "stream",
     "text": [
      "<class 'pandas.core.frame.DataFrame'>\n",
      "RangeIndex: 1309 entries, 0 to 1308\n",
      "Data columns (total 13 columns):\n",
      " #   Column       Non-Null Count  Dtype  \n",
      "---  ------       --------------  -----  \n",
      " 0   PassengerId  1309 non-null   int64  \n",
      " 1   Survived     891 non-null    float64\n",
      " 2   Pclass       1309 non-null   int64  \n",
      " 3   Sex          1309 non-null   object \n",
      " 4   Age          1309 non-null   float64\n",
      " 5   SibSp        1309 non-null   int64  \n",
      " 6   Parch        1309 non-null   int64  \n",
      " 7   Ticket       1309 non-null   object \n",
      " 8   Fare         1309 non-null   float64\n",
      " 9   Cabin        1309 non-null   object \n",
      " 10  Embarked     1309 non-null   object \n",
      " 11  Title        1309 non-null   int64  \n",
      " 12  Family       1309 non-null   object \n",
      "dtypes: float64(3), int64(5), object(5)\n",
      "memory usage: 133.1+ KB\n"
     ]
    }
   ],
   "source": [
    "dataset.info()"
   ]
  },
  {
   "cell_type": "markdown",
   "id": "d7cf1aba",
   "metadata": {
    "papermill": {
     "duration": 0.122323,
     "end_time": "2022-02-24T15:41:37.839795",
     "exception": false,
     "start_time": "2022-02-24T15:41:37.717472",
     "status": "completed"
    },
    "tags": []
   },
   "source": [
    "## Feature Transformations for Linear models"
   ]
  },
  {
   "cell_type": "markdown",
   "id": "e063296e",
   "metadata": {
    "papermill": {
     "duration": 0.123381,
     "end_time": "2022-02-24T15:41:38.088363",
     "exception": false,
     "start_time": "2022-02-24T15:41:37.964982",
     "status": "completed"
    },
    "tags": []
   },
   "source": [
    "CHECK THE DATA DISTRUBITION AND SKEW OF EACH NUMERICAL FEATURES\n",
    "\n",
    "Below we can check the skew and try different transformers so that the skew will be minimum . among all Yeo john transformer has least skew \n",
    "Also we cant use the box cox transformer since we have some zero values in Fare."
   ]
  },
  {
   "cell_type": "markdown",
   "id": "c8773d1d",
   "metadata": {
    "papermill": {
     "duration": 0.122084,
     "end_time": "2022-02-24T15:41:38.332854",
     "exception": false,
     "start_time": "2022-02-24T15:41:38.210770",
     "status": "completed"
    },
    "tags": []
   },
   "source": [
    "### Fare"
   ]
  },
  {
   "cell_type": "code",
   "execution_count": 51,
   "id": "ebe9caae",
   "metadata": {
    "execution": {
     "iopub.execute_input": "2022-02-24T15:41:38.584117Z",
     "iopub.status.busy": "2022-02-24T15:41:38.583028Z",
     "iopub.status.idle": "2022-02-24T15:41:38.586125Z",
     "shell.execute_reply": "2022-02-24T15:41:38.586517Z",
     "shell.execute_reply.started": "2022-02-24T15:20:55.245573Z"
    },
    "papermill": {
     "duration": 0.131378,
     "end_time": "2022-02-24T15:41:38.586640",
     "exception": false,
     "start_time": "2022-02-24T15:41:38.455262",
     "status": "completed"
    },
    "tags": []
   },
   "outputs": [
    {
     "data": {
      "text/plain": [
       "4.3695095504693855"
      ]
     },
     "execution_count": 51,
     "metadata": {},
     "output_type": "execute_result"
    }
   ],
   "source": [
    "dataset['Fare'].skew()"
   ]
  },
  {
   "cell_type": "code",
   "execution_count": 52,
   "id": "62979f34",
   "metadata": {
    "execution": {
     "iopub.execute_input": "2022-02-24T15:41:38.852595Z",
     "iopub.status.busy": "2022-02-24T15:41:38.851992Z",
     "iopub.status.idle": "2022-02-24T15:41:39.295511Z",
     "shell.execute_reply": "2022-02-24T15:41:39.295050Z",
     "shell.execute_reply.started": "2022-02-24T15:20:55.257449Z"
    },
    "papermill": {
     "duration": 0.585876,
     "end_time": "2022-02-24T15:41:39.295632",
     "exception": false,
     "start_time": "2022-02-24T15:41:38.709756",
     "status": "completed"
    },
    "tags": []
   },
   "outputs": [
    {
     "name": "stdout",
     "output_type": "stream",
     "text": [
      "Skew: 4.3695095504693855\n"
     ]
    },
    {
     "data": {
      "image/png": "[encoded data removed]",
      "text/plain": [
       "<Figure size 432x288 with 1 Axes>"
      ]
     },
     "metadata": {
      "needs_background": "light"
     },
     "output_type": "display_data"
    }
   ],
   "source": [
    "sns.histplot(dataset['Fare'],kde='True')\n",
    "print('Skew:',dataset['Fare'].skew())"
   ]
  },
  {
   "cell_type": "code",
   "execution_count": 53,
   "id": "27fa7c01",
   "metadata": {
    "execution": {
     "iopub.execute_input": "2022-02-24T15:41:39.549054Z",
     "iopub.status.busy": "2022-02-24T15:41:39.548255Z",
     "iopub.status.idle": "2022-02-24T15:41:39.799851Z",
     "shell.execute_reply": "2022-02-24T15:41:39.800286Z",
     "shell.execute_reply.started": "2022-02-24T15:20:55.842103Z"
    },
    "papermill": {
     "duration": 0.379546,
     "end_time": "2022-02-24T15:41:39.800440",
     "exception": false,
     "start_time": "2022-02-24T15:41:39.420894",
     "status": "completed"
    },
    "tags": []
   },
   "outputs": [
    {
     "name": "stderr",
     "output_type": "stream",
     "text": [
      "/opt/conda/lib/python3.7/site-packages/pandas/core/arraylike.py:364: RuntimeWarning: divide by zero encountered in log\n",
      "  result = getattr(ufunc, method)(*inputs, **kwargs)\n"
     ]
    },
    {
     "name": "stdout",
     "output_type": "stream",
     "text": [
      "Skew: nan\n"
     ]
    },
    {
     "data": {
      "image/png": "[encoded data removed]",
      "text/plain": [
       "<Figure size 432x288 with 1 Axes>"
      ]
     },
     "metadata": {
      "needs_background": "light"
     },
     "output_type": "display_data"
    }
   ],
   "source": [
    "# log norm of fare \n",
    "dataset['norm_fare'] = np.log(dataset.Fare)\n",
    "sns.histplot(dataset['norm_fare'],kde='True')\n",
    "print('Skew:',dataset['norm_fare'].skew())"
   ]
  },
  {
   "cell_type": "code",
   "execution_count": 54,
   "id": "fd7f8937",
   "metadata": {
    "execution": {
     "iopub.execute_input": "2022-02-24T15:41:40.066952Z",
     "iopub.status.busy": "2022-02-24T15:41:40.064563Z",
     "iopub.status.idle": "2022-02-24T15:41:40.330981Z",
     "shell.execute_reply": "2022-02-24T15:41:40.330453Z",
     "shell.execute_reply.started": "2022-02-24T15:20:56.168975Z"
    },
    "papermill": {
     "duration": 0.403132,
     "end_time": "2022-02-24T15:41:40.331106",
     "exception": false,
     "start_time": "2022-02-24T15:41:39.927974",
     "status": "completed"
    },
    "tags": []
   },
   "outputs": [
    {
     "name": "stdout",
     "output_type": "stream",
     "text": [
      "Skew: 2.0882893025090605\n"
     ]
    },
    {
     "data": {
      "image/png": "[encoded data removed]",
      "text/plain": [
       "<Figure size 432x288 with 1 Axes>"
      ]
     },
     "metadata": {
      "needs_background": "light"
     },
     "output_type": "display_data"
    }
   ],
   "source": [
    "#square root transformation \n",
    "dataset['sq_fare'] = dataset['Fare']**(1/2)\n",
    "sns.histplot(dataset['sq_fare'],kde='True')\n",
    "print('Skew:',dataset['sq_fare'].skew())"
   ]
  },
  {
   "cell_type": "code",
   "execution_count": 55,
   "id": "0817a73d",
   "metadata": {
    "execution": {
     "iopub.execute_input": "2022-02-24T15:41:40.602244Z",
     "iopub.status.busy": "2022-02-24T15:41:40.601387Z",
     "iopub.status.idle": "2022-02-24T15:41:40.849684Z",
     "shell.execute_reply": "2022-02-24T15:41:40.850215Z",
     "shell.execute_reply.started": "2022-02-24T15:20:56.533541Z"
    },
    "papermill": {
     "duration": 0.392429,
     "end_time": "2022-02-24T15:41:40.850375",
     "exception": false,
     "start_time": "2022-02-24T15:41:40.457946",
     "status": "completed"
    },
    "tags": []
   },
   "outputs": [
    {
     "name": "stdout",
     "output_type": "stream",
     "text": [
      "Skew: 1.538609113365666\n"
     ]
    },
    {
     "data": {
      "image/png": "[encoded data removed]",
      "text/plain": [
       "<Figure size 432x288 with 1 Axes>"
      ]
     },
     "metadata": {
      "needs_background": "light"
     },
     "output_type": "display_data"
    }
   ],
   "source": [
    "dataset['exp_fare']=dataset['Fare']**(1/2.7)\n",
    "sns.histplot(dataset['exp_fare'],kde='True')\n",
    "print('Skew:',dataset['exp_fare'].skew())"
   ]
  },
  {
   "cell_type": "code",
   "execution_count": 56,
   "id": "dc76044c",
   "metadata": {
    "execution": {
     "iopub.execute_input": "2022-02-24T15:41:41.116133Z",
     "iopub.status.busy": "2022-02-24T15:41:41.115312Z",
     "iopub.status.idle": "2022-02-24T15:41:41.503346Z",
     "shell.execute_reply": "2022-02-24T15:41:41.503712Z",
     "shell.execute_reply.started": "2022-02-24T15:20:56.886697Z"
    },
    "papermill": {
     "duration": 0.521828,
     "end_time": "2022-02-24T15:41:41.503873",
     "exception": false,
     "start_time": "2022-02-24T15:41:40.982045",
     "status": "completed"
    },
    "tags": []
   },
   "outputs": [
    {
     "name": "stdout",
     "output_type": "stream",
     "text": [
      "skew -0.056947576885828195\n"
     ]
    },
    {
     "data": {
      "text/plain": [
       "<AxesSubplot:xlabel='Fare_YJ', ylabel='Count'>"
      ]
     },
     "execution_count": 56,
     "metadata": {},
     "output_type": "execute_result"
    },
    {
     "data": {
      "image/png": "[encoded data removed]",
      "text/plain": [
       "<Figure size 432x288 with 1 Axes>"
      ]
     },
     "metadata": {
      "needs_background": "light"
     },
     "output_type": "display_data"
    }
   ],
   "source": [
    "\n",
    "\"\"\"\n",
    "Below is one of the two power transformers  yeo johnson and box cox but we cant use boxcox on 0 \n",
    "or negative values so used yeo john transformer here\"\"\"\n",
    "import scipy.stats as stat\n",
    "from sklearn.preprocessing import PowerTransformer\n",
    "pt = PowerTransformer()\n",
    "ptdata=pd.DataFrame(pt.fit_transform(dataset['Fare'].values.reshape(-1,1)),columns=['Fare_YJ'])\n",
    "print('skew',ptdata['Fare_YJ'].skew())\n",
    "sns.histplot(ptdata['Fare_YJ'],kde='True')"
   ]
  },
  {
   "cell_type": "code",
   "execution_count": 57,
   "id": "56f41814",
   "metadata": {
    "execution": {
     "iopub.execute_input": "2022-02-24T15:41:41.769221Z",
     "iopub.status.busy": "2022-02-24T15:41:41.768350Z",
     "iopub.status.idle": "2022-02-24T15:41:41.771704Z",
     "shell.execute_reply": "2022-02-24T15:41:41.772102Z",
     "shell.execute_reply.started": "2022-02-24T15:20:57.374376Z"
    },
    "papermill": {
     "duration": 0.138893,
     "end_time": "2022-02-24T15:41:41.772240",
     "exception": false,
     "start_time": "2022-02-24T15:41:41.633347",
     "status": "completed"
    },
    "tags": []
   },
   "outputs": [],
   "source": [
    "#Assign the Yj transformed values to dataset\n",
    "dataset['Fare_transformed']=ptdata['Fare_YJ']\n",
    "dataset.drop(labels = [\"Fare\"], axis = 1, inplace = True) #drop actual Fare feature from the dataset"
   ]
  },
  {
   "cell_type": "code",
   "execution_count": 58,
   "id": "82679776",
   "metadata": {
    "execution": {
     "iopub.execute_input": "2022-02-24T15:41:42.154504Z",
     "iopub.status.busy": "2022-02-24T15:41:42.153677Z",
     "iopub.status.idle": "2022-02-24T15:41:42.156719Z",
     "shell.execute_reply": "2022-02-24T15:41:42.157335Z",
     "shell.execute_reply.started": "2022-02-24T15:20:57.385094Z"
    },
    "papermill": {
     "duration": 0.239244,
     "end_time": "2022-02-24T15:41:42.157635",
     "exception": false,
     "start_time": "2022-02-24T15:41:41.918391",
     "status": "completed"
    },
    "tags": []
   },
   "outputs": [],
   "source": [
    "dataset.drop(labels = ['norm_fare','exp_fare','sq_fare'], axis = 1, inplace = True) #drop transformed column"
   ]
  },
  {
   "cell_type": "code",
   "execution_count": 59,
   "id": "85c27117",
   "metadata": {
    "execution": {
     "iopub.execute_input": "2022-02-24T15:41:42.556084Z",
     "iopub.status.busy": "2022-02-24T15:41:42.555486Z",
     "iopub.status.idle": "2022-02-24T15:41:42.558151Z",
     "shell.execute_reply": "2022-02-24T15:41:42.558551Z",
     "shell.execute_reply.started": "2022-02-24T15:20:57.400755Z"
    },
    "papermill": {
     "duration": 0.188029,
     "end_time": "2022-02-24T15:41:42.558679",
     "exception": false,
     "start_time": "2022-02-24T15:41:42.370650",
     "status": "completed"
    },
    "tags": []
   },
   "outputs": [
    {
     "data": {
      "text/plain": [
       "(-3.8325960514396753, 2.8196338617831143)"
      ]
     },
     "execution_count": 59,
     "metadata": {},
     "output_type": "execute_result"
    }
   ],
   "source": [
    "dataset['Fare_transformed'].min(),dataset['Fare_transformed'].max()"
   ]
  },
  {
   "cell_type": "markdown",
   "id": "b89ac3e9",
   "metadata": {
    "papermill": {
     "duration": 0.145073,
     "end_time": "2022-02-24T15:41:42.842676",
     "exception": false,
     "start_time": "2022-02-24T15:41:42.697603",
     "status": "completed"
    },
    "tags": []
   },
   "source": [
    "### Age"
   ]
  },
  {
   "cell_type": "markdown",
   "id": "01939f24",
   "metadata": {
    "papermill": {
     "duration": 0.130431,
     "end_time": "2022-02-24T15:41:43.104007",
     "exception": false,
     "start_time": "2022-02-24T15:41:42.973576",
     "status": "completed"
    },
    "tags": []
   },
   "source": [
    "Age has normally distributed data and very low skew so no need to transform the data"
   ]
  },
  {
   "cell_type": "code",
   "execution_count": 60,
   "id": "c512cd24",
   "metadata": {
    "execution": {
     "iopub.execute_input": "2022-02-24T15:41:43.417022Z",
     "iopub.status.busy": "2022-02-24T15:41:43.416386Z",
     "iopub.status.idle": "2022-02-24T15:41:43.669844Z",
     "shell.execute_reply": "2022-02-24T15:41:43.670292Z",
     "shell.execute_reply.started": "2022-02-24T15:20:57.416069Z"
    },
    "papermill": {
     "duration": 0.38939,
     "end_time": "2022-02-24T15:41:43.670438",
     "exception": false,
     "start_time": "2022-02-24T15:41:43.281048",
     "status": "completed"
    },
    "tags": []
   },
   "outputs": [
    {
     "name": "stdout",
     "output_type": "stream",
     "text": [
      "Skew_Age 0.5404952253605563\n"
     ]
    },
    {
     "data": {
      "image/png": "[encoded data removed]",
      "text/plain": [
       "<Figure size 432x288 with 1 Axes>"
      ]
     },
     "metadata": {
      "needs_background": "light"
     },
     "output_type": "display_data"
    }
   ],
   "source": [
    "sns.histplot(dataset['Age'],kde='True')\n",
    "print ('Skew_Age',dataset['Age'].skew())  # Age have very low skew value so not applying the transformation"
   ]
  },
  {
   "cell_type": "markdown",
   "id": "171cd15f",
   "metadata": {
    "papermill": {
     "duration": 0.133952,
     "end_time": "2022-02-24T15:41:43.936254",
     "exception": false,
     "start_time": "2022-02-24T15:41:43.802302",
     "status": "completed"
    },
    "tags": []
   },
   "source": [
    "### SibSp"
   ]
  },
  {
   "cell_type": "markdown",
   "id": "1827fc0a",
   "metadata": {
    "papermill": {
     "duration": 0.129339,
     "end_time": "2022-02-24T15:41:44.198856",
     "exception": false,
     "start_time": "2022-02-24T15:41:44.069517",
     "status": "completed"
    },
    "tags": []
   },
   "source": [
    "SibSp has relatively high skew so need to transform to reduce the skew and make the data normally distributed"
   ]
  },
  {
   "cell_type": "code",
   "execution_count": 61,
   "id": "edc79de4",
   "metadata": {
    "execution": {
     "iopub.execute_input": "2022-02-24T15:41:44.467677Z",
     "iopub.status.busy": "2022-02-24T15:41:44.465431Z",
     "iopub.status.idle": "2022-02-24T15:41:44.811800Z",
     "shell.execute_reply": "2022-02-24T15:41:44.812447Z",
     "shell.execute_reply.started": "2022-02-24T15:20:57.762676Z"
    },
    "papermill": {
     "duration": 0.483357,
     "end_time": "2022-02-24T15:41:44.812659",
     "exception": false,
     "start_time": "2022-02-24T15:41:44.329302",
     "status": "completed"
    },
    "tags": []
   },
   "outputs": [
    {
     "name": "stdout",
     "output_type": "stream",
     "text": [
      "Skew_Sibp 3.844220342922907\n"
     ]
    },
    {
     "data": {
      "image/png": "[encoded data removed]",
      "text/plain": [
       "<Figure size 432x288 with 1 Axes>"
      ]
     },
     "metadata": {
      "needs_background": "light"
     },
     "output_type": "display_data"
    }
   ],
   "source": [
    "sns.histplot(dataset['SibSp'],kde='True')\n",
    "print ('Skew_Sibp',dataset['SibSp'].skew()) "
   ]
  },
  {
   "cell_type": "code",
   "execution_count": 62,
   "id": "a9e72c5b",
   "metadata": {
    "execution": {
     "iopub.execute_input": "2022-02-24T15:41:45.258728Z",
     "iopub.status.busy": "2022-02-24T15:41:45.257821Z",
     "iopub.status.idle": "2022-02-24T15:41:45.509759Z",
     "shell.execute_reply": "2022-02-24T15:41:45.510349Z",
     "shell.execute_reply.started": "2022-02-24T15:20:58.131125Z"
    },
    "papermill": {
     "duration": 0.469742,
     "end_time": "2022-02-24T15:41:45.510556",
     "exception": false,
     "start_time": "2022-02-24T15:41:45.040814",
     "status": "completed"
    },
    "tags": []
   },
   "outputs": [
    {
     "name": "stderr",
     "output_type": "stream",
     "text": [
      "/opt/conda/lib/python3.7/site-packages/pandas/core/arraylike.py:364: RuntimeWarning: divide by zero encountered in log\n",
      "  result = getattr(ufunc, method)(*inputs, **kwargs)\n"
     ]
    },
    {
     "name": "stdout",
     "output_type": "stream",
     "text": [
      "Skew: nan\n"
     ]
    },
    {
     "data": {
      "image/png": "[encoded data removed]",
      "text/plain": [
       "<Figure size 432x288 with 1 Axes>"
      ]
     },
     "metadata": {
      "needs_background": "light"
     },
     "output_type": "display_data"
    }
   ],
   "source": [
    "# log norm of Sibsp\n",
    "dataset['log_Sib'] = np.log(dataset.SibSp)\n",
    "sns.histplot(dataset['log_Sib'],kde='True')\n",
    "print('Skew:',dataset['log_Sib'].skew())"
   ]
  },
  {
   "cell_type": "code",
   "execution_count": 63,
   "id": "6afa6237",
   "metadata": {
    "execution": {
     "iopub.execute_input": "2022-02-24T15:41:45.927761Z",
     "iopub.status.busy": "2022-02-24T15:41:45.926983Z",
     "iopub.status.idle": "2022-02-24T15:41:46.137358Z",
     "shell.execute_reply": "2022-02-24T15:41:46.137739Z",
     "shell.execute_reply.started": "2022-02-24T15:20:58.408798Z"
    },
    "papermill": {
     "duration": 0.39499,
     "end_time": "2022-02-24T15:41:46.137903",
     "exception": false,
     "start_time": "2022-02-24T15:41:45.742913",
     "status": "completed"
    },
    "tags": []
   },
   "outputs": [
    {
     "name": "stdout",
     "output_type": "stream",
     "text": [
      "skew 0.7965686892843059\n"
     ]
    },
    {
     "data": {
      "text/plain": [
       "<AxesSubplot:xlabel='sib_YJ', ylabel='Count'>"
      ]
     },
     "execution_count": 63,
     "metadata": {},
     "output_type": "execute_result"
    },
    {
     "data": {
      "image/png": "[encoded data removed]",
      "text/plain": [
       "<Figure size 432x288 with 1 Axes>"
      ]
     },
     "metadata": {
      "needs_background": "light"
     },
     "output_type": "display_data"
    }
   ],
   "source": [
    "ptdata=pd.DataFrame(pt.fit_transform(dataset['SibSp'].values.reshape(-1,1)),columns=['sib_YJ'])\n",
    "print('skew',ptdata['sib_YJ'].skew())\n",
    "sns.histplot(ptdata['sib_YJ'],kde='True')"
   ]
  },
  {
   "cell_type": "code",
   "execution_count": 64,
   "id": "8e59a651",
   "metadata": {
    "execution": {
     "iopub.execute_input": "2022-02-24T15:41:46.414615Z",
     "iopub.status.busy": "2022-02-24T15:41:46.413767Z",
     "iopub.status.idle": "2022-02-24T15:41:46.417948Z",
     "shell.execute_reply": "2022-02-24T15:41:46.417525Z",
     "shell.execute_reply.started": "2022-02-24T15:20:58.830773Z"
    },
    "papermill": {
     "duration": 0.145171,
     "end_time": "2022-02-24T15:41:46.418082",
     "exception": false,
     "start_time": "2022-02-24T15:41:46.272911",
     "status": "completed"
    },
    "tags": []
   },
   "outputs": [],
   "source": [
    "dataset['Sib_norm']=ptdata['sib_YJ'] #Added Yeo-joh transformed Sibsp to the dataset\n",
    "dataset.drop(labels = [\"SibSp\"], axis = 1, inplace = True) #drop actual SibSp columns\n",
    "dataset.drop(labels = [\"log_Sib\"], axis = 1, inplace = True) #a log transformation created earlier , decicded not to use so deleting it from the dataset"
   ]
  },
  {
   "cell_type": "markdown",
   "id": "33ac1bdf",
   "metadata": {
    "papermill": {
     "duration": 0.136908,
     "end_time": "2022-02-24T15:41:46.692458",
     "exception": false,
     "start_time": "2022-02-24T15:41:46.555550",
     "status": "completed"
    },
    "tags": []
   },
   "source": [
    "### Parch"
   ]
  },
  {
   "cell_type": "code",
   "execution_count": 65,
   "id": "54977a4c",
   "metadata": {
    "execution": {
     "iopub.execute_input": "2022-02-24T15:41:46.970837Z",
     "iopub.status.busy": "2022-02-24T15:41:46.967644Z",
     "iopub.status.idle": "2022-02-24T15:41:47.190511Z",
     "shell.execute_reply": "2022-02-24T15:41:47.191024Z",
     "shell.execute_reply.started": "2022-02-24T15:20:58.855629Z"
    },
    "papermill": {
     "duration": 0.362573,
     "end_time": "2022-02-24T15:41:47.191177",
     "exception": false,
     "start_time": "2022-02-24T15:41:46.828604",
     "status": "completed"
    },
    "tags": []
   },
   "outputs": [
    {
     "name": "stdout",
     "output_type": "stream",
     "text": [
      "Skew_Parch 3.6690782036511136\n"
     ]
    },
    {
     "data": {
      "image/png": "[encoded data removed]",
      "text/plain": [
       "<Figure size 432x288 with 1 Axes>"
      ]
     },
     "metadata": {
      "needs_background": "light"
     },
     "output_type": "display_data"
    }
   ],
   "source": [
    "sns.histplot(dataset['Parch'],kde='True')\n",
    "print ('Skew_Parch',dataset['Parch'].skew()) "
   ]
  },
  {
   "cell_type": "markdown",
   "id": "4843b276",
   "metadata": {
    "papermill": {
     "duration": 0.135851,
     "end_time": "2022-02-24T15:41:47.463165",
     "exception": false,
     "start_time": "2022-02-24T15:41:47.327314",
     "status": "completed"
    },
    "tags": []
   },
   "source": []
  },
  {
   "cell_type": "code",
   "execution_count": 66,
   "id": "dc31b4fa",
   "metadata": {
    "execution": {
     "iopub.execute_input": "2022-02-24T15:41:47.740148Z",
     "iopub.status.busy": "2022-02-24T15:41:47.739230Z",
     "iopub.status.idle": "2022-02-24T15:41:47.965883Z",
     "shell.execute_reply": "2022-02-24T15:41:47.965394Z",
     "shell.execute_reply.started": "2022-02-24T15:20:59.222615Z"
    },
    "papermill": {
     "duration": 0.366313,
     "end_time": "2022-02-24T15:41:47.966016",
     "exception": false,
     "start_time": "2022-02-24T15:41:47.599703",
     "status": "completed"
    },
    "tags": []
   },
   "outputs": [
    {
     "name": "stderr",
     "output_type": "stream",
     "text": [
      "/opt/conda/lib/python3.7/site-packages/pandas/core/arraylike.py:364: RuntimeWarning: divide by zero encountered in log\n",
      "  result = getattr(ufunc, method)(*inputs, **kwargs)\n"
     ]
    },
    {
     "name": "stdout",
     "output_type": "stream",
     "text": [
      "Skew: nan\n"
     ]
    },
    {
     "data": {
      "image/png": "[encoded data removed]",
      "text/plain": [
       "<Figure size 432x288 with 1 Axes>"
      ]
     },
     "metadata": {
      "needs_background": "light"
     },
     "output_type": "display_data"
    }
   ],
   "source": [
    "# log norm of Parch\n",
    "dataset['norm_Par'] = np.log(dataset.Parch)\n",
    "sns.histplot(dataset['norm_Par'],kde='True')\n",
    "print('Skew:',dataset['norm_Par'].skew())\n",
    "dataset.drop(labels = [\"norm_Par\"], axis = 1, inplace = True) #drop transformed column"
   ]
  },
  {
   "cell_type": "markdown",
   "id": "498c3165",
   "metadata": {
    "papermill": {
     "duration": 0.139052,
     "end_time": "2022-02-24T15:41:48.245132",
     "exception": false,
     "start_time": "2022-02-24T15:41:48.106080",
     "status": "completed"
    },
    "tags": []
   },
   "source": [
    "HANDLE CATAGORICAL FEATURES INTO NUMERICAL ,ONE HOT ENCODING"
   ]
  },
  {
   "cell_type": "code",
   "execution_count": null,
   "id": "2f9bb501",
   "metadata": {
    "papermill": {
     "duration": 0.13705,
     "end_time": "2022-02-24T15:41:48.520152",
     "exception": false,
     "start_time": "2022-02-24T15:41:48.383102",
     "status": "completed"
    },
    "tags": []
   },
   "outputs": [],
   "source": []
  },
  {
   "cell_type": "code",
   "execution_count": 67,
   "id": "fe115240",
   "metadata": {
    "execution": {
     "iopub.execute_input": "2022-02-24T15:41:48.807635Z",
     "iopub.status.busy": "2022-02-24T15:41:48.801145Z",
     "iopub.status.idle": "2022-02-24T15:41:48.810599Z",
     "shell.execute_reply": "2022-02-24T15:41:48.811296Z",
     "shell.execute_reply.started": "2022-02-24T15:20:59.525872Z"
    },
    "papermill": {
     "duration": 0.154303,
     "end_time": "2022-02-24T15:41:48.811488",
     "exception": false,
     "start_time": "2022-02-24T15:41:48.657185",
     "status": "completed"
    },
    "tags": []
   },
   "outputs": [
    {
     "name": "stdout",
     "output_type": "stream",
     "text": [
      "<class 'pandas.core.frame.DataFrame'>\n",
      "RangeIndex: 1309 entries, 0 to 1308\n",
      "Data columns (total 13 columns):\n",
      " #   Column            Non-Null Count  Dtype  \n",
      "---  ------            --------------  -----  \n",
      " 0   PassengerId       1309 non-null   int64  \n",
      " 1   Survived          891 non-null    float64\n",
      " 2   Pclass            1309 non-null   int64  \n",
      " 3   Sex               1309 non-null   object \n",
      " 4   Age               1309 non-null   float64\n",
      " 5   Parch             1309 non-null   int64  \n",
      " 6   Ticket            1309 non-null   object \n",
      " 7   Cabin             1309 non-null   object \n",
      " 8   Embarked          1309 non-null   object \n",
      " 9   Title             1309 non-null   int64  \n",
      " 10  Family            1309 non-null   object \n",
      " 11  Fare_transformed  1309 non-null   float64\n",
      " 12  Sib_norm          1309 non-null   float64\n",
      "dtypes: float64(4), int64(4), object(5)\n",
      "memory usage: 133.1+ KB\n"
     ]
    }
   ],
   "source": [
    "dataset.info()"
   ]
  },
  {
   "cell_type": "markdown",
   "id": "19916158",
   "metadata": {
    "papermill": {
     "duration": 0.138161,
     "end_time": "2022-02-24T15:41:49.087004",
     "exception": false,
     "start_time": "2022-02-24T15:41:48.948843",
     "status": "completed"
    },
    "tags": []
   },
   "source": [
    "## Catagorical Data to One-Hot Encoding"
   ]
  },
  {
   "cell_type": "code",
   "execution_count": 68,
   "id": "e28cdc78",
   "metadata": {
    "execution": {
     "iopub.execute_input": "2022-02-24T15:41:49.370335Z",
     "iopub.status.busy": "2022-02-24T15:41:49.368574Z",
     "iopub.status.idle": "2022-02-24T15:41:49.374901Z",
     "shell.execute_reply": "2022-02-24T15:41:49.374426Z",
     "shell.execute_reply.started": "2022-02-24T15:20:59.545632Z"
    },
    "papermill": {
     "duration": 0.150405,
     "end_time": "2022-02-24T15:41:49.375022",
     "exception": false,
     "start_time": "2022-02-24T15:41:49.224617",
     "status": "completed"
    },
    "tags": []
   },
   "outputs": [],
   "source": [
    "dataset[\"Pclass\"] = dataset[\"Pclass\"].astype(\"category\")\n",
    "dataset = pd.get_dummies(dataset, columns = [\"Pclass\"],drop_first=True,prefix=\"Pcl\")"
   ]
  },
  {
   "cell_type": "code",
   "execution_count": 69,
   "id": "bacf15af",
   "metadata": {
    "execution": {
     "iopub.execute_input": "2022-02-24T15:41:49.659632Z",
     "iopub.status.busy": "2022-02-24T15:41:49.658749Z",
     "iopub.status.idle": "2022-02-24T15:41:49.665419Z",
     "shell.execute_reply": "2022-02-24T15:41:49.664939Z",
     "shell.execute_reply.started": "2022-02-24T15:20:59.564183Z"
    },
    "papermill": {
     "duration": 0.153338,
     "end_time": "2022-02-24T15:41:49.665538",
     "exception": false,
     "start_time": "2022-02-24T15:41:49.512200",
     "status": "completed"
    },
    "tags": []
   },
   "outputs": [],
   "source": [
    "dataset[\"Family\"] = dataset[\"Family\"].astype(\"category\")\n",
    "dataset = pd.get_dummies(dataset, columns = [\"Family\"],drop_first=True,prefix=\"Fam\")"
   ]
  },
  {
   "cell_type": "code",
   "execution_count": 70,
   "id": "497b2f95",
   "metadata": {
    "execution": {
     "iopub.execute_input": "2022-02-24T15:41:49.947701Z",
     "iopub.status.busy": "2022-02-24T15:41:49.946890Z",
     "iopub.status.idle": "2022-02-24T15:41:49.956997Z",
     "shell.execute_reply": "2022-02-24T15:41:49.956551Z",
     "shell.execute_reply.started": "2022-02-24T15:20:59.582047Z"
    },
    "papermill": {
     "duration": 0.153746,
     "end_time": "2022-02-24T15:41:49.957120",
     "exception": false,
     "start_time": "2022-02-24T15:41:49.803374",
     "status": "completed"
    },
    "tags": []
   },
   "outputs": [],
   "source": [
    "dataset = pd.get_dummies(dataset, columns = [\"Cabin\"],drop_first=True,prefix=\"Cabin\")\n",
    "dataset = pd.get_dummies(dataset, columns = [\"Ticket\"],drop_first=True, prefix=\"T\")"
   ]
  },
  {
   "cell_type": "code",
   "execution_count": 71,
   "id": "ed318f43",
   "metadata": {
    "execution": {
     "iopub.execute_input": "2022-02-24T15:41:50.240234Z",
     "iopub.status.busy": "2022-02-24T15:41:50.239658Z",
     "iopub.status.idle": "2022-02-24T15:41:50.252650Z",
     "shell.execute_reply": "2022-02-24T15:41:50.252217Z",
     "shell.execute_reply.started": "2022-02-24T15:20:59.603741Z"
    },
    "papermill": {
     "duration": 0.155454,
     "end_time": "2022-02-24T15:41:50.252771",
     "exception": false,
     "start_time": "2022-02-24T15:41:50.097317",
     "status": "completed"
    },
    "tags": []
   },
   "outputs": [],
   "source": [
    "dataset = pd.get_dummies(dataset, columns = [\"Title\"],drop_first=True)\n",
    "dataset = pd.get_dummies(dataset, columns = [\"Embarked\"],drop_first=True, prefix=\"Em\")\n",
    "dataset = pd.get_dummies(dataset, columns = [\"Sex\"],drop_first=True, prefix=\"Emb\")"
   ]
  },
  {
   "cell_type": "code",
   "execution_count": 72,
   "id": "e8909889",
   "metadata": {
    "execution": {
     "iopub.execute_input": "2022-02-24T15:41:50.535100Z",
     "iopub.status.busy": "2022-02-24T15:41:50.532694Z",
     "iopub.status.idle": "2022-02-24T15:41:50.547668Z",
     "shell.execute_reply": "2022-02-24T15:41:50.548323Z",
     "shell.execute_reply.started": "2022-02-24T15:20:59.630377Z"
    },
    "papermill": {
     "duration": 0.157233,
     "end_time": "2022-02-24T15:41:50.548458",
     "exception": false,
     "start_time": "2022-02-24T15:41:50.391225",
     "status": "completed"
    },
    "tags": []
   },
   "outputs": [
    {
     "name": "stdout",
     "output_type": "stream",
     "text": [
      "<class 'pandas.core.frame.DataFrame'>\n",
      "RangeIndex: 1309 entries, 0 to 1308\n",
      "Data columns (total 64 columns):\n",
      " #   Column            Non-Null Count  Dtype  \n",
      "---  ------            --------------  -----  \n",
      " 0   PassengerId       1309 non-null   int64  \n",
      " 1   Survived          891 non-null    float64\n",
      " 2   Age               1309 non-null   float64\n",
      " 3   Parch             1309 non-null   int64  \n",
      " 4   Fare_transformed  1309 non-null   float64\n",
      " 5   Sib_norm          1309 non-null   float64\n",
      " 6   Pcl_2             1309 non-null   uint8  \n",
      " 7   Pcl_3             1309 non-null   uint8  \n",
      " 8   Fam_Couple        1309 non-null   uint8  \n",
      " 9   Fam_LargeFam      1309 non-null   uint8  \n",
      " 10  Fam_Single        1309 non-null   uint8  \n",
      " 11  Fam_SmallFam      1309 non-null   uint8  \n",
      " 12  Cabin_B           1309 non-null   uint8  \n",
      " 13  Cabin_C           1309 non-null   uint8  \n",
      " 14  Cabin_D           1309 non-null   uint8  \n",
      " 15  Cabin_E           1309 non-null   uint8  \n",
      " 16  Cabin_F           1309 non-null   uint8  \n",
      " 17  Cabin_G           1309 non-null   uint8  \n",
      " 18  Cabin_T           1309 non-null   uint8  \n",
      " 19  Cabin_X           1309 non-null   uint8  \n",
      " 20  T_A4              1309 non-null   uint8  \n",
      " 21  T_A5              1309 non-null   uint8  \n",
      " 22  T_AQ3             1309 non-null   uint8  \n",
      " 23  T_AQ4             1309 non-null   uint8  \n",
      " 24  T_AS              1309 non-null   uint8  \n",
      " 25  T_C               1309 non-null   uint8  \n",
      " 26  T_CA              1309 non-null   uint8  \n",
      " 27  T_CASOTON         1309 non-null   uint8  \n",
      " 28  T_FC              1309 non-null   uint8  \n",
      " 29  T_FCC             1309 non-null   uint8  \n",
      " 30  T_Fa              1309 non-null   uint8  \n",
      " 31  T_LINE            1309 non-null   uint8  \n",
      " 32  T_LP              1309 non-null   uint8  \n",
      " 33  T_PC              1309 non-null   uint8  \n",
      " 34  T_PP              1309 non-null   uint8  \n",
      " 35  T_PPP             1309 non-null   uint8  \n",
      " 36  T_SC              1309 non-null   uint8  \n",
      " 37  T_SCA3            1309 non-null   uint8  \n",
      " 38  T_SCA4            1309 non-null   uint8  \n",
      " 39  T_SCAH            1309 non-null   uint8  \n",
      " 40  T_SCOW            1309 non-null   uint8  \n",
      " 41  T_SCPARIS         1309 non-null   uint8  \n",
      " 42  T_SCParis         1309 non-null   uint8  \n",
      " 43  T_SOC             1309 non-null   uint8  \n",
      " 44  T_SOP             1309 non-null   uint8  \n",
      " 45  T_SOPP            1309 non-null   uint8  \n",
      " 46  T_SOTONO2         1309 non-null   uint8  \n",
      " 47  T_SOTONOQ         1309 non-null   uint8  \n",
      " 48  T_SP              1309 non-null   uint8  \n",
      " 49  T_STONO           1309 non-null   uint8  \n",
      " 50  T_STONO2          1309 non-null   uint8  \n",
      " 51  T_STONOQ          1309 non-null   uint8  \n",
      " 52  T_SWPP            1309 non-null   uint8  \n",
      " 53  T_WC              1309 non-null   uint8  \n",
      " 54  T_WEP             1309 non-null   uint8  \n",
      " 55  T_X               1309 non-null   uint8  \n",
      " 56  Title_2           1309 non-null   uint8  \n",
      " 57  Title_3           1309 non-null   uint8  \n",
      " 58  Title_4           1309 non-null   uint8  \n",
      " 59  Title_5           1309 non-null   uint8  \n",
      " 60  Title_6           1309 non-null   uint8  \n",
      " 61  Em_Q              1309 non-null   uint8  \n",
      " 62  Em_S              1309 non-null   uint8  \n",
      " 63  Emb_male          1309 non-null   uint8  \n",
      "dtypes: float64(4), int64(2), uint8(58)\n",
      "memory usage: 135.6 KB\n"
     ]
    }
   ],
   "source": [
    "dataset.info()"
   ]
  },
  {
   "cell_type": "markdown",
   "id": "1e05c501",
   "metadata": {
    "papermill": {
     "duration": 0.137847,
     "end_time": "2022-02-24T15:41:50.824330",
     "exception": false,
     "start_time": "2022-02-24T15:41:50.686483",
     "status": "completed"
    },
    "tags": []
   },
   "source": [
    "## Further Normalization of Few Features"
   ]
  },
  {
   "cell_type": "markdown",
   "id": "2d134fd4",
   "metadata": {
    "papermill": {
     "duration": 0.138941,
     "end_time": "2022-02-24T15:41:51.101207",
     "exception": false,
     "start_time": "2022-02-24T15:41:50.962266",
     "status": "completed"
    },
    "tags": []
   },
   "source": [
    "CHECK THE INFO OF THE DATA AND DECIDE WHETHER DO WE NEED TO NORMALIZE ANY FEATURES"
   ]
  },
  {
   "cell_type": "code",
   "execution_count": 73,
   "id": "2d84bbf9",
   "metadata": {
    "execution": {
     "iopub.execute_input": "2022-02-24T15:41:51.381437Z",
     "iopub.status.busy": "2022-02-24T15:41:51.380537Z",
     "iopub.status.idle": "2022-02-24T15:41:51.382288Z",
     "shell.execute_reply": "2022-02-24T15:41:51.382769Z",
     "shell.execute_reply.started": "2022-02-24T15:20:59.656326Z"
    },
    "papermill": {
     "duration": 0.14408,
     "end_time": "2022-02-24T15:41:51.382937",
     "exception": false,
     "start_time": "2022-02-24T15:41:51.238857",
     "status": "completed"
    },
    "tags": []
   },
   "outputs": [],
   "source": [
    "pd.set_option('display.max_columns',80) #this is nothing but to display all the columns in visualization"
   ]
  },
  {
   "cell_type": "code",
   "execution_count": 74,
   "id": "b9541a7c",
   "metadata": {
    "execution": {
     "iopub.execute_input": "2022-02-24T15:41:51.665157Z",
     "iopub.status.busy": "2022-02-24T15:41:51.664308Z",
     "iopub.status.idle": "2022-02-24T15:41:51.817703Z",
     "shell.execute_reply": "2022-02-24T15:41:51.818444Z",
     "shell.execute_reply.started": "2022-02-24T15:20:59.663592Z"
    },
    "papermill": {
     "duration": 0.297266,
     "end_time": "2022-02-24T15:41:51.818655",
     "exception": false,
     "start_time": "2022-02-24T15:41:51.521389",
     "status": "completed"
    },
    "tags": []
   },
   "outputs": [
    {
     "data": {
      "text/html": [
       "<div>\n",
       "<style scoped>\n",
       "    .dataframe tbody tr th:only-of-type {\n",
       "        vertical-align: middle;\n",
       "    }\n",
       "\n",
       "    .dataframe tbody tr th {\n",
       "        vertical-align: top;\n",
       "    }\n",
       "\n",
       "    .dataframe thead th {\n",
       "        text-align: right;\n",
       "    }\n",
       "</style>\n",
       "<table border=\"1\" class=\"dataframe\">\n",
       "  <thead>\n",
       "    <tr style=\"text-align: right;\">\n",
       "      <th></th>\n",
       "      <th>PassengerId</th>\n",
       "      <th>Survived</th>\n",
       "      <th>Age</th>\n",
       "      <th>Parch</th>\n",
       "      <th>Fare_transformed</th>\n",
       "      <th>Sib_norm</th>\n",
       "      <th>Pcl_2</th>\n",
       "      <th>Pcl_3</th>\n",
       "      <th>Fam_Couple</th>\n",
       "      <th>Fam_LargeFam</th>\n",
       "      <th>Fam_Single</th>\n",
       "      <th>Fam_SmallFam</th>\n",
       "      <th>Cabin_B</th>\n",
       "      <th>Cabin_C</th>\n",
       "      <th>Cabin_D</th>\n",
       "      <th>Cabin_E</th>\n",
       "      <th>Cabin_F</th>\n",
       "      <th>Cabin_G</th>\n",
       "      <th>Cabin_T</th>\n",
       "      <th>Cabin_X</th>\n",
       "      <th>T_A4</th>\n",
       "      <th>T_A5</th>\n",
       "      <th>T_AQ3</th>\n",
       "      <th>T_AQ4</th>\n",
       "      <th>T_AS</th>\n",
       "      <th>T_C</th>\n",
       "      <th>T_CA</th>\n",
       "      <th>T_CASOTON</th>\n",
       "      <th>T_FC</th>\n",
       "      <th>T_FCC</th>\n",
       "      <th>T_Fa</th>\n",
       "      <th>T_LINE</th>\n",
       "      <th>T_LP</th>\n",
       "      <th>T_PC</th>\n",
       "      <th>T_PP</th>\n",
       "      <th>T_PPP</th>\n",
       "      <th>T_SC</th>\n",
       "      <th>T_SCA3</th>\n",
       "      <th>T_SCA4</th>\n",
       "      <th>T_SCAH</th>\n",
       "      <th>T_SCOW</th>\n",
       "      <th>T_SCPARIS</th>\n",
       "      <th>T_SCParis</th>\n",
       "      <th>T_SOC</th>\n",
       "      <th>T_SOP</th>\n",
       "      <th>T_SOPP</th>\n",
       "      <th>T_SOTONO2</th>\n",
       "      <th>T_SOTONOQ</th>\n",
       "      <th>T_SP</th>\n",
       "      <th>T_STONO</th>\n",
       "      <th>T_STONO2</th>\n",
       "      <th>T_STONOQ</th>\n",
       "      <th>T_SWPP</th>\n",
       "      <th>T_WC</th>\n",
       "      <th>T_WEP</th>\n",
       "      <th>T_X</th>\n",
       "      <th>Title_2</th>\n",
       "      <th>Title_3</th>\n",
       "      <th>Title_4</th>\n",
       "      <th>Title_5</th>\n",
       "      <th>Title_6</th>\n",
       "      <th>Em_Q</th>\n",
       "      <th>Em_S</th>\n",
       "      <th>Emb_male</th>\n",
       "    </tr>\n",
       "  </thead>\n",
       "  <tbody>\n",
       "    <tr>\n",
       "      <th>count</th>\n",
       "      <td>1309.000000</td>\n",
       "      <td>891.000000</td>\n",
       "      <td>1309.000000</td>\n",
       "      <td>1309.000000</td>\n",
       "      <td>1.309000e+03</td>\n",
       "      <td>1.309000e+03</td>\n",
       "      <td>1309.000000</td>\n",
       "      <td>1309.000000</td>\n",
       "      <td>1309.000000</td>\n",
       "      <td>1309.000000</td>\n",
       "      <td>1309.000000</td>\n",
       "      <td>1309.000000</td>\n",
       "      <td>1309.000000</td>\n",
       "      <td>1309.000000</td>\n",
       "      <td>1309.000000</td>\n",
       "      <td>1309.000000</td>\n",
       "      <td>1309.000000</td>\n",
       "      <td>1309.000000</td>\n",
       "      <td>1309.000000</td>\n",
       "      <td>1309.000000</td>\n",
       "      <td>1309.000000</td>\n",
       "      <td>1309.000000</td>\n",
       "      <td>1309.000000</td>\n",
       "      <td>1309.000000</td>\n",
       "      <td>1309.000000</td>\n",
       "      <td>1309.000000</td>\n",
       "      <td>1309.000000</td>\n",
       "      <td>1309.000000</td>\n",
       "      <td>1309.000000</td>\n",
       "      <td>1309.000000</td>\n",
       "      <td>1309.000000</td>\n",
       "      <td>1309.000000</td>\n",
       "      <td>1309.000000</td>\n",
       "      <td>1309.000000</td>\n",
       "      <td>1309.000000</td>\n",
       "      <td>1309.000000</td>\n",
       "      <td>1309.000000</td>\n",
       "      <td>1309.000000</td>\n",
       "      <td>1309.000000</td>\n",
       "      <td>1309.000000</td>\n",
       "      <td>1309.000000</td>\n",
       "      <td>1309.000000</td>\n",
       "      <td>1309.000000</td>\n",
       "      <td>1309.000000</td>\n",
       "      <td>1309.000000</td>\n",
       "      <td>1309.000000</td>\n",
       "      <td>1309.000000</td>\n",
       "      <td>1309.000000</td>\n",
       "      <td>1309.000000</td>\n",
       "      <td>1309.000000</td>\n",
       "      <td>1309.000000</td>\n",
       "      <td>1309.000000</td>\n",
       "      <td>1309.000000</td>\n",
       "      <td>1309.000000</td>\n",
       "      <td>1309.000000</td>\n",
       "      <td>1309.000000</td>\n",
       "      <td>1309.000000</td>\n",
       "      <td>1309.000000</td>\n",
       "      <td>1309.000000</td>\n",
       "      <td>1309.000000</td>\n",
       "      <td>1309.000000</td>\n",
       "      <td>1309.000000</td>\n",
       "      <td>1309.000000</td>\n",
       "      <td>1309.000000</td>\n",
       "    </tr>\n",
       "    <tr>\n",
       "      <th>mean</th>\n",
       "      <td>655.000000</td>\n",
       "      <td>0.383838</td>\n",
       "      <td>29.179656</td>\n",
       "      <td>0.385027</td>\n",
       "      <td>2.297415e-16</td>\n",
       "      <td>-3.740324e-16</td>\n",
       "      <td>0.211612</td>\n",
       "      <td>0.541635</td>\n",
       "      <td>0.179526</td>\n",
       "      <td>0.048128</td>\n",
       "      <td>0.603514</td>\n",
       "      <td>0.154316</td>\n",
       "      <td>0.051948</td>\n",
       "      <td>0.079450</td>\n",
       "      <td>0.035141</td>\n",
       "      <td>0.032086</td>\n",
       "      <td>0.016043</td>\n",
       "      <td>0.003820</td>\n",
       "      <td>0.000764</td>\n",
       "      <td>0.763942</td>\n",
       "      <td>0.007639</td>\n",
       "      <td>0.021390</td>\n",
       "      <td>0.000764</td>\n",
       "      <td>0.000764</td>\n",
       "      <td>0.000764</td>\n",
       "      <td>0.006112</td>\n",
       "      <td>0.051948</td>\n",
       "      <td>0.000764</td>\n",
       "      <td>0.002292</td>\n",
       "      <td>0.006875</td>\n",
       "      <td>0.000764</td>\n",
       "      <td>0.003056</td>\n",
       "      <td>0.000764</td>\n",
       "      <td>0.070283</td>\n",
       "      <td>0.003056</td>\n",
       "      <td>0.001528</td>\n",
       "      <td>0.001528</td>\n",
       "      <td>0.000764</td>\n",
       "      <td>0.001528</td>\n",
       "      <td>0.003820</td>\n",
       "      <td>0.000764</td>\n",
       "      <td>0.010695</td>\n",
       "      <td>0.003820</td>\n",
       "      <td>0.006112</td>\n",
       "      <td>0.000764</td>\n",
       "      <td>0.005348</td>\n",
       "      <td>0.002292</td>\n",
       "      <td>0.018335</td>\n",
       "      <td>0.000764</td>\n",
       "      <td>0.010695</td>\n",
       "      <td>0.005348</td>\n",
       "      <td>0.000764</td>\n",
       "      <td>0.001528</td>\n",
       "      <td>0.011459</td>\n",
       "      <td>0.003056</td>\n",
       "      <td>0.731092</td>\n",
       "      <td>0.010695</td>\n",
       "      <td>0.001528</td>\n",
       "      <td>0.578304</td>\n",
       "      <td>0.046600</td>\n",
       "      <td>0.353705</td>\n",
       "      <td>0.093965</td>\n",
       "      <td>0.699771</td>\n",
       "      <td>0.644003</td>\n",
       "    </tr>\n",
       "    <tr>\n",
       "      <th>std</th>\n",
       "      <td>378.020061</td>\n",
       "      <td>0.486592</td>\n",
       "      <td>13.269138</td>\n",
       "      <td>0.865560</td>\n",
       "      <td>1.000382e+00</td>\n",
       "      <td>1.000382e+00</td>\n",
       "      <td>0.408607</td>\n",
       "      <td>0.498454</td>\n",
       "      <td>0.383939</td>\n",
       "      <td>0.214119</td>\n",
       "      <td>0.489354</td>\n",
       "      <td>0.361390</td>\n",
       "      <td>0.222007</td>\n",
       "      <td>0.270543</td>\n",
       "      <td>0.184207</td>\n",
       "      <td>0.176295</td>\n",
       "      <td>0.125688</td>\n",
       "      <td>0.061709</td>\n",
       "      <td>0.027639</td>\n",
       "      <td>0.424821</td>\n",
       "      <td>0.087103</td>\n",
       "      <td>0.144737</td>\n",
       "      <td>0.027639</td>\n",
       "      <td>0.027639</td>\n",
       "      <td>0.027639</td>\n",
       "      <td>0.077967</td>\n",
       "      <td>0.222007</td>\n",
       "      <td>0.027639</td>\n",
       "      <td>0.047836</td>\n",
       "      <td>0.082665</td>\n",
       "      <td>0.027639</td>\n",
       "      <td>0.055216</td>\n",
       "      <td>0.027639</td>\n",
       "      <td>0.255720</td>\n",
       "      <td>0.055216</td>\n",
       "      <td>0.039073</td>\n",
       "      <td>0.039073</td>\n",
       "      <td>0.027639</td>\n",
       "      <td>0.039073</td>\n",
       "      <td>0.061709</td>\n",
       "      <td>0.027639</td>\n",
       "      <td>0.102902</td>\n",
       "      <td>0.061709</td>\n",
       "      <td>0.077967</td>\n",
       "      <td>0.027639</td>\n",
       "      <td>0.072959</td>\n",
       "      <td>0.047836</td>\n",
       "      <td>0.134210</td>\n",
       "      <td>0.027639</td>\n",
       "      <td>0.102902</td>\n",
       "      <td>0.072959</td>\n",
       "      <td>0.027639</td>\n",
       "      <td>0.039073</td>\n",
       "      <td>0.106473</td>\n",
       "      <td>0.055216</td>\n",
       "      <td>0.443561</td>\n",
       "      <td>0.102902</td>\n",
       "      <td>0.039073</td>\n",
       "      <td>0.494019</td>\n",
       "      <td>0.210862</td>\n",
       "      <td>0.478302</td>\n",
       "      <td>0.291891</td>\n",
       "      <td>0.458533</td>\n",
       "      <td>0.478997</td>\n",
       "    </tr>\n",
       "    <tr>\n",
       "      <th>min</th>\n",
       "      <td>1.000000</td>\n",
       "      <td>0.000000</td>\n",
       "      <td>0.170000</td>\n",
       "      <td>0.000000</td>\n",
       "      <td>-3.832596e+00</td>\n",
       "      <td>-6.828521e-01</td>\n",
       "      <td>0.000000</td>\n",
       "      <td>0.000000</td>\n",
       "      <td>0.000000</td>\n",
       "      <td>0.000000</td>\n",
       "      <td>0.000000</td>\n",
       "      <td>0.000000</td>\n",
       "      <td>0.000000</td>\n",
       "      <td>0.000000</td>\n",
       "      <td>0.000000</td>\n",
       "      <td>0.000000</td>\n",
       "      <td>0.000000</td>\n",
       "      <td>0.000000</td>\n",
       "      <td>0.000000</td>\n",
       "      <td>0.000000</td>\n",
       "      <td>0.000000</td>\n",
       "      <td>0.000000</td>\n",
       "      <td>0.000000</td>\n",
       "      <td>0.000000</td>\n",
       "      <td>0.000000</td>\n",
       "      <td>0.000000</td>\n",
       "      <td>0.000000</td>\n",
       "      <td>0.000000</td>\n",
       "      <td>0.000000</td>\n",
       "      <td>0.000000</td>\n",
       "      <td>0.000000</td>\n",
       "      <td>0.000000</td>\n",
       "      <td>0.000000</td>\n",
       "      <td>0.000000</td>\n",
       "      <td>0.000000</td>\n",
       "      <td>0.000000</td>\n",
       "      <td>0.000000</td>\n",
       "      <td>0.000000</td>\n",
       "      <td>0.000000</td>\n",
       "      <td>0.000000</td>\n",
       "      <td>0.000000</td>\n",
       "      <td>0.000000</td>\n",
       "      <td>0.000000</td>\n",
       "      <td>0.000000</td>\n",
       "      <td>0.000000</td>\n",
       "      <td>0.000000</td>\n",
       "      <td>0.000000</td>\n",
       "      <td>0.000000</td>\n",
       "      <td>0.000000</td>\n",
       "      <td>0.000000</td>\n",
       "      <td>0.000000</td>\n",
       "      <td>0.000000</td>\n",
       "      <td>0.000000</td>\n",
       "      <td>0.000000</td>\n",
       "      <td>0.000000</td>\n",
       "      <td>0.000000</td>\n",
       "      <td>0.000000</td>\n",
       "      <td>0.000000</td>\n",
       "      <td>0.000000</td>\n",
       "      <td>0.000000</td>\n",
       "      <td>0.000000</td>\n",
       "      <td>0.000000</td>\n",
       "      <td>0.000000</td>\n",
       "      <td>0.000000</td>\n",
       "    </tr>\n",
       "    <tr>\n",
       "      <th>25%</th>\n",
       "      <td>328.000000</td>\n",
       "      <td>0.000000</td>\n",
       "      <td>22.000000</td>\n",
       "      <td>0.000000</td>\n",
       "      <td>-8.158919e-01</td>\n",
       "      <td>-6.828521e-01</td>\n",
       "      <td>0.000000</td>\n",
       "      <td>0.000000</td>\n",
       "      <td>0.000000</td>\n",
       "      <td>0.000000</td>\n",
       "      <td>0.000000</td>\n",
       "      <td>0.000000</td>\n",
       "      <td>0.000000</td>\n",
       "      <td>0.000000</td>\n",
       "      <td>0.000000</td>\n",
       "      <td>0.000000</td>\n",
       "      <td>0.000000</td>\n",
       "      <td>0.000000</td>\n",
       "      <td>0.000000</td>\n",
       "      <td>1.000000</td>\n",
       "      <td>0.000000</td>\n",
       "      <td>0.000000</td>\n",
       "      <td>0.000000</td>\n",
       "      <td>0.000000</td>\n",
       "      <td>0.000000</td>\n",
       "      <td>0.000000</td>\n",
       "      <td>0.000000</td>\n",
       "      <td>0.000000</td>\n",
       "      <td>0.000000</td>\n",
       "      <td>0.000000</td>\n",
       "      <td>0.000000</td>\n",
       "      <td>0.000000</td>\n",
       "      <td>0.000000</td>\n",
       "      <td>0.000000</td>\n",
       "      <td>0.000000</td>\n",
       "      <td>0.000000</td>\n",
       "      <td>0.000000</td>\n",
       "      <td>0.000000</td>\n",
       "      <td>0.000000</td>\n",
       "      <td>0.000000</td>\n",
       "      <td>0.000000</td>\n",
       "      <td>0.000000</td>\n",
       "      <td>0.000000</td>\n",
       "      <td>0.000000</td>\n",
       "      <td>0.000000</td>\n",
       "      <td>0.000000</td>\n",
       "      <td>0.000000</td>\n",
       "      <td>0.000000</td>\n",
       "      <td>0.000000</td>\n",
       "      <td>0.000000</td>\n",
       "      <td>0.000000</td>\n",
       "      <td>0.000000</td>\n",
       "      <td>0.000000</td>\n",
       "      <td>0.000000</td>\n",
       "      <td>0.000000</td>\n",
       "      <td>0.000000</td>\n",
       "      <td>0.000000</td>\n",
       "      <td>0.000000</td>\n",
       "      <td>0.000000</td>\n",
       "      <td>0.000000</td>\n",
       "      <td>0.000000</td>\n",
       "      <td>0.000000</td>\n",
       "      <td>0.000000</td>\n",
       "      <td>0.000000</td>\n",
       "    </tr>\n",
       "    <tr>\n",
       "      <th>50%</th>\n",
       "      <td>655.000000</td>\n",
       "      <td>0.000000</td>\n",
       "      <td>26.000000</td>\n",
       "      <td>0.000000</td>\n",
       "      <td>-1.900617e-01</td>\n",
       "      <td>-6.828521e-01</td>\n",
       "      <td>0.000000</td>\n",
       "      <td>1.000000</td>\n",
       "      <td>0.000000</td>\n",
       "      <td>0.000000</td>\n",
       "      <td>1.000000</td>\n",
       "      <td>0.000000</td>\n",
       "      <td>0.000000</td>\n",
       "      <td>0.000000</td>\n",
       "      <td>0.000000</td>\n",
       "      <td>0.000000</td>\n",
       "      <td>0.000000</td>\n",
       "      <td>0.000000</td>\n",
       "      <td>0.000000</td>\n",
       "      <td>1.000000</td>\n",
       "      <td>0.000000</td>\n",
       "      <td>0.000000</td>\n",
       "      <td>0.000000</td>\n",
       "      <td>0.000000</td>\n",
       "      <td>0.000000</td>\n",
       "      <td>0.000000</td>\n",
       "      <td>0.000000</td>\n",
       "      <td>0.000000</td>\n",
       "      <td>0.000000</td>\n",
       "      <td>0.000000</td>\n",
       "      <td>0.000000</td>\n",
       "      <td>0.000000</td>\n",
       "      <td>0.000000</td>\n",
       "      <td>0.000000</td>\n",
       "      <td>0.000000</td>\n",
       "      <td>0.000000</td>\n",
       "      <td>0.000000</td>\n",
       "      <td>0.000000</td>\n",
       "      <td>0.000000</td>\n",
       "      <td>0.000000</td>\n",
       "      <td>0.000000</td>\n",
       "      <td>0.000000</td>\n",
       "      <td>0.000000</td>\n",
       "      <td>0.000000</td>\n",
       "      <td>0.000000</td>\n",
       "      <td>0.000000</td>\n",
       "      <td>0.000000</td>\n",
       "      <td>0.000000</td>\n",
       "      <td>0.000000</td>\n",
       "      <td>0.000000</td>\n",
       "      <td>0.000000</td>\n",
       "      <td>0.000000</td>\n",
       "      <td>0.000000</td>\n",
       "      <td>0.000000</td>\n",
       "      <td>0.000000</td>\n",
       "      <td>1.000000</td>\n",
       "      <td>0.000000</td>\n",
       "      <td>0.000000</td>\n",
       "      <td>1.000000</td>\n",
       "      <td>0.000000</td>\n",
       "      <td>0.000000</td>\n",
       "      <td>0.000000</td>\n",
       "      <td>1.000000</td>\n",
       "      <td>1.000000</td>\n",
       "    </tr>\n",
       "    <tr>\n",
       "      <th>75%</th>\n",
       "      <td>982.000000</td>\n",
       "      <td>1.000000</td>\n",
       "      <td>37.000000</td>\n",
       "      <td>0.000000</td>\n",
       "      <td>5.718695e-01</td>\n",
       "      <td>1.379985e+00</td>\n",
       "      <td>0.000000</td>\n",
       "      <td>1.000000</td>\n",
       "      <td>0.000000</td>\n",
       "      <td>0.000000</td>\n",
       "      <td>1.000000</td>\n",
       "      <td>0.000000</td>\n",
       "      <td>0.000000</td>\n",
       "      <td>0.000000</td>\n",
       "      <td>0.000000</td>\n",
       "      <td>0.000000</td>\n",
       "      <td>0.000000</td>\n",
       "      <td>0.000000</td>\n",
       "      <td>0.000000</td>\n",
       "      <td>1.000000</td>\n",
       "      <td>0.000000</td>\n",
       "      <td>0.000000</td>\n",
       "      <td>0.000000</td>\n",
       "      <td>0.000000</td>\n",
       "      <td>0.000000</td>\n",
       "      <td>0.000000</td>\n",
       "      <td>0.000000</td>\n",
       "      <td>0.000000</td>\n",
       "      <td>0.000000</td>\n",
       "      <td>0.000000</td>\n",
       "      <td>0.000000</td>\n",
       "      <td>0.000000</td>\n",
       "      <td>0.000000</td>\n",
       "      <td>0.000000</td>\n",
       "      <td>0.000000</td>\n",
       "      <td>0.000000</td>\n",
       "      <td>0.000000</td>\n",
       "      <td>0.000000</td>\n",
       "      <td>0.000000</td>\n",
       "      <td>0.000000</td>\n",
       "      <td>0.000000</td>\n",
       "      <td>0.000000</td>\n",
       "      <td>0.000000</td>\n",
       "      <td>0.000000</td>\n",
       "      <td>0.000000</td>\n",
       "      <td>0.000000</td>\n",
       "      <td>0.000000</td>\n",
       "      <td>0.000000</td>\n",
       "      <td>0.000000</td>\n",
       "      <td>0.000000</td>\n",
       "      <td>0.000000</td>\n",
       "      <td>0.000000</td>\n",
       "      <td>0.000000</td>\n",
       "      <td>0.000000</td>\n",
       "      <td>0.000000</td>\n",
       "      <td>1.000000</td>\n",
       "      <td>0.000000</td>\n",
       "      <td>0.000000</td>\n",
       "      <td>1.000000</td>\n",
       "      <td>0.000000</td>\n",
       "      <td>1.000000</td>\n",
       "      <td>0.000000</td>\n",
       "      <td>1.000000</td>\n",
       "      <td>1.000000</td>\n",
       "    </tr>\n",
       "    <tr>\n",
       "      <th>max</th>\n",
       "      <td>1309.000000</td>\n",
       "      <td>1.000000</td>\n",
       "      <td>80.000000</td>\n",
       "      <td>9.000000</td>\n",
       "      <td>2.819634e+00</td>\n",
       "      <td>1.773512e+00</td>\n",
       "      <td>1.000000</td>\n",
       "      <td>1.000000</td>\n",
       "      <td>1.000000</td>\n",
       "      <td>1.000000</td>\n",
       "      <td>1.000000</td>\n",
       "      <td>1.000000</td>\n",
       "      <td>1.000000</td>\n",
       "      <td>1.000000</td>\n",
       "      <td>1.000000</td>\n",
       "      <td>1.000000</td>\n",
       "      <td>1.000000</td>\n",
       "      <td>1.000000</td>\n",
       "      <td>1.000000</td>\n",
       "      <td>1.000000</td>\n",
       "      <td>1.000000</td>\n",
       "      <td>1.000000</td>\n",
       "      <td>1.000000</td>\n",
       "      <td>1.000000</td>\n",
       "      <td>1.000000</td>\n",
       "      <td>1.000000</td>\n",
       "      <td>1.000000</td>\n",
       "      <td>1.000000</td>\n",
       "      <td>1.000000</td>\n",
       "      <td>1.000000</td>\n",
       "      <td>1.000000</td>\n",
       "      <td>1.000000</td>\n",
       "      <td>1.000000</td>\n",
       "      <td>1.000000</td>\n",
       "      <td>1.000000</td>\n",
       "      <td>1.000000</td>\n",
       "      <td>1.000000</td>\n",
       "      <td>1.000000</td>\n",
       "      <td>1.000000</td>\n",
       "      <td>1.000000</td>\n",
       "      <td>1.000000</td>\n",
       "      <td>1.000000</td>\n",
       "      <td>1.000000</td>\n",
       "      <td>1.000000</td>\n",
       "      <td>1.000000</td>\n",
       "      <td>1.000000</td>\n",
       "      <td>1.000000</td>\n",
       "      <td>1.000000</td>\n",
       "      <td>1.000000</td>\n",
       "      <td>1.000000</td>\n",
       "      <td>1.000000</td>\n",
       "      <td>1.000000</td>\n",
       "      <td>1.000000</td>\n",
       "      <td>1.000000</td>\n",
       "      <td>1.000000</td>\n",
       "      <td>1.000000</td>\n",
       "      <td>1.000000</td>\n",
       "      <td>1.000000</td>\n",
       "      <td>1.000000</td>\n",
       "      <td>1.000000</td>\n",
       "      <td>1.000000</td>\n",
       "      <td>1.000000</td>\n",
       "      <td>1.000000</td>\n",
       "      <td>1.000000</td>\n",
       "    </tr>\n",
       "  </tbody>\n",
       "</table>\n",
       "</div>"
      ],
      "text/plain": [
       "       PassengerId    Survived          Age        Parch  Fare_transformed  \\\n",
       "count  1309.000000  891.000000  1309.000000  1309.000000      1.309000e+03   \n",
       "mean    655.000000    0.383838    29.179656     0.385027      2.297415e-16   \n",
       "std     378.020061    0.486592    13.269138     0.865560      1.000382e+00   \n",
       "min       1.000000    0.000000     0.170000     0.000000     -3.832596e+00   \n",
       "25%     328.000000    0.000000    22.000000     0.000000     -8.158919e-01   \n",
       "50%     655.000000    0.000000    26.000000     0.000000     -1.900617e-01   \n",
       "75%     982.000000    1.000000    37.000000     0.000000      5.718695e-01   \n",
       "max    1309.000000    1.000000    80.000000     9.000000      2.819634e+00   \n",
       "\n",
       "           Sib_norm        Pcl_2        Pcl_3   Fam_Couple  Fam_LargeFam  \\\n",
       "count  1.309000e+03  1309.000000  1309.000000  1309.000000   1309.000000   \n",
       "mean  -3.740324e-16     0.211612     0.541635     0.179526      0.048128   \n",
       "std    1.000382e+00     0.408607     0.498454     0.383939      0.214119   \n",
       "min   -6.828521e-01     0.000000     0.000000     0.000000      0.000000   \n",
       "25%   -6.828521e-01     0.000000     0.000000     0.000000      0.000000   \n",
       "50%   -6.828521e-01     0.000000     1.000000     0.000000      0.000000   \n",
       "75%    1.379985e+00     0.000000     1.000000     0.000000      0.000000   \n",
       "max    1.773512e+00     1.000000     1.000000     1.000000      1.000000   \n",
       "\n",
       "        Fam_Single  Fam_SmallFam      Cabin_B      Cabin_C      Cabin_D  \\\n",
       "count  1309.000000   1309.000000  1309.000000  1309.000000  1309.000000   \n",
       "mean      0.603514      0.154316     0.051948     0.079450     0.035141   \n",
       "std       0.489354      0.361390     0.222007     0.270543     0.184207   \n",
       "min       0.000000      0.000000     0.000000     0.000000     0.000000   \n",
       "25%       0.000000      0.000000     0.000000     0.000000     0.000000   \n",
       "50%       1.000000      0.000000     0.000000     0.000000     0.000000   \n",
       "75%       1.000000      0.000000     0.000000     0.000000     0.000000   \n",
       "max       1.000000      1.000000     1.000000     1.000000     1.000000   \n",
       "\n",
       "           Cabin_E      Cabin_F      Cabin_G      Cabin_T      Cabin_X  \\\n",
       "count  1309.000000  1309.000000  1309.000000  1309.000000  1309.000000   \n",
       "mean      0.032086     0.016043     0.003820     0.000764     0.763942   \n",
       "std       0.176295     0.125688     0.061709     0.027639     0.424821   \n",
       "min       0.000000     0.000000     0.000000     0.000000     0.000000   \n",
       "25%       0.000000     0.000000     0.000000     0.000000     1.000000   \n",
       "50%       0.000000     0.000000     0.000000     0.000000     1.000000   \n",
       "75%       0.000000     0.000000     0.000000     0.000000     1.000000   \n",
       "max       1.000000     1.000000     1.000000     1.000000     1.000000   \n",
       "\n",
       "              T_A4         T_A5        T_AQ3        T_AQ4         T_AS  \\\n",
       "count  1309.000000  1309.000000  1309.000000  1309.000000  1309.000000   \n",
       "mean      0.007639     0.021390     0.000764     0.000764     0.000764   \n",
       "std       0.087103     0.144737     0.027639     0.027639     0.027639   \n",
       "min       0.000000     0.000000     0.000000     0.000000     0.000000   \n",
       "25%       0.000000     0.000000     0.000000     0.000000     0.000000   \n",
       "50%       0.000000     0.000000     0.000000     0.000000     0.000000   \n",
       "75%       0.000000     0.000000     0.000000     0.000000     0.000000   \n",
       "max       1.000000     1.000000     1.000000     1.000000     1.000000   \n",
       "\n",
       "               T_C         T_CA    T_CASOTON         T_FC        T_FCC  \\\n",
       "count  1309.000000  1309.000000  1309.000000  1309.000000  1309.000000   \n",
       "mean      0.006112     0.051948     0.000764     0.002292     0.006875   \n",
       "std       0.077967     0.222007     0.027639     0.047836     0.082665   \n",
       "min       0.000000     0.000000     0.000000     0.000000     0.000000   \n",
       "25%       0.000000     0.000000     0.000000     0.000000     0.000000   \n",
       "50%       0.000000     0.000000     0.000000     0.000000     0.000000   \n",
       "75%       0.000000     0.000000     0.000000     0.000000     0.000000   \n",
       "max       1.000000     1.000000     1.000000     1.000000     1.000000   \n",
       "\n",
       "              T_Fa       T_LINE         T_LP         T_PC         T_PP  \\\n",
       "count  1309.000000  1309.000000  1309.000000  1309.000000  1309.000000   \n",
       "mean      0.000764     0.003056     0.000764     0.070283     0.003056   \n",
       "std       0.027639     0.055216     0.027639     0.255720     0.055216   \n",
       "min       0.000000     0.000000     0.000000     0.000000     0.000000   \n",
       "25%       0.000000     0.000000     0.000000     0.000000     0.000000   \n",
       "50%       0.000000     0.000000     0.000000     0.000000     0.000000   \n",
       "75%       0.000000     0.000000     0.000000     0.000000     0.000000   \n",
       "max       1.000000     1.000000     1.000000     1.000000     1.000000   \n",
       "\n",
       "             T_PPP         T_SC       T_SCA3       T_SCA4       T_SCAH  \\\n",
       "count  1309.000000  1309.000000  1309.000000  1309.000000  1309.000000   \n",
       "mean      0.001528     0.001528     0.000764     0.001528     0.003820   \n",
       "std       0.039073     0.039073     0.027639     0.039073     0.061709   \n",
       "min       0.000000     0.000000     0.000000     0.000000     0.000000   \n",
       "25%       0.000000     0.000000     0.000000     0.000000     0.000000   \n",
       "50%       0.000000     0.000000     0.000000     0.000000     0.000000   \n",
       "75%       0.000000     0.000000     0.000000     0.000000     0.000000   \n",
       "max       1.000000     1.000000     1.000000     1.000000     1.000000   \n",
       "\n",
       "            T_SCOW    T_SCPARIS    T_SCParis        T_SOC        T_SOP  \\\n",
       "count  1309.000000  1309.000000  1309.000000  1309.000000  1309.000000   \n",
       "mean      0.000764     0.010695     0.003820     0.006112     0.000764   \n",
       "std       0.027639     0.102902     0.061709     0.077967     0.027639   \n",
       "min       0.000000     0.000000     0.000000     0.000000     0.000000   \n",
       "25%       0.000000     0.000000     0.000000     0.000000     0.000000   \n",
       "50%       0.000000     0.000000     0.000000     0.000000     0.000000   \n",
       "75%       0.000000     0.000000     0.000000     0.000000     0.000000   \n",
       "max       1.000000     1.000000     1.000000     1.000000     1.000000   \n",
       "\n",
       "            T_SOPP    T_SOTONO2    T_SOTONOQ         T_SP      T_STONO  \\\n",
       "count  1309.000000  1309.000000  1309.000000  1309.000000  1309.000000   \n",
       "mean      0.005348     0.002292     0.018335     0.000764     0.010695   \n",
       "std       0.072959     0.047836     0.134210     0.027639     0.102902   \n",
       "min       0.000000     0.000000     0.000000     0.000000     0.000000   \n",
       "25%       0.000000     0.000000     0.000000     0.000000     0.000000   \n",
       "50%       0.000000     0.000000     0.000000     0.000000     0.000000   \n",
       "75%       0.000000     0.000000     0.000000     0.000000     0.000000   \n",
       "max       1.000000     1.000000     1.000000     1.000000     1.000000   \n",
       "\n",
       "          T_STONO2     T_STONOQ       T_SWPP         T_WC        T_WEP  \\\n",
       "count  1309.000000  1309.000000  1309.000000  1309.000000  1309.000000   \n",
       "mean      0.005348     0.000764     0.001528     0.011459     0.003056   \n",
       "std       0.072959     0.027639     0.039073     0.106473     0.055216   \n",
       "min       0.000000     0.000000     0.000000     0.000000     0.000000   \n",
       "25%       0.000000     0.000000     0.000000     0.000000     0.000000   \n",
       "50%       0.000000     0.000000     0.000000     0.000000     0.000000   \n",
       "75%       0.000000     0.000000     0.000000     0.000000     0.000000   \n",
       "max       1.000000     1.000000     1.000000     1.000000     1.000000   \n",
       "\n",
       "               T_X      Title_2      Title_3      Title_4      Title_5  \\\n",
       "count  1309.000000  1309.000000  1309.000000  1309.000000  1309.000000   \n",
       "mean      0.731092     0.010695     0.001528     0.578304     0.046600   \n",
       "std       0.443561     0.102902     0.039073     0.494019     0.210862   \n",
       "min       0.000000     0.000000     0.000000     0.000000     0.000000   \n",
       "25%       0.000000     0.000000     0.000000     0.000000     0.000000   \n",
       "50%       1.000000     0.000000     0.000000     1.000000     0.000000   \n",
       "75%       1.000000     0.000000     0.000000     1.000000     0.000000   \n",
       "max       1.000000     1.000000     1.000000     1.000000     1.000000   \n",
       "\n",
       "           Title_6         Em_Q         Em_S     Emb_male  \n",
       "count  1309.000000  1309.000000  1309.000000  1309.000000  \n",
       "mean      0.353705     0.093965     0.699771     0.644003  \n",
       "std       0.478302     0.291891     0.458533     0.478997  \n",
       "min       0.000000     0.000000     0.000000     0.000000  \n",
       "25%       0.000000     0.000000     0.000000     0.000000  \n",
       "50%       0.000000     0.000000     1.000000     1.000000  \n",
       "75%       1.000000     0.000000     1.000000     1.000000  \n",
       "max       1.000000     1.000000     1.000000     1.000000  "
      ]
     },
     "execution_count": 74,
     "metadata": {},
     "output_type": "execute_result"
    }
   ],
   "source": [
    "dataset.describe()\n",
    "#Mean std of Age is differnet from the remaining all the features"
   ]
  },
  {
   "cell_type": "code",
   "execution_count": 75,
   "id": "9567c114",
   "metadata": {
    "execution": {
     "iopub.execute_input": "2022-02-24T15:41:52.108825Z",
     "iopub.status.busy": "2022-02-24T15:41:52.108287Z",
     "iopub.status.idle": "2022-02-24T15:41:52.111770Z",
     "shell.execute_reply": "2022-02-24T15:41:52.111340Z",
     "shell.execute_reply.started": "2022-02-24T15:20:59.892702Z"
    },
    "papermill": {
     "duration": 0.150609,
     "end_time": "2022-02-24T15:41:52.111896",
     "exception": false,
     "start_time": "2022-02-24T15:41:51.961287",
     "status": "completed"
    },
    "tags": []
   },
   "outputs": [],
   "source": [
    "#Apply standard scalar to Age to tranform\n",
    "from sklearn.preprocessing import StandardScaler \n",
    "sc = StandardScaler()\n",
    "dataset['Age'] = sc.fit_transform(pd.DataFrame(dataset['Age']))"
   ]
  },
  {
   "cell_type": "code",
   "execution_count": 76,
   "id": "1cd9a429",
   "metadata": {
    "execution": {
     "iopub.execute_input": "2022-02-24T15:41:52.396115Z",
     "iopub.status.busy": "2022-02-24T15:41:52.395440Z",
     "iopub.status.idle": "2022-02-24T15:41:52.581129Z",
     "shell.execute_reply": "2022-02-24T15:41:52.581672Z",
     "shell.execute_reply.started": "2022-02-24T15:20:59.907026Z"
    },
    "papermill": {
     "duration": 0.331119,
     "end_time": "2022-02-24T15:41:52.581871",
     "exception": false,
     "start_time": "2022-02-24T15:41:52.250752",
     "status": "completed"
    },
    "tags": []
   },
   "outputs": [
    {
     "data": {
      "text/html": [
       "<div>\n",
       "<style scoped>\n",
       "    .dataframe tbody tr th:only-of-type {\n",
       "        vertical-align: middle;\n",
       "    }\n",
       "\n",
       "    .dataframe tbody tr th {\n",
       "        vertical-align: top;\n",
       "    }\n",
       "\n",
       "    .dataframe thead th {\n",
       "        text-align: right;\n",
       "    }\n",
       "</style>\n",
       "<table border=\"1\" class=\"dataframe\">\n",
       "  <thead>\n",
       "    <tr style=\"text-align: right;\">\n",
       "      <th></th>\n",
       "      <th>PassengerId</th>\n",
       "      <th>Survived</th>\n",
       "      <th>Age</th>\n",
       "      <th>Parch</th>\n",
       "      <th>Fare_transformed</th>\n",
       "      <th>Sib_norm</th>\n",
       "      <th>Pcl_2</th>\n",
       "      <th>Pcl_3</th>\n",
       "      <th>Fam_Couple</th>\n",
       "      <th>Fam_LargeFam</th>\n",
       "      <th>Fam_Single</th>\n",
       "      <th>Fam_SmallFam</th>\n",
       "      <th>Cabin_B</th>\n",
       "      <th>Cabin_C</th>\n",
       "      <th>Cabin_D</th>\n",
       "      <th>Cabin_E</th>\n",
       "      <th>Cabin_F</th>\n",
       "      <th>Cabin_G</th>\n",
       "      <th>Cabin_T</th>\n",
       "      <th>Cabin_X</th>\n",
       "      <th>T_A4</th>\n",
       "      <th>T_A5</th>\n",
       "      <th>T_AQ3</th>\n",
       "      <th>T_AQ4</th>\n",
       "      <th>T_AS</th>\n",
       "      <th>T_C</th>\n",
       "      <th>T_CA</th>\n",
       "      <th>T_CASOTON</th>\n",
       "      <th>T_FC</th>\n",
       "      <th>T_FCC</th>\n",
       "      <th>T_Fa</th>\n",
       "      <th>T_LINE</th>\n",
       "      <th>T_LP</th>\n",
       "      <th>T_PC</th>\n",
       "      <th>T_PP</th>\n",
       "      <th>T_PPP</th>\n",
       "      <th>T_SC</th>\n",
       "      <th>T_SCA3</th>\n",
       "      <th>T_SCA4</th>\n",
       "      <th>T_SCAH</th>\n",
       "      <th>T_SCOW</th>\n",
       "      <th>T_SCPARIS</th>\n",
       "      <th>T_SCParis</th>\n",
       "      <th>T_SOC</th>\n",
       "      <th>T_SOP</th>\n",
       "      <th>T_SOPP</th>\n",
       "      <th>T_SOTONO2</th>\n",
       "      <th>T_SOTONOQ</th>\n",
       "      <th>T_SP</th>\n",
       "      <th>T_STONO</th>\n",
       "      <th>T_STONO2</th>\n",
       "      <th>T_STONOQ</th>\n",
       "      <th>T_SWPP</th>\n",
       "      <th>T_WC</th>\n",
       "      <th>T_WEP</th>\n",
       "      <th>T_X</th>\n",
       "      <th>Title_2</th>\n",
       "      <th>Title_3</th>\n",
       "      <th>Title_4</th>\n",
       "      <th>Title_5</th>\n",
       "      <th>Title_6</th>\n",
       "      <th>Em_Q</th>\n",
       "      <th>Em_S</th>\n",
       "      <th>Emb_male</th>\n",
       "    </tr>\n",
       "  </thead>\n",
       "  <tbody>\n",
       "    <tr>\n",
       "      <th>count</th>\n",
       "      <td>1309.000000</td>\n",
       "      <td>891.000000</td>\n",
       "      <td>1.309000e+03</td>\n",
       "      <td>1309.000000</td>\n",
       "      <td>1.309000e+03</td>\n",
       "      <td>1.309000e+03</td>\n",
       "      <td>1309.000000</td>\n",
       "      <td>1309.000000</td>\n",
       "      <td>1309.000000</td>\n",
       "      <td>1309.000000</td>\n",
       "      <td>1309.000000</td>\n",
       "      <td>1309.000000</td>\n",
       "      <td>1309.000000</td>\n",
       "      <td>1309.000000</td>\n",
       "      <td>1309.000000</td>\n",
       "      <td>1309.000000</td>\n",
       "      <td>1309.000000</td>\n",
       "      <td>1309.000000</td>\n",
       "      <td>1309.000000</td>\n",
       "      <td>1309.000000</td>\n",
       "      <td>1309.000000</td>\n",
       "      <td>1309.000000</td>\n",
       "      <td>1309.000000</td>\n",
       "      <td>1309.000000</td>\n",
       "      <td>1309.000000</td>\n",
       "      <td>1309.000000</td>\n",
       "      <td>1309.000000</td>\n",
       "      <td>1309.000000</td>\n",
       "      <td>1309.000000</td>\n",
       "      <td>1309.000000</td>\n",
       "      <td>1309.000000</td>\n",
       "      <td>1309.000000</td>\n",
       "      <td>1309.000000</td>\n",
       "      <td>1309.000000</td>\n",
       "      <td>1309.000000</td>\n",
       "      <td>1309.000000</td>\n",
       "      <td>1309.000000</td>\n",
       "      <td>1309.000000</td>\n",
       "      <td>1309.000000</td>\n",
       "      <td>1309.000000</td>\n",
       "      <td>1309.000000</td>\n",
       "      <td>1309.000000</td>\n",
       "      <td>1309.000000</td>\n",
       "      <td>1309.000000</td>\n",
       "      <td>1309.000000</td>\n",
       "      <td>1309.000000</td>\n",
       "      <td>1309.000000</td>\n",
       "      <td>1309.000000</td>\n",
       "      <td>1309.000000</td>\n",
       "      <td>1309.000000</td>\n",
       "      <td>1309.000000</td>\n",
       "      <td>1309.000000</td>\n",
       "      <td>1309.000000</td>\n",
       "      <td>1309.000000</td>\n",
       "      <td>1309.000000</td>\n",
       "      <td>1309.000000</td>\n",
       "      <td>1309.000000</td>\n",
       "      <td>1309.000000</td>\n",
       "      <td>1309.000000</td>\n",
       "      <td>1309.000000</td>\n",
       "      <td>1309.000000</td>\n",
       "      <td>1309.000000</td>\n",
       "      <td>1309.000000</td>\n",
       "      <td>1309.000000</td>\n",
       "    </tr>\n",
       "    <tr>\n",
       "      <th>mean</th>\n",
       "      <td>655.000000</td>\n",
       "      <td>0.383838</td>\n",
       "      <td>1.249319e-16</td>\n",
       "      <td>0.385027</td>\n",
       "      <td>2.297415e-16</td>\n",
       "      <td>-3.740324e-16</td>\n",
       "      <td>0.211612</td>\n",
       "      <td>0.541635</td>\n",
       "      <td>0.179526</td>\n",
       "      <td>0.048128</td>\n",
       "      <td>0.603514</td>\n",
       "      <td>0.154316</td>\n",
       "      <td>0.051948</td>\n",
       "      <td>0.079450</td>\n",
       "      <td>0.035141</td>\n",
       "      <td>0.032086</td>\n",
       "      <td>0.016043</td>\n",
       "      <td>0.003820</td>\n",
       "      <td>0.000764</td>\n",
       "      <td>0.763942</td>\n",
       "      <td>0.007639</td>\n",
       "      <td>0.021390</td>\n",
       "      <td>0.000764</td>\n",
       "      <td>0.000764</td>\n",
       "      <td>0.000764</td>\n",
       "      <td>0.006112</td>\n",
       "      <td>0.051948</td>\n",
       "      <td>0.000764</td>\n",
       "      <td>0.002292</td>\n",
       "      <td>0.006875</td>\n",
       "      <td>0.000764</td>\n",
       "      <td>0.003056</td>\n",
       "      <td>0.000764</td>\n",
       "      <td>0.070283</td>\n",
       "      <td>0.003056</td>\n",
       "      <td>0.001528</td>\n",
       "      <td>0.001528</td>\n",
       "      <td>0.000764</td>\n",
       "      <td>0.001528</td>\n",
       "      <td>0.003820</td>\n",
       "      <td>0.000764</td>\n",
       "      <td>0.010695</td>\n",
       "      <td>0.003820</td>\n",
       "      <td>0.006112</td>\n",
       "      <td>0.000764</td>\n",
       "      <td>0.005348</td>\n",
       "      <td>0.002292</td>\n",
       "      <td>0.018335</td>\n",
       "      <td>0.000764</td>\n",
       "      <td>0.010695</td>\n",
       "      <td>0.005348</td>\n",
       "      <td>0.000764</td>\n",
       "      <td>0.001528</td>\n",
       "      <td>0.011459</td>\n",
       "      <td>0.003056</td>\n",
       "      <td>0.731092</td>\n",
       "      <td>0.010695</td>\n",
       "      <td>0.001528</td>\n",
       "      <td>0.578304</td>\n",
       "      <td>0.046600</td>\n",
       "      <td>0.353705</td>\n",
       "      <td>0.093965</td>\n",
       "      <td>0.699771</td>\n",
       "      <td>0.644003</td>\n",
       "    </tr>\n",
       "    <tr>\n",
       "      <th>std</th>\n",
       "      <td>378.020061</td>\n",
       "      <td>0.486592</td>\n",
       "      <td>1.000382e+00</td>\n",
       "      <td>0.865560</td>\n",
       "      <td>1.000382e+00</td>\n",
       "      <td>1.000382e+00</td>\n",
       "      <td>0.408607</td>\n",
       "      <td>0.498454</td>\n",
       "      <td>0.383939</td>\n",
       "      <td>0.214119</td>\n",
       "      <td>0.489354</td>\n",
       "      <td>0.361390</td>\n",
       "      <td>0.222007</td>\n",
       "      <td>0.270543</td>\n",
       "      <td>0.184207</td>\n",
       "      <td>0.176295</td>\n",
       "      <td>0.125688</td>\n",
       "      <td>0.061709</td>\n",
       "      <td>0.027639</td>\n",
       "      <td>0.424821</td>\n",
       "      <td>0.087103</td>\n",
       "      <td>0.144737</td>\n",
       "      <td>0.027639</td>\n",
       "      <td>0.027639</td>\n",
       "      <td>0.027639</td>\n",
       "      <td>0.077967</td>\n",
       "      <td>0.222007</td>\n",
       "      <td>0.027639</td>\n",
       "      <td>0.047836</td>\n",
       "      <td>0.082665</td>\n",
       "      <td>0.027639</td>\n",
       "      <td>0.055216</td>\n",
       "      <td>0.027639</td>\n",
       "      <td>0.255720</td>\n",
       "      <td>0.055216</td>\n",
       "      <td>0.039073</td>\n",
       "      <td>0.039073</td>\n",
       "      <td>0.027639</td>\n",
       "      <td>0.039073</td>\n",
       "      <td>0.061709</td>\n",
       "      <td>0.027639</td>\n",
       "      <td>0.102902</td>\n",
       "      <td>0.061709</td>\n",
       "      <td>0.077967</td>\n",
       "      <td>0.027639</td>\n",
       "      <td>0.072959</td>\n",
       "      <td>0.047836</td>\n",
       "      <td>0.134210</td>\n",
       "      <td>0.027639</td>\n",
       "      <td>0.102902</td>\n",
       "      <td>0.072959</td>\n",
       "      <td>0.027639</td>\n",
       "      <td>0.039073</td>\n",
       "      <td>0.106473</td>\n",
       "      <td>0.055216</td>\n",
       "      <td>0.443561</td>\n",
       "      <td>0.102902</td>\n",
       "      <td>0.039073</td>\n",
       "      <td>0.494019</td>\n",
       "      <td>0.210862</td>\n",
       "      <td>0.478302</td>\n",
       "      <td>0.291891</td>\n",
       "      <td>0.458533</td>\n",
       "      <td>0.478997</td>\n",
       "    </tr>\n",
       "    <tr>\n",
       "      <th>min</th>\n",
       "      <td>1.000000</td>\n",
       "      <td>0.000000</td>\n",
       "      <td>-2.187086e+00</td>\n",
       "      <td>0.000000</td>\n",
       "      <td>-3.832596e+00</td>\n",
       "      <td>-6.828521e-01</td>\n",
       "      <td>0.000000</td>\n",
       "      <td>0.000000</td>\n",
       "      <td>0.000000</td>\n",
       "      <td>0.000000</td>\n",
       "      <td>0.000000</td>\n",
       "      <td>0.000000</td>\n",
       "      <td>0.000000</td>\n",
       "      <td>0.000000</td>\n",
       "      <td>0.000000</td>\n",
       "      <td>0.000000</td>\n",
       "      <td>0.000000</td>\n",
       "      <td>0.000000</td>\n",
       "      <td>0.000000</td>\n",
       "      <td>0.000000</td>\n",
       "      <td>0.000000</td>\n",
       "      <td>0.000000</td>\n",
       "      <td>0.000000</td>\n",
       "      <td>0.000000</td>\n",
       "      <td>0.000000</td>\n",
       "      <td>0.000000</td>\n",
       "      <td>0.000000</td>\n",
       "      <td>0.000000</td>\n",
       "      <td>0.000000</td>\n",
       "      <td>0.000000</td>\n",
       "      <td>0.000000</td>\n",
       "      <td>0.000000</td>\n",
       "      <td>0.000000</td>\n",
       "      <td>0.000000</td>\n",
       "      <td>0.000000</td>\n",
       "      <td>0.000000</td>\n",
       "      <td>0.000000</td>\n",
       "      <td>0.000000</td>\n",
       "      <td>0.000000</td>\n",
       "      <td>0.000000</td>\n",
       "      <td>0.000000</td>\n",
       "      <td>0.000000</td>\n",
       "      <td>0.000000</td>\n",
       "      <td>0.000000</td>\n",
       "      <td>0.000000</td>\n",
       "      <td>0.000000</td>\n",
       "      <td>0.000000</td>\n",
       "      <td>0.000000</td>\n",
       "      <td>0.000000</td>\n",
       "      <td>0.000000</td>\n",
       "      <td>0.000000</td>\n",
       "      <td>0.000000</td>\n",
       "      <td>0.000000</td>\n",
       "      <td>0.000000</td>\n",
       "      <td>0.000000</td>\n",
       "      <td>0.000000</td>\n",
       "      <td>0.000000</td>\n",
       "      <td>0.000000</td>\n",
       "      <td>0.000000</td>\n",
       "      <td>0.000000</td>\n",
       "      <td>0.000000</td>\n",
       "      <td>0.000000</td>\n",
       "      <td>0.000000</td>\n",
       "      <td>0.000000</td>\n",
       "    </tr>\n",
       "    <tr>\n",
       "      <th>25%</th>\n",
       "      <td>328.000000</td>\n",
       "      <td>0.000000</td>\n",
       "      <td>-5.412861e-01</td>\n",
       "      <td>0.000000</td>\n",
       "      <td>-8.158919e-01</td>\n",
       "      <td>-6.828521e-01</td>\n",
       "      <td>0.000000</td>\n",
       "      <td>0.000000</td>\n",
       "      <td>0.000000</td>\n",
       "      <td>0.000000</td>\n",
       "      <td>0.000000</td>\n",
       "      <td>0.000000</td>\n",
       "      <td>0.000000</td>\n",
       "      <td>0.000000</td>\n",
       "      <td>0.000000</td>\n",
       "      <td>0.000000</td>\n",
       "      <td>0.000000</td>\n",
       "      <td>0.000000</td>\n",
       "      <td>0.000000</td>\n",
       "      <td>1.000000</td>\n",
       "      <td>0.000000</td>\n",
       "      <td>0.000000</td>\n",
       "      <td>0.000000</td>\n",
       "      <td>0.000000</td>\n",
       "      <td>0.000000</td>\n",
       "      <td>0.000000</td>\n",
       "      <td>0.000000</td>\n",
       "      <td>0.000000</td>\n",
       "      <td>0.000000</td>\n",
       "      <td>0.000000</td>\n",
       "      <td>0.000000</td>\n",
       "      <td>0.000000</td>\n",
       "      <td>0.000000</td>\n",
       "      <td>0.000000</td>\n",
       "      <td>0.000000</td>\n",
       "      <td>0.000000</td>\n",
       "      <td>0.000000</td>\n",
       "      <td>0.000000</td>\n",
       "      <td>0.000000</td>\n",
       "      <td>0.000000</td>\n",
       "      <td>0.000000</td>\n",
       "      <td>0.000000</td>\n",
       "      <td>0.000000</td>\n",
       "      <td>0.000000</td>\n",
       "      <td>0.000000</td>\n",
       "      <td>0.000000</td>\n",
       "      <td>0.000000</td>\n",
       "      <td>0.000000</td>\n",
       "      <td>0.000000</td>\n",
       "      <td>0.000000</td>\n",
       "      <td>0.000000</td>\n",
       "      <td>0.000000</td>\n",
       "      <td>0.000000</td>\n",
       "      <td>0.000000</td>\n",
       "      <td>0.000000</td>\n",
       "      <td>0.000000</td>\n",
       "      <td>0.000000</td>\n",
       "      <td>0.000000</td>\n",
       "      <td>0.000000</td>\n",
       "      <td>0.000000</td>\n",
       "      <td>0.000000</td>\n",
       "      <td>0.000000</td>\n",
       "      <td>0.000000</td>\n",
       "      <td>0.000000</td>\n",
       "    </tr>\n",
       "    <tr>\n",
       "      <th>50%</th>\n",
       "      <td>655.000000</td>\n",
       "      <td>0.000000</td>\n",
       "      <td>-2.397195e-01</td>\n",
       "      <td>0.000000</td>\n",
       "      <td>-1.900617e-01</td>\n",
       "      <td>-6.828521e-01</td>\n",
       "      <td>0.000000</td>\n",
       "      <td>1.000000</td>\n",
       "      <td>0.000000</td>\n",
       "      <td>0.000000</td>\n",
       "      <td>1.000000</td>\n",
       "      <td>0.000000</td>\n",
       "      <td>0.000000</td>\n",
       "      <td>0.000000</td>\n",
       "      <td>0.000000</td>\n",
       "      <td>0.000000</td>\n",
       "      <td>0.000000</td>\n",
       "      <td>0.000000</td>\n",
       "      <td>0.000000</td>\n",
       "      <td>1.000000</td>\n",
       "      <td>0.000000</td>\n",
       "      <td>0.000000</td>\n",
       "      <td>0.000000</td>\n",
       "      <td>0.000000</td>\n",
       "      <td>0.000000</td>\n",
       "      <td>0.000000</td>\n",
       "      <td>0.000000</td>\n",
       "      <td>0.000000</td>\n",
       "      <td>0.000000</td>\n",
       "      <td>0.000000</td>\n",
       "      <td>0.000000</td>\n",
       "      <td>0.000000</td>\n",
       "      <td>0.000000</td>\n",
       "      <td>0.000000</td>\n",
       "      <td>0.000000</td>\n",
       "      <td>0.000000</td>\n",
       "      <td>0.000000</td>\n",
       "      <td>0.000000</td>\n",
       "      <td>0.000000</td>\n",
       "      <td>0.000000</td>\n",
       "      <td>0.000000</td>\n",
       "      <td>0.000000</td>\n",
       "      <td>0.000000</td>\n",
       "      <td>0.000000</td>\n",
       "      <td>0.000000</td>\n",
       "      <td>0.000000</td>\n",
       "      <td>0.000000</td>\n",
       "      <td>0.000000</td>\n",
       "      <td>0.000000</td>\n",
       "      <td>0.000000</td>\n",
       "      <td>0.000000</td>\n",
       "      <td>0.000000</td>\n",
       "      <td>0.000000</td>\n",
       "      <td>0.000000</td>\n",
       "      <td>0.000000</td>\n",
       "      <td>1.000000</td>\n",
       "      <td>0.000000</td>\n",
       "      <td>0.000000</td>\n",
       "      <td>1.000000</td>\n",
       "      <td>0.000000</td>\n",
       "      <td>0.000000</td>\n",
       "      <td>0.000000</td>\n",
       "      <td>1.000000</td>\n",
       "      <td>1.000000</td>\n",
       "    </tr>\n",
       "    <tr>\n",
       "      <th>75%</th>\n",
       "      <td>982.000000</td>\n",
       "      <td>1.000000</td>\n",
       "      <td>5.895886e-01</td>\n",
       "      <td>0.000000</td>\n",
       "      <td>5.718695e-01</td>\n",
       "      <td>1.379985e+00</td>\n",
       "      <td>0.000000</td>\n",
       "      <td>1.000000</td>\n",
       "      <td>0.000000</td>\n",
       "      <td>0.000000</td>\n",
       "      <td>1.000000</td>\n",
       "      <td>0.000000</td>\n",
       "      <td>0.000000</td>\n",
       "      <td>0.000000</td>\n",
       "      <td>0.000000</td>\n",
       "      <td>0.000000</td>\n",
       "      <td>0.000000</td>\n",
       "      <td>0.000000</td>\n",
       "      <td>0.000000</td>\n",
       "      <td>1.000000</td>\n",
       "      <td>0.000000</td>\n",
       "      <td>0.000000</td>\n",
       "      <td>0.000000</td>\n",
       "      <td>0.000000</td>\n",
       "      <td>0.000000</td>\n",
       "      <td>0.000000</td>\n",
       "      <td>0.000000</td>\n",
       "      <td>0.000000</td>\n",
       "      <td>0.000000</td>\n",
       "      <td>0.000000</td>\n",
       "      <td>0.000000</td>\n",
       "      <td>0.000000</td>\n",
       "      <td>0.000000</td>\n",
       "      <td>0.000000</td>\n",
       "      <td>0.000000</td>\n",
       "      <td>0.000000</td>\n",
       "      <td>0.000000</td>\n",
       "      <td>0.000000</td>\n",
       "      <td>0.000000</td>\n",
       "      <td>0.000000</td>\n",
       "      <td>0.000000</td>\n",
       "      <td>0.000000</td>\n",
       "      <td>0.000000</td>\n",
       "      <td>0.000000</td>\n",
       "      <td>0.000000</td>\n",
       "      <td>0.000000</td>\n",
       "      <td>0.000000</td>\n",
       "      <td>0.000000</td>\n",
       "      <td>0.000000</td>\n",
       "      <td>0.000000</td>\n",
       "      <td>0.000000</td>\n",
       "      <td>0.000000</td>\n",
       "      <td>0.000000</td>\n",
       "      <td>0.000000</td>\n",
       "      <td>0.000000</td>\n",
       "      <td>1.000000</td>\n",
       "      <td>0.000000</td>\n",
       "      <td>0.000000</td>\n",
       "      <td>1.000000</td>\n",
       "      <td>0.000000</td>\n",
       "      <td>1.000000</td>\n",
       "      <td>0.000000</td>\n",
       "      <td>1.000000</td>\n",
       "      <td>1.000000</td>\n",
       "    </tr>\n",
       "    <tr>\n",
       "      <th>max</th>\n",
       "      <td>1309.000000</td>\n",
       "      <td>1.000000</td>\n",
       "      <td>3.831429e+00</td>\n",
       "      <td>9.000000</td>\n",
       "      <td>2.819634e+00</td>\n",
       "      <td>1.773512e+00</td>\n",
       "      <td>1.000000</td>\n",
       "      <td>1.000000</td>\n",
       "      <td>1.000000</td>\n",
       "      <td>1.000000</td>\n",
       "      <td>1.000000</td>\n",
       "      <td>1.000000</td>\n",
       "      <td>1.000000</td>\n",
       "      <td>1.000000</td>\n",
       "      <td>1.000000</td>\n",
       "      <td>1.000000</td>\n",
       "      <td>1.000000</td>\n",
       "      <td>1.000000</td>\n",
       "      <td>1.000000</td>\n",
       "      <td>1.000000</td>\n",
       "      <td>1.000000</td>\n",
       "      <td>1.000000</td>\n",
       "      <td>1.000000</td>\n",
       "      <td>1.000000</td>\n",
       "      <td>1.000000</td>\n",
       "      <td>1.000000</td>\n",
       "      <td>1.000000</td>\n",
       "      <td>1.000000</td>\n",
       "      <td>1.000000</td>\n",
       "      <td>1.000000</td>\n",
       "      <td>1.000000</td>\n",
       "      <td>1.000000</td>\n",
       "      <td>1.000000</td>\n",
       "      <td>1.000000</td>\n",
       "      <td>1.000000</td>\n",
       "      <td>1.000000</td>\n",
       "      <td>1.000000</td>\n",
       "      <td>1.000000</td>\n",
       "      <td>1.000000</td>\n",
       "      <td>1.000000</td>\n",
       "      <td>1.000000</td>\n",
       "      <td>1.000000</td>\n",
       "      <td>1.000000</td>\n",
       "      <td>1.000000</td>\n",
       "      <td>1.000000</td>\n",
       "      <td>1.000000</td>\n",
       "      <td>1.000000</td>\n",
       "      <td>1.000000</td>\n",
       "      <td>1.000000</td>\n",
       "      <td>1.000000</td>\n",
       "      <td>1.000000</td>\n",
       "      <td>1.000000</td>\n",
       "      <td>1.000000</td>\n",
       "      <td>1.000000</td>\n",
       "      <td>1.000000</td>\n",
       "      <td>1.000000</td>\n",
       "      <td>1.000000</td>\n",
       "      <td>1.000000</td>\n",
       "      <td>1.000000</td>\n",
       "      <td>1.000000</td>\n",
       "      <td>1.000000</td>\n",
       "      <td>1.000000</td>\n",
       "      <td>1.000000</td>\n",
       "      <td>1.000000</td>\n",
       "    </tr>\n",
       "  </tbody>\n",
       "</table>\n",
       "</div>"
      ],
      "text/plain": [
       "       PassengerId    Survived           Age        Parch  Fare_transformed  \\\n",
       "count  1309.000000  891.000000  1.309000e+03  1309.000000      1.309000e+03   \n",
       "mean    655.000000    0.383838  1.249319e-16     0.385027      2.297415e-16   \n",
       "std     378.020061    0.486592  1.000382e+00     0.865560      1.000382e+00   \n",
       "min       1.000000    0.000000 -2.187086e+00     0.000000     -3.832596e+00   \n",
       "25%     328.000000    0.000000 -5.412861e-01     0.000000     -8.158919e-01   \n",
       "50%     655.000000    0.000000 -2.397195e-01     0.000000     -1.900617e-01   \n",
       "75%     982.000000    1.000000  5.895886e-01     0.000000      5.718695e-01   \n",
       "max    1309.000000    1.000000  3.831429e+00     9.000000      2.819634e+00   \n",
       "\n",
       "           Sib_norm        Pcl_2        Pcl_3   Fam_Couple  Fam_LargeFam  \\\n",
       "count  1.309000e+03  1309.000000  1309.000000  1309.000000   1309.000000   \n",
       "mean  -3.740324e-16     0.211612     0.541635     0.179526      0.048128   \n",
       "std    1.000382e+00     0.408607     0.498454     0.383939      0.214119   \n",
       "min   -6.828521e-01     0.000000     0.000000     0.000000      0.000000   \n",
       "25%   -6.828521e-01     0.000000     0.000000     0.000000      0.000000   \n",
       "50%   -6.828521e-01     0.000000     1.000000     0.000000      0.000000   \n",
       "75%    1.379985e+00     0.000000     1.000000     0.000000      0.000000   \n",
       "max    1.773512e+00     1.000000     1.000000     1.000000      1.000000   \n",
       "\n",
       "        Fam_Single  Fam_SmallFam      Cabin_B      Cabin_C      Cabin_D  \\\n",
       "count  1309.000000   1309.000000  1309.000000  1309.000000  1309.000000   \n",
       "mean      0.603514      0.154316     0.051948     0.079450     0.035141   \n",
       "std       0.489354      0.361390     0.222007     0.270543     0.184207   \n",
       "min       0.000000      0.000000     0.000000     0.000000     0.000000   \n",
       "25%       0.000000      0.000000     0.000000     0.000000     0.000000   \n",
       "50%       1.000000      0.000000     0.000000     0.000000     0.000000   \n",
       "75%       1.000000      0.000000     0.000000     0.000000     0.000000   \n",
       "max       1.000000      1.000000     1.000000     1.000000     1.000000   \n",
       "\n",
       "           Cabin_E      Cabin_F      Cabin_G      Cabin_T      Cabin_X  \\\n",
       "count  1309.000000  1309.000000  1309.000000  1309.000000  1309.000000   \n",
       "mean      0.032086     0.016043     0.003820     0.000764     0.763942   \n",
       "std       0.176295     0.125688     0.061709     0.027639     0.424821   \n",
       "min       0.000000     0.000000     0.000000     0.000000     0.000000   \n",
       "25%       0.000000     0.000000     0.000000     0.000000     1.000000   \n",
       "50%       0.000000     0.000000     0.000000     0.000000     1.000000   \n",
       "75%       0.000000     0.000000     0.000000     0.000000     1.000000   \n",
       "max       1.000000     1.000000     1.000000     1.000000     1.000000   \n",
       "\n",
       "              T_A4         T_A5        T_AQ3        T_AQ4         T_AS  \\\n",
       "count  1309.000000  1309.000000  1309.000000  1309.000000  1309.000000   \n",
       "mean      0.007639     0.021390     0.000764     0.000764     0.000764   \n",
       "std       0.087103     0.144737     0.027639     0.027639     0.027639   \n",
       "min       0.000000     0.000000     0.000000     0.000000     0.000000   \n",
       "25%       0.000000     0.000000     0.000000     0.000000     0.000000   \n",
       "50%       0.000000     0.000000     0.000000     0.000000     0.000000   \n",
       "75%       0.000000     0.000000     0.000000     0.000000     0.000000   \n",
       "max       1.000000     1.000000     1.000000     1.000000     1.000000   \n",
       "\n",
       "               T_C         T_CA    T_CASOTON         T_FC        T_FCC  \\\n",
       "count  1309.000000  1309.000000  1309.000000  1309.000000  1309.000000   \n",
       "mean      0.006112     0.051948     0.000764     0.002292     0.006875   \n",
       "std       0.077967     0.222007     0.027639     0.047836     0.082665   \n",
       "min       0.000000     0.000000     0.000000     0.000000     0.000000   \n",
       "25%       0.000000     0.000000     0.000000     0.000000     0.000000   \n",
       "50%       0.000000     0.000000     0.000000     0.000000     0.000000   \n",
       "75%       0.000000     0.000000     0.000000     0.000000     0.000000   \n",
       "max       1.000000     1.000000     1.000000     1.000000     1.000000   \n",
       "\n",
       "              T_Fa       T_LINE         T_LP         T_PC         T_PP  \\\n",
       "count  1309.000000  1309.000000  1309.000000  1309.000000  1309.000000   \n",
       "mean      0.000764     0.003056     0.000764     0.070283     0.003056   \n",
       "std       0.027639     0.055216     0.027639     0.255720     0.055216   \n",
       "min       0.000000     0.000000     0.000000     0.000000     0.000000   \n",
       "25%       0.000000     0.000000     0.000000     0.000000     0.000000   \n",
       "50%       0.000000     0.000000     0.000000     0.000000     0.000000   \n",
       "75%       0.000000     0.000000     0.000000     0.000000     0.000000   \n",
       "max       1.000000     1.000000     1.000000     1.000000     1.000000   \n",
       "\n",
       "             T_PPP         T_SC       T_SCA3       T_SCA4       T_SCAH  \\\n",
       "count  1309.000000  1309.000000  1309.000000  1309.000000  1309.000000   \n",
       "mean      0.001528     0.001528     0.000764     0.001528     0.003820   \n",
       "std       0.039073     0.039073     0.027639     0.039073     0.061709   \n",
       "min       0.000000     0.000000     0.000000     0.000000     0.000000   \n",
       "25%       0.000000     0.000000     0.000000     0.000000     0.000000   \n",
       "50%       0.000000     0.000000     0.000000     0.000000     0.000000   \n",
       "75%       0.000000     0.000000     0.000000     0.000000     0.000000   \n",
       "max       1.000000     1.000000     1.000000     1.000000     1.000000   \n",
       "\n",
       "            T_SCOW    T_SCPARIS    T_SCParis        T_SOC        T_SOP  \\\n",
       "count  1309.000000  1309.000000  1309.000000  1309.000000  1309.000000   \n",
       "mean      0.000764     0.010695     0.003820     0.006112     0.000764   \n",
       "std       0.027639     0.102902     0.061709     0.077967     0.027639   \n",
       "min       0.000000     0.000000     0.000000     0.000000     0.000000   \n",
       "25%       0.000000     0.000000     0.000000     0.000000     0.000000   \n",
       "50%       0.000000     0.000000     0.000000     0.000000     0.000000   \n",
       "75%       0.000000     0.000000     0.000000     0.000000     0.000000   \n",
       "max       1.000000     1.000000     1.000000     1.000000     1.000000   \n",
       "\n",
       "            T_SOPP    T_SOTONO2    T_SOTONOQ         T_SP      T_STONO  \\\n",
       "count  1309.000000  1309.000000  1309.000000  1309.000000  1309.000000   \n",
       "mean      0.005348     0.002292     0.018335     0.000764     0.010695   \n",
       "std       0.072959     0.047836     0.134210     0.027639     0.102902   \n",
       "min       0.000000     0.000000     0.000000     0.000000     0.000000   \n",
       "25%       0.000000     0.000000     0.000000     0.000000     0.000000   \n",
       "50%       0.000000     0.000000     0.000000     0.000000     0.000000   \n",
       "75%       0.000000     0.000000     0.000000     0.000000     0.000000   \n",
       "max       1.000000     1.000000     1.000000     1.000000     1.000000   \n",
       "\n",
       "          T_STONO2     T_STONOQ       T_SWPP         T_WC        T_WEP  \\\n",
       "count  1309.000000  1309.000000  1309.000000  1309.000000  1309.000000   \n",
       "mean      0.005348     0.000764     0.001528     0.011459     0.003056   \n",
       "std       0.072959     0.027639     0.039073     0.106473     0.055216   \n",
       "min       0.000000     0.000000     0.000000     0.000000     0.000000   \n",
       "25%       0.000000     0.000000     0.000000     0.000000     0.000000   \n",
       "50%       0.000000     0.000000     0.000000     0.000000     0.000000   \n",
       "75%       0.000000     0.000000     0.000000     0.000000     0.000000   \n",
       "max       1.000000     1.000000     1.000000     1.000000     1.000000   \n",
       "\n",
       "               T_X      Title_2      Title_3      Title_4      Title_5  \\\n",
       "count  1309.000000  1309.000000  1309.000000  1309.000000  1309.000000   \n",
       "mean      0.731092     0.010695     0.001528     0.578304     0.046600   \n",
       "std       0.443561     0.102902     0.039073     0.494019     0.210862   \n",
       "min       0.000000     0.000000     0.000000     0.000000     0.000000   \n",
       "25%       0.000000     0.000000     0.000000     0.000000     0.000000   \n",
       "50%       1.000000     0.000000     0.000000     1.000000     0.000000   \n",
       "75%       1.000000     0.000000     0.000000     1.000000     0.000000   \n",
       "max       1.000000     1.000000     1.000000     1.000000     1.000000   \n",
       "\n",
       "           Title_6         Em_Q         Em_S     Emb_male  \n",
       "count  1309.000000  1309.000000  1309.000000  1309.000000  \n",
       "mean      0.353705     0.093965     0.699771     0.644003  \n",
       "std       0.478302     0.291891     0.458533     0.478997  \n",
       "min       0.000000     0.000000     0.000000     0.000000  \n",
       "25%       0.000000     0.000000     0.000000     0.000000  \n",
       "50%       0.000000     0.000000     1.000000     1.000000  \n",
       "75%       1.000000     0.000000     1.000000     1.000000  \n",
       "max       1.000000     1.000000     1.000000     1.000000  "
      ]
     },
     "execution_count": 76,
     "metadata": {},
     "output_type": "execute_result"
    }
   ],
   "source": [
    "dataset.describe()"
   ]
  },
  {
   "cell_type": "markdown",
   "id": "83006dc8",
   "metadata": {
    "papermill": {
     "duration": 0.166146,
     "end_time": "2022-02-24T15:41:52.920434",
     "exception": false,
     "start_time": "2022-02-24T15:41:52.754288",
     "status": "completed"
    },
    "tags": []
   },
   "source": [
    "# 3. FEATURE SELECTION "
   ]
  },
  {
   "cell_type": "markdown",
   "id": "d34192e4",
   "metadata": {
    "papermill": {
     "duration": 0.243982,
     "end_time": "2022-02-24T15:41:53.446665",
     "exception": false,
     "start_time": "2022-02-24T15:41:53.202683",
     "status": "completed"
    },
    "tags": []
   },
   "source": [
    "## Drop Irrrelevent Data"
   ]
  },
  {
   "cell_type": "code",
   "execution_count": 77,
   "id": "a0bbb319",
   "metadata": {
    "execution": {
     "iopub.execute_input": "2022-02-24T15:41:53.744881Z",
     "iopub.status.busy": "2022-02-24T15:41:53.744142Z",
     "iopub.status.idle": "2022-02-24T15:41:53.746503Z",
     "shell.execute_reply": "2022-02-24T15:41:53.746934Z",
     "shell.execute_reply.started": "2022-02-24T15:21:00.128179Z"
    },
    "papermill": {
     "duration": 0.148192,
     "end_time": "2022-02-24T15:41:53.747085",
     "exception": false,
     "start_time": "2022-02-24T15:41:53.598893",
     "status": "completed"
    },
    "tags": []
   },
   "outputs": [],
   "source": [
    "dataset.drop(labels = [\"PassengerId\"], axis = 1, inplace = True) #drop irrelevent passenger id"
   ]
  },
  {
   "cell_type": "markdown",
   "id": "f84fe87f",
   "metadata": {
    "papermill": {
     "duration": 0.139832,
     "end_time": "2022-02-24T15:41:54.028190",
     "exception": false,
     "start_time": "2022-02-24T15:41:53.888358",
     "status": "completed"
    },
    "tags": []
   },
   "source": [
    "### PCA"
   ]
  },
  {
   "cell_type": "markdown",
   "id": "a4f70f3c",
   "metadata": {
    "papermill": {
     "duration": 0.138879,
     "end_time": "2022-02-24T15:41:54.309440",
     "exception": false,
     "start_time": "2022-02-24T15:41:54.170561",
     "status": "completed"
    },
    "tags": []
   },
   "source": [
    "PCA can be done to reduce the dimensions or number of features"
   ]
  },
  {
   "cell_type": "markdown",
   "id": "bf1dacf8",
   "metadata": {
    "execution": {
     "iopub.execute_input": "2021-11-11T05:52:25.298563Z",
     "iopub.status.busy": "2021-11-11T05:52:25.298253Z",
     "iopub.status.idle": "2021-11-11T05:52:25.303388Z",
     "shell.execute_reply": "2021-11-11T05:52:25.302385Z",
     "shell.execute_reply.started": "2021-11-11T05:52:25.298515Z"
    },
    "papermill": {
     "duration": 0.139637,
     "end_time": "2022-02-24T15:41:54.588507",
     "exception": false,
     "start_time": "2022-02-24T15:41:54.448870",
     "status": "completed"
    },
    "tags": []
   },
   "source": [
    "# 4.MODEL CREATION"
   ]
  },
  {
   "cell_type": "markdown",
   "id": "fd583c99",
   "metadata": {
    "papermill": {
     "duration": 0.139565,
     "end_time": "2022-02-24T15:41:54.868167",
     "exception": false,
     "start_time": "2022-02-24T15:41:54.728602",
     "status": "completed"
    },
    "tags": []
   },
   "source": [
    "\"\"\"\n",
    "1.The steps we are following here is select 10 best classification algorithms and run with default values ,\n",
    "2.Select the best 5 models by checking the score by cross validastion scores\n",
    "3.Then hypertune the best 5 models by selecting the best hyperparameters using GrivSearch\n",
    "4.Use soft voting technique to combine the outputs from all the models (Ensemble model creation) \"\"\""
   ]
  },
  {
   "cell_type": "code",
   "execution_count": 78,
   "id": "94751db3",
   "metadata": {
    "execution": {
     "iopub.execute_input": "2022-02-24T15:41:55.167672Z",
     "iopub.status.busy": "2022-02-24T15:41:55.167036Z",
     "iopub.status.idle": "2022-02-24T15:41:55.174560Z",
     "shell.execute_reply": "2022-02-24T15:41:55.174128Z",
     "shell.execute_reply.started": "2022-02-24T15:21:00.138049Z"
    },
    "papermill": {
     "duration": 0.157343,
     "end_time": "2022-02-24T15:41:55.174667",
     "exception": false,
     "start_time": "2022-02-24T15:41:55.017324",
     "status": "completed"
    },
    "tags": []
   },
   "outputs": [
    {
     "name": "stderr",
     "output_type": "stream",
     "text": [
      "/opt/conda/lib/python3.7/site-packages/pandas/core/frame.py:4913: SettingWithCopyWarning: \n",
      "A value is trying to be set on a copy of a slice from a DataFrame\n",
      "\n",
      "See the caveats in the documentation: https://pandas.pydata.org/pandas-docs/stable/user_guide/indexing.html#returning-a-view-versus-a-copy\n",
      "  errors=errors,\n"
     ]
    }
   ],
   "source": [
    "\n",
    "\"\"\"Split train and test datas from dataset and delete survived col from test data , \n",
    "   PN:Here test is the data we need to predict for submission , to the test data we used for regular validation purpose.\n",
    "\"\"\"\n",
    "train=dataset.iloc[:len(train)] #split \n",
    "test=dataset.iloc[len(train):]\n",
    "test.drop(labels=[\"Survived\"],axis = 1,inplace=True) #or test.drop(columns=['Survived'],inplace=True)"
   ]
  },
  {
   "cell_type": "code",
   "execution_count": 79,
   "id": "8dfde004",
   "metadata": {
    "execution": {
     "iopub.execute_input": "2022-02-24T15:41:55.458968Z",
     "iopub.status.busy": "2022-02-24T15:41:55.458152Z",
     "iopub.status.idle": "2022-02-24T15:41:55.465985Z",
     "shell.execute_reply": "2022-02-24T15:41:55.466508Z",
     "shell.execute_reply.started": "2022-02-24T15:21:00.157623Z"
    },
    "papermill": {
     "duration": 0.151213,
     "end_time": "2022-02-24T15:41:55.466647",
     "exception": false,
     "start_time": "2022-02-24T15:41:55.315434",
     "status": "completed"
    },
    "tags": []
   },
   "outputs": [
    {
     "name": "stderr",
     "output_type": "stream",
     "text": [
      "/opt/conda/lib/python3.7/site-packages/ipykernel_launcher.py:1: SettingWithCopyWarning: \n",
      "A value is trying to be set on a copy of a slice from a DataFrame.\n",
      "Try using .loc[row_indexer,col_indexer] = value instead\n",
      "\n",
      "See the caveats in the documentation: https://pandas.pydata.org/pandas-docs/stable/user_guide/indexing.html#returning-a-view-versus-a-copy\n",
      "  \"\"\"Entry point for launching an IPython kernel.\n"
     ]
    }
   ],
   "source": [
    "train['Survived']=train['Survived'].astype(int)\n",
    "Y_train=train['Survived']\n",
    "X_train=train.drop(columns=['Survived'])"
   ]
  },
  {
   "cell_type": "markdown",
   "id": "ed6f9feb",
   "metadata": {
    "execution": {
     "iopub.execute_input": "2021-11-11T06:28:59.0658Z",
     "iopub.status.busy": "2021-11-11T06:28:59.064943Z",
     "iopub.status.idle": "2021-11-11T06:28:59.069271Z",
     "shell.execute_reply": "2021-11-11T06:28:59.068199Z",
     "shell.execute_reply.started": "2021-11-11T06:28:59.065758Z"
    },
    "papermill": {
     "duration": 0.140415,
     "end_time": "2022-02-24T15:41:55.747930",
     "exception": false,
     "start_time": "2022-02-24T15:41:55.607515",
     "status": "completed"
    },
    "tags": []
   },
   "source": [
    "## Base line model selection"
   ]
  },
  {
   "cell_type": "code",
   "execution_count": 80,
   "id": "e486e774",
   "metadata": {
    "execution": {
     "iopub.execute_input": "2022-02-24T15:41:56.034632Z",
     "iopub.status.busy": "2022-02-24T15:41:56.033756Z",
     "iopub.status.idle": "2022-02-24T15:41:56.035760Z",
     "shell.execute_reply": "2022-02-24T15:41:56.036184Z",
     "shell.execute_reply.started": "2022-02-24T15:21:00.171349Z"
    },
    "papermill": {
     "duration": 0.147377,
     "end_time": "2022-02-24T15:41:56.036320",
     "exception": false,
     "start_time": "2022-02-24T15:41:55.888943",
     "status": "completed"
    },
    "tags": []
   },
   "outputs": [],
   "source": [
    "# Cross validate model with Kfold stratified cross val\n",
    "kfold = StratifiedKFold(n_splits=10)"
   ]
  },
  {
   "cell_type": "code",
   "execution_count": 81,
   "id": "72e3d021",
   "metadata": {
    "execution": {
     "iopub.execute_input": "2022-02-24T15:41:56.324927Z",
     "iopub.status.busy": "2022-02-24T15:41:56.324056Z",
     "iopub.status.idle": "2022-02-24T15:41:56.326369Z",
     "shell.execute_reply": "2022-02-24T15:41:56.325970Z",
     "shell.execute_reply.started": "2022-02-24T15:21:00.178749Z"
    },
    "papermill": {
     "duration": 0.149204,
     "end_time": "2022-02-24T15:41:56.326491",
     "exception": false,
     "start_time": "2022-02-24T15:41:56.177287",
     "status": "completed"
    },
    "tags": []
   },
   "outputs": [],
   "source": [
    "# Modeling step Test differents algorithms \n",
    "random_state = 2\n",
    "classifiers = []\n",
    "classifiers.append(SVC(random_state=random_state))\n",
    "classifiers.append(DecisionTreeClassifier(random_state=random_state))\n",
    "classifiers.append(AdaBoostClassifier(DecisionTreeClassifier(random_state=random_state),random_state=random_state,learning_rate=0.1))\n",
    "classifiers.append(RandomForestClassifier(random_state=random_state))\n",
    "classifiers.append(ExtraTreesClassifier(random_state=random_state))\n",
    "classifiers.append(GradientBoostingClassifier(random_state=random_state))\n",
    "classifiers.append(MLPClassifier(random_state=random_state))\n",
    "classifiers.append(KNeighborsClassifier())\n",
    "classifiers.append(LogisticRegression(random_state = random_state))\n",
    "classifiers.append(LinearDiscriminantAnalysis())"
   ]
  },
  {
   "cell_type": "code",
   "execution_count": 82,
   "id": "54304bca",
   "metadata": {
    "execution": {
     "iopub.execute_input": "2022-02-24T15:41:56.612880Z",
     "iopub.status.busy": "2022-02-24T15:41:56.612356Z",
     "iopub.status.idle": "2022-02-24T15:42:13.736399Z",
     "shell.execute_reply": "2022-02-24T15:42:13.735755Z",
     "shell.execute_reply.started": "2022-02-24T15:21:00.200856Z"
    },
    "papermill": {
     "duration": 17.270337,
     "end_time": "2022-02-24T15:42:13.736538",
     "exception": false,
     "start_time": "2022-02-24T15:41:56.466201",
     "status": "completed"
    },
    "tags": []
   },
   "outputs": [],
   "source": [
    "cv_results = []\n",
    "for classifier in classifiers :\n",
    "    cv_results.append(cross_val_score(classifier, X_train, y = Y_train, scoring = \"accuracy\", cv = kfold, n_jobs=4))"
   ]
  },
  {
   "cell_type": "code",
   "execution_count": 83,
   "id": "22fabf85",
   "metadata": {
    "execution": {
     "iopub.execute_input": "2022-02-24T15:42:14.031725Z",
     "iopub.status.busy": "2022-02-24T15:42:14.030867Z",
     "iopub.status.idle": "2022-02-24T15:42:14.032659Z",
     "shell.execute_reply": "2022-02-24T15:42:14.033150Z",
     "shell.execute_reply.started": "2022-02-24T15:21:23.302887Z"
    },
    "papermill": {
     "duration": 0.151291,
     "end_time": "2022-02-24T15:42:14.033292",
     "exception": false,
     "start_time": "2022-02-24T15:42:13.882001",
     "status": "completed"
    },
    "tags": []
   },
   "outputs": [],
   "source": [
    "cv_means = []\n",
    "cv_std = []\n",
    "for cv_result in cv_results:\n",
    "    cv_means.append(cv_result.mean())\n",
    "    cv_std.append(cv_result.std())"
   ]
  },
  {
   "cell_type": "code",
   "execution_count": 84,
   "id": "e96fd4ea",
   "metadata": {
    "execution": {
     "iopub.execute_input": "2022-02-24T15:42:14.327334Z",
     "iopub.status.busy": "2022-02-24T15:42:14.326684Z",
     "iopub.status.idle": "2022-02-24T15:42:14.329640Z",
     "shell.execute_reply": "2022-02-24T15:42:14.330048Z",
     "shell.execute_reply.started": "2022-02-24T15:21:23.314783Z"
    },
    "papermill": {
     "duration": 0.157042,
     "end_time": "2022-02-24T15:42:14.330176",
     "exception": false,
     "start_time": "2022-02-24T15:42:14.173134",
     "status": "completed"
    },
    "tags": []
   },
   "outputs": [
    {
     "data": {
      "text/html": [
       "<div>\n",
       "<style scoped>\n",
       "    .dataframe tbody tr th:only-of-type {\n",
       "        vertical-align: middle;\n",
       "    }\n",
       "\n",
       "    .dataframe tbody tr th {\n",
       "        vertical-align: top;\n",
       "    }\n",
       "\n",
       "    .dataframe thead th {\n",
       "        text-align: right;\n",
       "    }\n",
       "</style>\n",
       "<table border=\"1\" class=\"dataframe\">\n",
       "  <thead>\n",
       "    <tr style=\"text-align: right;\">\n",
       "      <th></th>\n",
       "      <th>CrossValMeans</th>\n",
       "      <th>CrossValerrors</th>\n",
       "      <th>Algorithm</th>\n",
       "    </tr>\n",
       "  </thead>\n",
       "  <tbody>\n",
       "    <tr>\n",
       "      <th>3</th>\n",
       "      <td>0.819351</td>\n",
       "      <td>0.049132</td>\n",
       "      <td>RandomForest</td>\n",
       "    </tr>\n",
       "    <tr>\n",
       "      <th>2</th>\n",
       "      <td>0.802534</td>\n",
       "      <td>0.046828</td>\n",
       "      <td>AdaBoost</td>\n",
       "    </tr>\n",
       "    <tr>\n",
       "      <th>4</th>\n",
       "      <td>0.811498</td>\n",
       "      <td>0.043180</td>\n",
       "      <td>ExtraTrees</td>\n",
       "    </tr>\n",
       "    <tr>\n",
       "      <th>5</th>\n",
       "      <td>0.835031</td>\n",
       "      <td>0.041079</td>\n",
       "      <td>GradientBoosting</td>\n",
       "    </tr>\n",
       "    <tr>\n",
       "      <th>7</th>\n",
       "      <td>0.820487</td>\n",
       "      <td>0.038221</td>\n",
       "      <td>KNeighboors</td>\n",
       "    </tr>\n",
       "    <tr>\n",
       "      <th>1</th>\n",
       "      <td>0.803670</td>\n",
       "      <td>0.036426</td>\n",
       "      <td>DecisionTree</td>\n",
       "    </tr>\n",
       "    <tr>\n",
       "      <th>9</th>\n",
       "      <td>0.823820</td>\n",
       "      <td>0.034671</td>\n",
       "      <td>LinearDiscriminantAnalysis</td>\n",
       "    </tr>\n",
       "    <tr>\n",
       "      <th>0</th>\n",
       "      <td>0.830524</td>\n",
       "      <td>0.034624</td>\n",
       "      <td>SVC</td>\n",
       "    </tr>\n",
       "    <tr>\n",
       "      <th>8</th>\n",
       "      <td>0.828290</td>\n",
       "      <td>0.032151</td>\n",
       "      <td>LogisticRegression</td>\n",
       "    </tr>\n",
       "    <tr>\n",
       "      <th>6</th>\n",
       "      <td>0.823820</td>\n",
       "      <td>0.027800</td>\n",
       "      <td>MultipleLayerPerceptron</td>\n",
       "    </tr>\n",
       "  </tbody>\n",
       "</table>\n",
       "</div>"
      ],
      "text/plain": [
       "   CrossValMeans  CrossValerrors                   Algorithm\n",
       "3       0.819351        0.049132                RandomForest\n",
       "2       0.802534        0.046828                    AdaBoost\n",
       "4       0.811498        0.043180                  ExtraTrees\n",
       "5       0.835031        0.041079            GradientBoosting\n",
       "7       0.820487        0.038221                 KNeighboors\n",
       "1       0.803670        0.036426                DecisionTree\n",
       "9       0.823820        0.034671  LinearDiscriminantAnalysis\n",
       "0       0.830524        0.034624                         SVC\n",
       "8       0.828290        0.032151          LogisticRegression\n",
       "6       0.823820        0.027800     MultipleLayerPerceptron"
      ]
     },
     "execution_count": 84,
     "metadata": {},
     "output_type": "execute_result"
    }
   ],
   "source": [
    "\n",
    "cv_result = pd.DataFrame({\"CrossValMeans\":cv_means,\"CrossValerrors\": cv_std,\"Algorithm\":[\"SVC\",\"DecisionTree\",\"AdaBoost\",\n",
    "\"RandomForest\",\"ExtraTrees\",\"GradientBoosting\",\"MultipleLayerPerceptron\",\"KNeighboors\",\"LogisticRegression\",\"LinearDiscriminantAnalysis\"]})\n",
    "cv_result.sort_values(by='CrossValerrors',ascending=False)\n"
   ]
  },
  {
   "cell_type": "code",
   "execution_count": 85,
   "id": "ff7c0363",
   "metadata": {
    "execution": {
     "iopub.execute_input": "2022-02-24T15:42:14.621799Z",
     "iopub.status.busy": "2022-02-24T15:42:14.620901Z",
     "iopub.status.idle": "2022-02-24T15:42:15.124403Z",
     "shell.execute_reply": "2022-02-24T15:42:15.125615Z",
     "shell.execute_reply.started": "2022-02-24T15:21:23.337925Z"
    },
    "papermill": {
     "duration": 0.655269,
     "end_time": "2022-02-24T15:42:15.125833",
     "exception": false,
     "start_time": "2022-02-24T15:42:14.470564",
     "status": "completed"
    },
    "tags": []
   },
   "outputs": [
    {
     "data": {
      "image/png": "[encoded data removed]",
      "text/plain": [
       "<Figure size 432x288 with 1 Axes>"
      ]
     },
     "metadata": {
      "needs_background": "light"
     },
     "output_type": "display_data"
    },
    {
     "data": {
      "image/png": "[encoded data removed]",
      "text/plain": [
       "<Figure size 432x288 with 1 Axes>"
      ]
     },
     "metadata": {
      "needs_background": "light"
     },
     "output_type": "display_data"
    }
   ],
   "source": [
    "sns.barplot(x='CrossValerrors',y='Algorithm',data=cv_result.sort_values(by='CrossValerrors',ascending=False))\n",
    "plt.show()\n",
    "sns.barplot(x='CrossValMeans',y='Algorithm',data=cv_result.sort_values(by='CrossValMeans',ascending=False),)\n",
    "plt.show()"
   ]
  },
  {
   "cell_type": "markdown",
   "id": "81217828",
   "metadata": {
    "papermill": {
     "duration": 0.195187,
     "end_time": "2022-02-24T15:42:15.590911",
     "exception": false,
     "start_time": "2022-02-24T15:42:15.395724",
     "status": "completed"
    },
    "tags": []
   },
   "source": [
    "\"\"\"Based on the above result we selected the best five models as base line models for further tuning or  hyperparameter optimization and creating Ensemble model for prediction \"\"\""
   ]
  },
  {
   "cell_type": "markdown",
   "id": "f7a8fa7e",
   "metadata": {
    "execution": {
     "iopub.execute_input": "2021-11-11T06:27:22.649873Z",
     "iopub.status.busy": "2021-11-11T06:27:22.649Z",
     "iopub.status.idle": "2021-11-11T06:27:22.654297Z",
     "shell.execute_reply": "2021-11-11T06:27:22.653483Z",
     "shell.execute_reply.started": "2021-11-11T06:27:22.649832Z"
    },
    "papermill": {
     "duration": 0.14364,
     "end_time": "2022-02-24T15:42:15.876490",
     "exception": false,
     "start_time": "2022-02-24T15:42:15.732850",
     "status": "completed"
    },
    "tags": []
   },
   "source": [
    "## Hyper Parameter Optimization"
   ]
  },
  {
   "cell_type": "markdown",
   "id": "bcf9c387",
   "metadata": {
    "papermill": {
     "duration": 0.142534,
     "end_time": "2022-02-24T15:42:16.163416",
     "exception": false,
     "start_time": "2022-02-24T15:42:16.020882",
     "status": "completed"
    },
    "tags": []
   },
   "source": [
    "#### Ada Boost"
   ]
  },
  {
   "cell_type": "code",
   "execution_count": 86,
   "id": "17847c27",
   "metadata": {
    "execution": {
     "iopub.execute_input": "2022-02-24T15:42:16.456980Z",
     "iopub.status.busy": "2022-02-24T15:42:16.456413Z",
     "iopub.status.idle": "2022-02-24T15:42:28.300027Z",
     "shell.execute_reply": "2022-02-24T15:42:28.300591Z",
     "shell.execute_reply.started": "2022-02-24T15:21:23.914599Z"
    },
    "papermill": {
     "duration": 11.994807,
     "end_time": "2022-02-24T15:42:28.300812",
     "exception": false,
     "start_time": "2022-02-24T15:42:16.306005",
     "status": "completed"
    },
    "tags": []
   },
   "outputs": [
    {
     "name": "stdout",
     "output_type": "stream",
     "text": [
      "Fitting 10 folds for each of 112 candidates, totalling 1120 fits\n"
     ]
    },
    {
     "name": "stderr",
     "output_type": "stream",
     "text": [
      "[Parallel(n_jobs=4)]: Using backend LokyBackend with 4 concurrent workers.\n",
      "[Parallel(n_jobs=4)]: Done 128 tasks      | elapsed:    2.0s\n",
      "[Parallel(n_jobs=4)]: Done 728 tasks      | elapsed:    7.6s\n",
      "[Parallel(n_jobs=4)]: Done 1120 out of 1120 | elapsed:   11.8s finished\n"
     ]
    },
    {
     "data": {
      "text/plain": [
       "0.8160174781523096"
      ]
     },
     "execution_count": 86,
     "metadata": {},
     "output_type": "execute_result"
    }
   ],
   "source": [
    "DTC = DecisionTreeClassifier()\n",
    "\n",
    "adaDTC = AdaBoostClassifier(DTC, random_state=7)\n",
    "\n",
    "ada_param_grid = {\"base_estimator__criterion\" : [\"gini\", \"entropy\"],\n",
    "              \"base_estimator__splitter\" :   [\"best\", \"random\"],\n",
    "              \"algorithm\" : [\"SAMME\",\"SAMME.R\"],\n",
    "              \"n_estimators\" :[1,2],\n",
    "              \"learning_rate\":  [0.0001, 0.001, 0.01, 0.1, 0.2, 0.3,1.5]}\n",
    "\n",
    "gsadaDTC = GridSearchCV(adaDTC,param_grid = ada_param_grid, cv=kfold, scoring=\"accuracy\", n_jobs= 4, verbose = 1)\n",
    "\n",
    "gsadaDTC.fit(X_train,Y_train)\n",
    "\n",
    "ada_best = gsadaDTC.best_estimator_\n",
    "gsadaDTC.best_score_"
   ]
  },
  {
   "cell_type": "markdown",
   "id": "28a992cf",
   "metadata": {
    "papermill": {
     "duration": 0.144228,
     "end_time": "2022-02-24T15:42:28.591751",
     "exception": false,
     "start_time": "2022-02-24T15:42:28.447523",
     "status": "completed"
    },
    "tags": []
   },
   "source": [
    "#### Extra tree Classifier"
   ]
  },
  {
   "cell_type": "code",
   "execution_count": 87,
   "id": "c5ade6dd",
   "metadata": {
    "execution": {
     "iopub.execute_input": "2022-02-24T15:42:28.887194Z",
     "iopub.status.busy": "2022-02-24T15:42:28.886353Z",
     "iopub.status.idle": "2022-02-24T15:44:35.439953Z",
     "shell.execute_reply": "2022-02-24T15:44:35.439422Z",
     "shell.execute_reply.started": "2022-02-24T15:21:37.957765Z"
    },
    "papermill": {
     "duration": 126.704952,
     "end_time": "2022-02-24T15:44:35.440088",
     "exception": false,
     "start_time": "2022-02-24T15:42:28.735136",
     "status": "completed"
    },
    "tags": []
   },
   "outputs": [
    {
     "name": "stdout",
     "output_type": "stream",
     "text": [
      "Fitting 10 folds for each of 54 candidates, totalling 540 fits\n"
     ]
    },
    {
     "name": "stderr",
     "output_type": "stream",
     "text": [
      "[Parallel(n_jobs=4)]: Using backend LokyBackend with 4 concurrent workers.\n",
      "[Parallel(n_jobs=4)]: Done  42 tasks      | elapsed:   11.3s\n",
      "[Parallel(n_jobs=4)]: Done 192 tasks      | elapsed:   43.0s\n",
      "[Parallel(n_jobs=4)]: Done 442 tasks      | elapsed:  1.7min\n",
      "[Parallel(n_jobs=4)]: Done 540 out of 540 | elapsed:  2.1min finished\n"
     ]
    },
    {
     "data": {
      "text/plain": [
       "0.8305243445692885"
      ]
     },
     "execution_count": 87,
     "metadata": {},
     "output_type": "execute_result"
    }
   ],
   "source": [
    "ExtC = ExtraTreesClassifier()\n",
    "## Search grid for optimal parameters\n",
    "ex_param_grid = {\"max_depth\": [None],\n",
    "              \"max_features\": [1, 3, 10],\n",
    "              \"min_samples_split\": [2, 3, 10],\n",
    "              \"min_samples_leaf\": [1, 3, 10],\n",
    "              \"bootstrap\": [False],\n",
    "              \"n_estimators\" :[100,300],\n",
    "              \"criterion\": [\"gini\"]}\n",
    "\n",
    "gsExtC = GridSearchCV(ExtC,param_grid = ex_param_grid, cv=kfold, scoring=\"accuracy\", n_jobs= 4, verbose = 1)\n",
    "\n",
    "gsExtC.fit(X_train,Y_train)\n",
    "\n",
    "ExtC_best = gsExtC.best_estimator_\n",
    "\n",
    "# Best score\n",
    "gsExtC.best_score_"
   ]
  },
  {
   "cell_type": "markdown",
   "id": "eb34d9f6",
   "metadata": {
    "papermill": {
     "duration": 0.145753,
     "end_time": "2022-02-24T15:44:35.732832",
     "exception": false,
     "start_time": "2022-02-24T15:44:35.587079",
     "status": "completed"
    },
    "tags": []
   },
   "source": [
    "#### SVC"
   ]
  },
  {
   "cell_type": "code",
   "execution_count": 88,
   "id": "31f4f5fa",
   "metadata": {
    "execution": {
     "iopub.execute_input": "2022-02-24T15:44:36.035075Z",
     "iopub.status.busy": "2022-02-24T15:44:36.034217Z",
     "iopub.status.idle": "2022-02-24T15:45:46.996524Z",
     "shell.execute_reply": "2022-02-24T15:45:46.996067Z",
     "shell.execute_reply.started": "2022-02-24T15:24:27.074599Z"
    },
    "papermill": {
     "duration": 71.116825,
     "end_time": "2022-02-24T15:45:46.996638",
     "exception": false,
     "start_time": "2022-02-24T15:44:35.879813",
     "status": "completed"
    },
    "tags": []
   },
   "outputs": [
    {
     "name": "stdout",
     "output_type": "stream",
     "text": [
      "Fitting 10 folds for each of 28 candidates, totalling 280 fits\n"
     ]
    },
    {
     "name": "stderr",
     "output_type": "stream",
     "text": [
      "[Parallel(n_jobs=4)]: Using backend LokyBackend with 4 concurrent workers.\n",
      "[Parallel(n_jobs=4)]: Done  42 tasks      | elapsed:    6.4s\n",
      "[Parallel(n_jobs=4)]: Done 192 tasks      | elapsed:   36.3s\n",
      "[Parallel(n_jobs=4)]: Done 280 out of 280 | elapsed:  1.2min finished\n"
     ]
    },
    {
     "data": {
      "text/plain": [
       "0.836167290886392"
      ]
     },
     "execution_count": 88,
     "metadata": {},
     "output_type": "execute_result"
    }
   ],
   "source": [
    "SVMC = SVC(probability=True)\n",
    "svc_param_grid = {'kernel': ['rbf'], \n",
    "                  'gamma': [ 0.001, 0.01, 0.1, 1],\n",
    "                  'C': [1, 10, 50, 100,200,300, 1000]}\n",
    "\n",
    "gsSVMC = GridSearchCV(SVMC,param_grid = svc_param_grid, cv=kfold, scoring=\"accuracy\", n_jobs= 4, verbose = 1)\n",
    "\n",
    "gsSVMC.fit(X_train,Y_train)\n",
    "SVMC_best = gsSVMC.best_estimator_\n",
    "gsSVMC.best_score_"
   ]
  },
  {
   "cell_type": "markdown",
   "id": "55756c1e",
   "metadata": {
    "papermill": {
     "duration": 0.147147,
     "end_time": "2022-02-24T15:45:47.294227",
     "exception": false,
     "start_time": "2022-02-24T15:45:47.147080",
     "status": "completed"
    },
    "tags": []
   },
   "source": [
    "#### RFC"
   ]
  },
  {
   "cell_type": "code",
   "execution_count": 89,
   "id": "bb973ebb",
   "metadata": {
    "execution": {
     "iopub.execute_input": "2022-02-24T15:45:47.599190Z",
     "iopub.status.busy": "2022-02-24T15:45:47.598359Z",
     "iopub.status.idle": "2022-02-24T15:48:04.982609Z",
     "shell.execute_reply": "2022-02-24T15:48:04.983068Z",
     "shell.execute_reply.started": "2022-02-24T15:25:49.535719Z"
    },
    "papermill": {
     "duration": 137.540966,
     "end_time": "2022-02-24T15:48:04.983244",
     "exception": false,
     "start_time": "2022-02-24T15:45:47.442278",
     "status": "completed"
    },
    "tags": []
   },
   "outputs": [
    {
     "name": "stdout",
     "output_type": "stream",
     "text": [
      "Fitting 10 folds for each of 54 candidates, totalling 540 fits\n"
     ]
    },
    {
     "name": "stderr",
     "output_type": "stream",
     "text": [
      "[Parallel(n_jobs=4)]: Using backend LokyBackend with 4 concurrent workers.\n",
      "[Parallel(n_jobs=4)]: Done  42 tasks      | elapsed:   12.0s\n",
      "[Parallel(n_jobs=4)]: Done 192 tasks      | elapsed:   44.7s\n",
      "[Parallel(n_jobs=4)]: Done 442 tasks      | elapsed:  1.8min\n",
      "[Parallel(n_jobs=4)]: Done 540 out of 540 | elapsed:  2.3min finished\n"
     ]
    }
   ],
   "source": [
    "\n",
    "RFC = RandomForestClassifier()\n",
    "\n",
    "\n",
    "## Search grid for optimal parameters\n",
    "rf_param_grid = {\"max_depth\": [None],\n",
    "              \"max_features\": [1, 3, 10],\n",
    "              \"min_samples_split\": [2, 3, 10],\n",
    "              \"min_samples_leaf\": [1, 3, 10],\n",
    "              \"bootstrap\": [False],\n",
    "              \"n_estimators\" :[100,300],\n",
    "              \"criterion\": [\"gini\"]}\n",
    "\n",
    "\n",
    "gsRFC = GridSearchCV(RFC,param_grid = rf_param_grid, cv=kfold, scoring=\"accuracy\", n_jobs= 4, verbose = 1)\n",
    "\n",
    "gsRFC.fit(X_train,Y_train)\n",
    "\n",
    "RFC_best = gsRFC.best_estimator_"
   ]
  },
  {
   "cell_type": "markdown",
   "id": "a6f4ace7",
   "metadata": {
    "papermill": {
     "duration": 0.151147,
     "end_time": "2022-02-24T15:48:05.285896",
     "exception": false,
     "start_time": "2022-02-24T15:48:05.134749",
     "status": "completed"
    },
    "tags": []
   },
   "source": [
    "#### Gradient Boosting"
   ]
  },
  {
   "cell_type": "code",
   "execution_count": 90,
   "id": "b7d3e192",
   "metadata": {
    "execution": {
     "iopub.execute_input": "2022-02-24T15:48:05.594644Z",
     "iopub.status.busy": "2022-02-24T15:48:05.594109Z",
     "iopub.status.idle": "2022-02-24T15:49:24.226960Z",
     "shell.execute_reply": "2022-02-24T15:49:24.227970Z",
     "shell.execute_reply.started": "2022-02-24T15:28:46.127547Z"
    },
    "papermill": {
     "duration": 78.79054,
     "end_time": "2022-02-24T15:49:24.228185",
     "exception": false,
     "start_time": "2022-02-24T15:48:05.437645",
     "status": "completed"
    },
    "tags": []
   },
   "outputs": [
    {
     "name": "stdout",
     "output_type": "stream",
     "text": [
      "Fitting 10 folds for each of 72 candidates, totalling 720 fits\n"
     ]
    },
    {
     "name": "stderr",
     "output_type": "stream",
     "text": [
      "[Parallel(n_jobs=4)]: Using backend LokyBackend with 4 concurrent workers.\n",
      "[Parallel(n_jobs=4)]: Done  42 tasks      | elapsed:    5.1s\n",
      "[Parallel(n_jobs=4)]: Done 192 tasks      | elapsed:   21.6s\n",
      "[Parallel(n_jobs=4)]: Done 442 tasks      | elapsed:   48.9s\n",
      "[Parallel(n_jobs=4)]: Done 720 out of 720 | elapsed:  1.3min finished\n"
     ]
    },
    {
     "data": {
      "text/plain": [
       "0.8316479400749064"
      ]
     },
     "execution_count": 90,
     "metadata": {},
     "output_type": "execute_result"
    }
   ],
   "source": [
    "GBC = GradientBoostingClassifier()\n",
    "gb_param_grid = {'loss' : [\"deviance\"],\n",
    "              'n_estimators' : [100,200,300],\n",
    "              'learning_rate': [0.1, 0.05, 0.01],\n",
    "              'max_depth': [4, 8],\n",
    "              'min_samples_leaf': [100,150],\n",
    "              'max_features': [0.3, 0.1] \n",
    "              }\n",
    "\n",
    "gsGBC = GridSearchCV(GBC,param_grid = gb_param_grid, cv=kfold, scoring=\"accuracy\", n_jobs= 4, verbose = 1)\n",
    "\n",
    "gsGBC.fit(X_train,Y_train)\n",
    "\n",
    "GBC_best = gsGBC.best_estimator_\n",
    "\n",
    "# Best score\n",
    "gsGBC.best_score_"
   ]
  },
  {
   "cell_type": "markdown",
   "id": "41def72f",
   "metadata": {
    "execution": {
     "iopub.execute_input": "2021-11-11T07:15:49.932622Z",
     "iopub.status.busy": "2021-11-11T07:15:49.931717Z",
     "iopub.status.idle": "2021-11-11T07:15:49.93651Z",
     "shell.execute_reply": "2021-11-11T07:15:49.935482Z",
     "shell.execute_reply.started": "2021-11-11T07:15:49.93258Z"
    },
    "papermill": {
     "duration": 0.150737,
     "end_time": "2022-02-24T15:49:24.622461",
     "exception": false,
     "start_time": "2022-02-24T15:49:24.471724",
     "status": "completed"
    },
    "tags": []
   },
   "source": [
    "## Ensemble Model Creation"
   ]
  },
  {
   "cell_type": "code",
   "execution_count": 91,
   "id": "9a88641c",
   "metadata": {
    "execution": {
     "iopub.execute_input": "2022-02-24T15:49:24.943264Z",
     "iopub.status.busy": "2022-02-24T15:49:24.942421Z",
     "iopub.status.idle": "2022-02-24T15:49:25.015984Z",
     "shell.execute_reply": "2022-02-24T15:49:25.015510Z",
     "shell.execute_reply.started": "2022-02-24T15:30:25.081821Z"
    },
    "papermill": {
     "duration": 0.242115,
     "end_time": "2022-02-24T15:49:25.016108",
     "exception": false,
     "start_time": "2022-02-24T15:49:24.773993",
     "status": "completed"
    },
    "tags": []
   },
   "outputs": [
    {
     "data": {
      "text/html": [
       "<div>\n",
       "<style scoped>\n",
       "    .dataframe tbody tr th:only-of-type {\n",
       "        vertical-align: middle;\n",
       "    }\n",
       "\n",
       "    .dataframe tbody tr th {\n",
       "        vertical-align: top;\n",
       "    }\n",
       "\n",
       "    .dataframe thead th {\n",
       "        text-align: right;\n",
       "    }\n",
       "</style>\n",
       "<table border=\"1\" class=\"dataframe\">\n",
       "  <thead>\n",
       "    <tr style=\"text-align: right;\">\n",
       "      <th></th>\n",
       "      <th>RFC</th>\n",
       "      <th>ExtC</th>\n",
       "      <th>Ada</th>\n",
       "      <th>GBC</th>\n",
       "      <th>SVC</th>\n",
       "    </tr>\n",
       "  </thead>\n",
       "  <tbody>\n",
       "    <tr>\n",
       "      <th>0</th>\n",
       "      <td>0</td>\n",
       "      <td>0</td>\n",
       "      <td>0</td>\n",
       "      <td>0</td>\n",
       "      <td>0</td>\n",
       "    </tr>\n",
       "    <tr>\n",
       "      <th>1</th>\n",
       "      <td>0</td>\n",
       "      <td>0</td>\n",
       "      <td>0</td>\n",
       "      <td>0</td>\n",
       "      <td>0</td>\n",
       "    </tr>\n",
       "    <tr>\n",
       "      <th>2</th>\n",
       "      <td>0</td>\n",
       "      <td>0</td>\n",
       "      <td>0</td>\n",
       "      <td>0</td>\n",
       "      <td>0</td>\n",
       "    </tr>\n",
       "  </tbody>\n",
       "</table>\n",
       "</div>"
      ],
      "text/plain": [
       "   RFC  ExtC  Ada  GBC  SVC\n",
       "0    0     0    0    0    0\n",
       "1    0     0    0    0    0\n",
       "2    0     0    0    0    0"
      ]
     },
     "execution_count": 91,
     "metadata": {},
     "output_type": "execute_result"
    }
   ],
   "source": [
    "test_Survived_RFC = pd.Series(RFC_best.predict(test), name=\"RFC\")\n",
    "test_Survived_ExtC = pd.Series(ExtC_best.predict(test), name=\"ExtC\")\n",
    "test_Survived_SVMC = pd.Series(SVMC_best.predict(test), name=\"SVC\")\n",
    "test_Survived_AdaC = pd.Series(ada_best.predict(test), name=\"Ada\")\n",
    "test_Survived_GBC = pd.Series(GBC_best.predict(test), name=\"GBC\")\n",
    "\n",
    "# Concatenate all classifier results\n",
    "ensemble_results = pd.concat([test_Survived_RFC,test_Survived_ExtC,test_Survived_AdaC,test_Survived_GBC, test_Survived_SVMC],axis=1)\n",
    "ensemble_results.head(3)"
   ]
  },
  {
   "cell_type": "code",
   "execution_count": 92,
   "id": "1693f1c8",
   "metadata": {
    "execution": {
     "iopub.execute_input": "2022-02-24T15:49:25.327823Z",
     "iopub.status.busy": "2022-02-24T15:49:25.327036Z",
     "iopub.status.idle": "2022-02-24T15:49:25.607745Z",
     "shell.execute_reply": "2022-02-24T15:49:25.607329Z",
     "shell.execute_reply.started": "2022-02-24T15:30:25.197272Z"
    },
    "papermill": {
     "duration": 0.438585,
     "end_time": "2022-02-24T15:49:25.607896",
     "exception": false,
     "start_time": "2022-02-24T15:49:25.169311",
     "status": "completed"
    },
    "tags": []
   },
   "outputs": [
    {
     "data": {
      "text/plain": [
       "<AxesSubplot:>"
      ]
     },
     "execution_count": 92,
     "metadata": {},
     "output_type": "execute_result"
    },
    {
     "data": {
      "image/png": "[encoded data removed]",
      "text/plain": [
       "<Figure size 432x288 with 2 Axes>"
      ]
     },
     "metadata": {
      "needs_background": "light"
     },
     "output_type": "display_data"
    }
   ],
   "source": [
    "sns.heatmap(ensemble_results.corr(),annot=True,cbar=True)"
   ]
  },
  {
   "cell_type": "code",
   "execution_count": 93,
   "id": "1fce8891",
   "metadata": {
    "execution": {
     "iopub.execute_input": "2022-02-24T15:49:25.922708Z",
     "iopub.status.busy": "2022-02-24T15:49:25.921706Z",
     "iopub.status.idle": "2022-02-24T15:49:26.935775Z",
     "shell.execute_reply": "2022-02-24T15:49:26.936269Z",
     "shell.execute_reply.started": "2022-02-24T15:30:25.578350Z"
    },
    "papermill": {
     "duration": 1.17457,
     "end_time": "2022-02-24T15:49:26.936429",
     "exception": false,
     "start_time": "2022-02-24T15:49:25.761859",
     "status": "completed"
    },
    "tags": []
   },
   "outputs": [],
   "source": [
    "votingC = VotingClassifier(estimators=[('rfc', RFC_best), ('extc', ExtC_best),\n",
    "('svc', SVMC_best), ('adac',ada_best),('gbc',GBC_best)], voting='soft', n_jobs=4)\n",
    "\n",
    "Ensemble_train = votingC.fit(X_train, Y_train)"
   ]
  },
  {
   "cell_type": "markdown",
   "id": "bc42faad",
   "metadata": {
    "papermill": {
     "duration": 0.153954,
     "end_time": "2022-02-24T15:49:27.245322",
     "exception": false,
     "start_time": "2022-02-24T15:49:27.091368",
     "status": "completed"
    },
    "tags": []
   },
   "source": [
    "# SUBMISSION."
   ]
  },
  {
   "cell_type": "code",
   "execution_count": 94,
   "id": "f3cef803",
   "metadata": {
    "execution": {
     "iopub.execute_input": "2022-02-24T15:49:27.563502Z",
     "iopub.status.busy": "2022-02-24T15:49:27.562661Z",
     "iopub.status.idle": "2022-02-24T15:49:27.632586Z",
     "shell.execute_reply": "2022-02-24T15:49:27.632153Z",
     "shell.execute_reply.started": "2022-02-24T15:36:13.144937Z"
    },
    "papermill": {
     "duration": 0.230261,
     "end_time": "2022-02-24T15:49:27.632706",
     "exception": false,
     "start_time": "2022-02-24T15:49:27.402445",
     "status": "completed"
    },
    "tags": []
   },
   "outputs": [],
   "source": [
    "output = pd.DataFrame({'PassengerId': IDtest, 'Survived': Ensemble_train.predict(test)})\n",
    "output.to_csv('submission.csv',index=False)"
   ]
  }
 ],
 "metadata": {
  "kernelspec": {
   "display_name": "Python 3",
   "language": "python",
   "name": "python3"
  },
  "language_info": {
   "codemirror_mode": {
    "name": "ipython",
    "version": 3
   },
   "file_extension": ".py",
   "mimetype": "text/x-python",
   "name": "python",
   "nbconvert_exporter": "python",
   "pygments_lexer": "ipython3",
   "version": "3.7.12"
  },
  "papermill": {
   "default_parameters": {},
   "duration": 531.424334,
   "end_time": "2022-02-24T15:49:28.497297",
   "environment_variables": {},
   "exception": null,
   "input_path": "__notebook__.ipynb",
   "output_path": "__notebook__.ipynb",
   "parameters": {},
   "start_time": "2022-02-24T15:40:37.072963",
   "version": "2.3.3"
  }
 },
 "nbformat": 4,
 "nbformat_minor": 5
}
